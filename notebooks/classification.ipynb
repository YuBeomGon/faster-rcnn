{
 "cells": [
  {
   "cell_type": "code",
   "execution_count": 1,
   "id": "unknown-updating",
   "metadata": {},
   "outputs": [],
   "source": [
    "import torch\n",
    "import torch.nn as nn\n",
    "import torchvision\n",
    "import time\n",
    "import os\n",
    "\n",
    "import numpy as np\n",
    "import matplotlib.pyplot as plt\n",
    "import pandas as pd\n",
    "\n",
    "from torch.utils.data import Dataset, DataLoader\n",
    "# from torch.utils.data.sampler import Sampler\n",
    "import torch.optim as optim\n",
    "import sys\n",
    "sys.path.append('../')\n",
    "\n",
    "from dataset import LbpDataset, train_transforms, val_transforms, test_transforms, collate_fn, get_data\n",
    "from visualize import visualize\n",
    "from rcnn_model import fasterrcnn_resnet18_fpn, fasterrcnn_resnet201_fpn, FastRCNNPredictor\n",
    "from engine import evaluate\n",
    "import utils"
   ]
  },
  {
   "cell_type": "code",
   "execution_count": 2,
   "id": "unknown-refrigerator",
   "metadata": {},
   "outputs": [],
   "source": [
    "from train_lbp import get_train_test_list"
   ]
  },
  {
   "cell_type": "code",
   "execution_count": 3,
   "id": "periodic-methodology",
   "metadata": {},
   "outputs": [],
   "source": [
    "import easydict \n",
    "args = easydict.EasyDict({ \"batch_size\": 2, \n",
    "                          \"epochs\": 50, \n",
    "                          \"data\": 0, \n",
    "                          'lr':0.1,\n",
    "                         'momentum':0.9,\n",
    "                         'weight_decay':1e-4,\n",
    "                         'start_epoch':0,\n",
    "                         'gpu':5,\n",
    "                          'workers':2,\n",
    "                         'output_dir' :'../trained_model/'})"
   ]
  },
  {
   "cell_type": "code",
   "execution_count": 4,
   "id": "alien-silly",
   "metadata": {},
   "outputs": [
    {
     "data": {
      "text/html": [
       "<div>\n",
       "<style scoped>\n",
       "    .dataframe tbody tr th:only-of-type {\n",
       "        vertical-align: middle;\n",
       "    }\n",
       "\n",
       "    .dataframe tbody tr th {\n",
       "        vertical-align: top;\n",
       "    }\n",
       "\n",
       "    .dataframe thead th {\n",
       "        text-align: right;\n",
       "    }\n",
       "</style>\n",
       "<table border=\"1\" class=\"dataframe\">\n",
       "  <thead>\n",
       "    <tr style=\"text-align: right;\">\n",
       "      <th></th>\n",
       "      <th>ID</th>\n",
       "      <th>file_name</th>\n",
       "      <th>task</th>\n",
       "      <th>bbox</th>\n",
       "      <th>xmin</th>\n",
       "      <th>ymin</th>\n",
       "      <th>w</th>\n",
       "      <th>h</th>\n",
       "      <th>label</th>\n",
       "      <th>occluded</th>\n",
       "      <th>des</th>\n",
       "      <th>cell_type</th>\n",
       "    </tr>\n",
       "  </thead>\n",
       "  <tbody>\n",
       "    <tr>\n",
       "      <th>0</th>\n",
       "      <td>0</td>\n",
       "      <td>patch_images/2021.01.12/LBC305-20210108(1)/LBC...</td>\n",
       "      <td>[ASCUS] LBC305</td>\n",
       "      <td>[56, 35, 1980, 1985]</td>\n",
       "      <td>56</td>\n",
       "      <td>35</td>\n",
       "      <td>1980</td>\n",
       "      <td>1985</td>\n",
       "      <td>판독불가</td>\n",
       "      <td>0</td>\n",
       "      <td>NaN</td>\n",
       "      <td>NaN</td>\n",
       "    </tr>\n",
       "    <tr>\n",
       "      <th>1</th>\n",
       "      <td>1</td>\n",
       "      <td>patch_images/2021.01.12/LBC305-20210108(1)/LBC...</td>\n",
       "      <td>[ASCUS] LBC305</td>\n",
       "      <td>[56, 30, 1912, 1937]</td>\n",
       "      <td>56</td>\n",
       "      <td>30</td>\n",
       "      <td>1912</td>\n",
       "      <td>1937</td>\n",
       "      <td>판독불가</td>\n",
       "      <td>0</td>\n",
       "      <td>NaN</td>\n",
       "      <td>NaN</td>\n",
       "    </tr>\n",
       "    <tr>\n",
       "      <th>2</th>\n",
       "      <td>2</td>\n",
       "      <td>patch_images/2021.01.12/LBC305-20210108(1)/LBC...</td>\n",
       "      <td>[ASCUS] LBC305</td>\n",
       "      <td>[21, 12, 2010, 2027]</td>\n",
       "      <td>21</td>\n",
       "      <td>12</td>\n",
       "      <td>2010</td>\n",
       "      <td>2027</td>\n",
       "      <td>판독불가</td>\n",
       "      <td>0</td>\n",
       "      <td>NaN</td>\n",
       "      <td>NaN</td>\n",
       "    </tr>\n",
       "    <tr>\n",
       "      <th>3</th>\n",
       "      <td>3</td>\n",
       "      <td>patch_images/2021.01.06/LBC37-20210102(1)/LBC3...</td>\n",
       "      <td>[ASCUS] LBC37</td>\n",
       "      <td>[1349, 420, 100, 113]</td>\n",
       "      <td>1349</td>\n",
       "      <td>420</td>\n",
       "      <td>100</td>\n",
       "      <td>113</td>\n",
       "      <td>ASC-US</td>\n",
       "      <td>0</td>\n",
       "      <td>NaN</td>\n",
       "      <td>Atypical squamous cells of undetermined signif...</td>\n",
       "    </tr>\n",
       "    <tr>\n",
       "      <th>4</th>\n",
       "      <td>4</td>\n",
       "      <td>patch_images/2021.01.06/LBC37-20210102(1)/LBC3...</td>\n",
       "      <td>[ASCUS] LBC37</td>\n",
       "      <td>[1575, 720, 163, 213]</td>\n",
       "      <td>1575</td>\n",
       "      <td>720</td>\n",
       "      <td>163</td>\n",
       "      <td>213</td>\n",
       "      <td>ASC-US</td>\n",
       "      <td>0</td>\n",
       "      <td>NaN</td>\n",
       "      <td>Atypical squamous cells of undetermined signif...</td>\n",
       "    </tr>\n",
       "  </tbody>\n",
       "</table>\n",
       "</div>"
      ],
      "text/plain": [
       "   ID                                          file_name            task  \\\n",
       "0   0  patch_images/2021.01.12/LBC305-20210108(1)/LBC...  [ASCUS] LBC305   \n",
       "1   1  patch_images/2021.01.12/LBC305-20210108(1)/LBC...  [ASCUS] LBC305   \n",
       "2   2  patch_images/2021.01.12/LBC305-20210108(1)/LBC...  [ASCUS] LBC305   \n",
       "3   3  patch_images/2021.01.06/LBC37-20210102(1)/LBC3...   [ASCUS] LBC37   \n",
       "4   4  patch_images/2021.01.06/LBC37-20210102(1)/LBC3...   [ASCUS] LBC37   \n",
       "\n",
       "                    bbox  xmin  ymin     w     h   label  occluded  des  \\\n",
       "0   [56, 35, 1980, 1985]    56    35  1980  1985    판독불가         0  NaN   \n",
       "1   [56, 30, 1912, 1937]    56    30  1912  1937    판독불가         0  NaN   \n",
       "2   [21, 12, 2010, 2027]    21    12  2010  2027    판독불가         0  NaN   \n",
       "3  [1349, 420, 100, 113]  1349   420   100   113  ASC-US         0  NaN   \n",
       "4  [1575, 720, 163, 213]  1575   720   163   213  ASC-US         0  NaN   \n",
       "\n",
       "                                           cell_type  \n",
       "0                                                NaN  \n",
       "1                                                NaN  \n",
       "2                                                NaN  \n",
       "3  Atypical squamous cells of undetermined signif...  \n",
       "4  Atypical squamous cells of undetermined signif...  "
      ]
     },
     "execution_count": 4,
     "metadata": {},
     "output_type": "execute_result"
    }
   ],
   "source": [
    "df = pd.read_csv('../../data/df.csv')\n",
    "df.head()\n",
    "#df.insert(0, 'ID', range(0, len(df)))\n",
    "#df.to_csv('../../data/df.csv', index=None)"
   ]
  },
  {
   "cell_type": "code",
   "execution_count": 5,
   "id": "legal-variable",
   "metadata": {},
   "outputs": [
    {
     "name": "stdout",
     "output_type": "stream",
     "text": [
      "total 4019 train 3014 test 1005\n",
      "3014\n",
      "1005\n"
     ]
    }
   ],
   "source": [
    "# Data loading code\n",
    "data_dir = '../../data/df.csv'\n",
    "train_list, test_list = get_train_test_list(data_dir)\n",
    "train_dataset = LbpDataset(train_list, transform=train_transforms)\n",
    "test_dataset = LbpDataset(test_list, transform=val_transforms)  "
   ]
  },
  {
   "cell_type": "code",
   "execution_count": 6,
   "id": "blind-prophet",
   "metadata": {},
   "outputs": [],
   "source": [
    "train_sampler = torch.utils.data.RandomSampler(train_dataset)\n",
    "test_sampler = torch.utils.data.SequentialSampler(test_dataset)\n",
    "\n",
    "train_loader = DataLoader(\n",
    "    train_dataset, batch_size=args.batch_size,\n",
    "    sampler=train_sampler, num_workers=args.workers,\n",
    "    collate_fn=utils.collate_fn)\n",
    "\n",
    "test_loader = DataLoader(\n",
    "    test_dataset, batch_size=args.batch_size,\n",
    "    sampler=test_sampler, num_workers=args.workers,\n",
    "    collate_fn=utils.collate_fn)"
   ]
  },
  {
   "cell_type": "code",
   "execution_count": 7,
   "id": "premier-remark",
   "metadata": {},
   "outputs": [],
   "source": [
    "# next(iter(train_loader))"
   ]
  },
  {
   "cell_type": "code",
   "execution_count": 8,
   "id": "quick-insulin",
   "metadata": {},
   "outputs": [
    {
     "name": "stdout",
     "output_type": "stream",
     "text": [
      "model is loaded to gpu\n"
     ]
    }
   ],
   "source": [
    "num_classes = 2\n",
    "model = fasterrcnn_resnet18_fpn(pretrained=False, min_size=2048, max_size=2048)\n",
    "in_features = model.roi_heads.box_predictor.cls_score.in_features\n",
    "model.roi_heads.box_predictor = FastRCNNPredictor(in_features, num_classes)\n",
    "device = torch.device('cuda')\n",
    "model.to(device)\n",
    "print('model is loaded to gpu')"
   ]
  },
  {
   "cell_type": "code",
   "execution_count": 9,
   "id": "ruled-associate",
   "metadata": {},
   "outputs": [],
   "source": [
    "params = [p for p in model.parameters() if p.requires_grad]\n",
    "# optimizer = torch.optim.Adam(params, lr=0.0001)\n",
    "optimizer = torch.optim.SGD(\n",
    "       params, lr=0.001, momentum=0.9, weight_decay=1e-4)\n",
    "lr_scheduler = torch.optim.lr_scheduler.MultiStepLR(optimizer, milestones=[20, 40, 60, 80], \n",
    "                                                    gamma=0.5)"
   ]
  },
  {
   "cell_type": "code",
   "execution_count": 10,
   "id": "united-actor",
   "metadata": {},
   "outputs": [
    {
     "name": "stdout",
     "output_type": "stream",
     "text": [
      "12\n"
     ]
    }
   ],
   "source": [
    "checkpoint = torch.load('../trained_model/model.pt')\n",
    "model.load_state_dict(checkpoint['model'])\n",
    "optimizer.load_state_dict(checkpoint['optimizer'])\n",
    "lr_scheduler.load_state_dict(checkpoint['lr_scheduler'])\n",
    "epoch = checkpoint['epoch']\n",
    "print(epoch)"
   ]
  },
  {
   "cell_type": "code",
   "execution_count": 11,
   "id": "informative-toronto",
   "metadata": {},
   "outputs": [],
   "source": [
    "# evaluate(model, test_loader, device=device) "
   ]
  },
  {
   "cell_type": "code",
   "execution_count": null,
   "id": "specific-falls",
   "metadata": {},
   "outputs": [
    {
     "name": "stdout",
     "output_type": "stream",
     "text": [
      "Epoch: [13]  [   0/1507]  eta: 1:33:42  lr: 0.001000  loss: 0.1024 (0.1024)  abcell: 0.0368 (0.0368)  loss_classifier: 0.0296 (0.0296)  loss_box_reg: 0.0077 (0.0077)  loss_objectness: 0.0272 (0.0272)  loss_rpn_box_reg: 0.0010 (0.0010)  time: 3.7312  data: 3.2414  max mem: 6693\n"
     ]
    }
   ],
   "source": [
    "from train_lbp import train_one_epoch\n",
    "\n",
    "start_time = time.time()\n",
    "for epoch in range(epoch+1, 100):\n",
    "    train_one_epoch(model, optimizer, train_loader, device, epoch, 400)\n",
    "    lr_scheduler.step()\n",
    "    \n",
    "    if epoch > 10 and epoch % 2 == 0 :\n",
    "        if args.output_dir:\n",
    "            checkpoint = {\n",
    "                'model': model.state_dict(),\n",
    "                'optimizer': optimizer.state_dict(),\n",
    "                'lr_scheduler': lr_scheduler.state_dict(),\n",
    "                'args': args,\n",
    "                'epoch': epoch\n",
    "            }\n",
    "            utils.save_on_master(\n",
    "                checkpoint,\n",
    "                os.path.join(args.output_dir, 'model_{}.pth'.format(epoch)))\n",
    "            utils.save_on_master(\n",
    "                checkpoint,\n",
    "                os.path.join(args.output_dir, 'checkpoint.pth'))\n",
    "\n",
    "        # evaluate after every epoch\n",
    "        evaluate(model, test_loader, device=device)    \n",
    "print('total time is {}'.format(time.time() - start_time))    "
   ]
  },
  {
   "cell_type": "code",
   "execution_count": null,
   "id": "cellular-dodge",
   "metadata": {},
   "outputs": [],
   "source": [
    "# checkpoint = {\n",
    "#     'model': model.state_dict(),\n",
    "#     'optimizer': optimizer.state_dict(),\n",
    "#     'lr_scheduler': lr_scheduler.state_dict(),\n",
    "#     'args': args,\n",
    "#     'epoch': epoch\n",
    "# }"
   ]
  },
  {
   "cell_type": "code",
   "execution_count": null,
   "id": "accurate-asbestos",
   "metadata": {},
   "outputs": [],
   "source": [
    "# torch.save(checkpoint, '../trained_model/model.pt')"
   ]
  },
  {
   "cell_type": "code",
   "execution_count": null,
   "id": "crazy-miniature",
   "metadata": {},
   "outputs": [],
   "source": [
    "# checkpoint = torch.load('../trained_model/model.pt')\n",
    "# # checkpoint['model']"
   ]
  },
  {
   "cell_type": "code",
   "execution_count": null,
   "id": "modular-sunrise",
   "metadata": {},
   "outputs": [],
   "source": [
    "# model.load_state_dict(checkpoint['model'])"
   ]
  },
  {
   "cell_type": "code",
   "execution_count": null,
   "id": "brown-evanescence",
   "metadata": {},
   "outputs": [],
   "source": []
  }
 ],
 "metadata": {
  "kernelspec": {
   "display_name": "pytorch_retina",
   "language": "python",
   "name": "pytorch_retina"
  },
  "language_info": {
   "codemirror_mode": {
    "name": "ipython",
    "version": 3
   },
   "file_extension": ".py",
   "mimetype": "text/x-python",
   "name": "python",
   "nbconvert_exporter": "python",
   "pygments_lexer": "ipython3",
   "version": "3.7.10"
  }
 },
 "nbformat": 4,
 "nbformat_minor": 5
}
