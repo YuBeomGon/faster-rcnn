{
 "cells": [
  {
   "cell_type": "code",
   "execution_count": 1,
   "id": "comparable-weekly",
   "metadata": {},
   "outputs": [],
   "source": [
    "import torch\n",
    "import torch.nn as nn\n",
    "import torchvision\n",
    "\n",
    "import numpy as np\n",
    "import matplotlib.pyplot as plt\n",
    "import pandas as pd\n",
    "import time\n",
    "import os\n",
    "\n",
    "from torch.utils.data import Dataset, DataLoader\n",
    "# from torch.utils.data.sampler import Sampler\n",
    "import torch.optim as optim\n",
    "import sys\n",
    "sys.path.append('../')\n",
    "\n",
    "from dataset import LbpDataset, train_transforms, val_transforms, test_transforms, collate_fn, get_data\n",
    "from visualize import visualize\n",
    "# from rcnn_model import fasterrcnn_resnet201_fpn, FastRCNNPredictor\n",
    "from cascade_rcnn import cascade_resnet50_fpn, FastRCNNPredictor\n",
    "from engine import evaluate\n",
    "import utils\n",
    "from train_lbp import get_train_test_list"
   ]
  },
  {
   "cell_type": "code",
   "execution_count": 2,
   "id": "engaged-budapest",
   "metadata": {},
   "outputs": [],
   "source": [
    "# model = cascade_resnet50_fpn(pretrained=False, min_size=1024, max_size=1024)"
   ]
  },
  {
   "cell_type": "code",
   "execution_count": 3,
   "id": "successful-court",
   "metadata": {},
   "outputs": [],
   "source": [
    "import easydict \n",
    "args = easydict.EasyDict({ \"batch_size\": 4, \n",
    "                          \"epochs\": 50, \n",
    "                          \"data\": 0, \n",
    "                          'lr':0.1,\n",
    "                         'momentum':0.9,\n",
    "                         'weight_decay':1e-4,\n",
    "                         'start_epoch':0,\n",
    "                         'gpu':5,\n",
    "                          'workers':2,\n",
    "                         'output_dir' :'../trained_model/cascadedrcnn_resnet50_fpn/'})"
   ]
  },
  {
   "cell_type": "code",
   "execution_count": 4,
   "id": "twenty-gallery",
   "metadata": {},
   "outputs": [
    {
     "name": "stdout",
     "output_type": "stream",
     "text": [
      "total 4019 train 3014 test 1005\n",
      "3014\n",
      "1005\n"
     ]
    }
   ],
   "source": [
    "df = pd.read_csv('../../data/df.csv')\n",
    "df.head()\n",
    "# Data loading code\n",
    "data_dir = '../../data/df.csv'\n",
    "train_list, test_list = get_train_test_list(data_dir)\n",
    "train_dataset = LbpDataset(train_list, transform=train_transforms)\n",
    "test_dataset = LbpDataset(test_list, transform=val_transforms)  "
   ]
  },
  {
   "cell_type": "code",
   "execution_count": 5,
   "id": "sufficient-douglas",
   "metadata": {},
   "outputs": [],
   "source": [
    "train_sampler = torch.utils.data.RandomSampler(train_dataset)\n",
    "test_sampler = torch.utils.data.SequentialSampler(test_dataset)\n",
    "\n",
    "train_loader = DataLoader(\n",
    "    train_dataset, batch_size=args.batch_size,\n",
    "    sampler=train_sampler, num_workers=args.workers,\n",
    "    collate_fn=utils.collate_fn)\n",
    "\n",
    "test_loader = DataLoader(\n",
    "    test_dataset, batch_size=args.batch_size,\n",
    "    sampler=test_sampler, num_workers=args.workers,\n",
    "    collate_fn=utils.collate_fn)"
   ]
  },
  {
   "cell_type": "code",
   "execution_count": 6,
   "id": "chemical-thought",
   "metadata": {},
   "outputs": [
    {
     "name": "stdout",
     "output_type": "stream",
     "text": [
      "trainable_backbone_layers  3\n",
      "model is loaded to gpu\n"
     ]
    }
   ],
   "source": [
    "num_classes = 2\n",
    "model = cascade_resnet50_fpn(pretrained=True, min_size=1024, max_size=1024)\n",
    "in_features = model.roi_heads.box_predictor.cls_score.in_features\n",
    "model.roi_heads.box_predictor = FastRCNNPredictor(in_features, num_classes)\n",
    "in_features = model.roi_heads2.box_predictor.cls_score.in_features\n",
    "model.roi_heads2.box_predictor = FastRCNNPredictor(in_features, num_classes)\n",
    "device = torch.device('cuda')\n",
    "model.to(device)\n",
    "print('model is loaded to gpu')"
   ]
  },
  {
   "cell_type": "code",
   "execution_count": 7,
   "id": "included-russia",
   "metadata": {},
   "outputs": [],
   "source": [
    "# from torch.hub import load_state_dict_from_url\n",
    "# model_urls = {\n",
    "#     'fasterrcnn_resnet50_fpn_coco':\n",
    "#         'https://download.pytorch.org/models/fasterrcnn_resnet50_fpn_coco-258fb6c6.pth',\n",
    "#     'fasterrcnn_mobilenet_v3_large_320_fpn_coco':\n",
    "#         'https://download.pytorch.org/models/fasterrcnn_mobilenet_v3_large_320_fpn-907ea3f9.pth',\n",
    "#     'fasterrcnn_mobilenet_v3_large_fpn_coco':\n",
    "#         'https://download.pytorch.org/models/fasterrcnn_mobilenet_v3_large_fpn-fb6a3cc7.pth'\n",
    "# }\n",
    "# state_dict = load_state_dict_from_url(model_urls[\"fasterrcnn_resnet50_fpn_coco\"], progress=False)"
   ]
  },
  {
   "cell_type": "code",
   "execution_count": 8,
   "id": "turned-giving",
   "metadata": {},
   "outputs": [],
   "source": [
    "# checkpoint = torch.load('../trained_model/cascadedrcnn_resnet50_fpn/checkpoint.pth')\n",
    "# model.load_state_dict(checkpoint['model'])"
   ]
  },
  {
   "cell_type": "code",
   "execution_count": 9,
   "id": "suspended-typing",
   "metadata": {},
   "outputs": [],
   "source": [
    "params = [p for p in model.parameters() if p.requires_grad]\n",
    "# optimizer = torch.optim.Adam(params, lr=0.0001)\n",
    "optimizer = torch.optim.SGD(\n",
    "       params, lr=0.001, momentum=0.9, weight_decay=1e-4)\n",
    "lr_scheduler = torch.optim.lr_scheduler.MultiStepLR(optimizer, milestones=[20, 40, 60, 80, 100], \n",
    "                                                    gamma=0.5)"
   ]
  },
  {
   "cell_type": "code",
   "execution_count": null,
   "id": "canadian-material",
   "metadata": {},
   "outputs": [
    {
     "name": "stdout",
     "output_type": "stream",
     "text": [
      "Epoch: [0]  [  0/754]  eta: 0:15:37  lr: 0.001000  loss: 6.1467 (6.1467)  loss_classifier: 0.3744 (0.3744)  loss_box_reg: 0.0083 (0.0083)  loss_objectness: 5.0485 (5.0485)  loss_rpn_box_reg: 0.7155 (0.7155)  time: 1.2432  data: 0.7607  max mem: 4858\n",
      "Epoch: [0]  [753/754]  eta: 0:00:00  lr: 0.001000  loss: 0.9716 (1.0040)  loss_classifier: 0.1112 (0.0982)  loss_box_reg: 0.0993 (0.0900)  loss_objectness: 0.3644 (0.4513)  loss_rpn_box_reg: 0.3360 (0.3645)  time: 0.4719  data: 0.0093  max mem: 5123\n",
      "Epoch: [0] Total time: 0:06:01 (0.4790 s / it)\n",
      "Epoch: [1]  [  0/754]  eta: 0:14:59  lr: 0.001000  loss: 1.0970 (1.0970)  loss_classifier: 0.1408 (0.1408)  loss_box_reg: 0.1485 (0.1485)  loss_objectness: 0.4594 (0.4594)  loss_rpn_box_reg: 0.3483 (0.3483)  time: 1.1926  data: 0.7262  max mem: 5123\n",
      "Epoch: [1]  [753/754]  eta: 0:00:00  lr: 0.001000  loss: 0.8421 (0.9369)  loss_classifier: 0.1003 (0.1045)  loss_box_reg: 0.0978 (0.0993)  loss_objectness: 0.3199 (0.4049)  loss_rpn_box_reg: 0.3096 (0.3282)  time: 0.4701  data: 0.0096  max mem: 5123\n",
      "Epoch: [1] Total time: 0:06:04 (0.4836 s / it)\n",
      "Epoch: [2]  [  0/754]  eta: 0:14:55  lr: 0.001000  loss: 0.6859 (0.6859)  loss_classifier: 0.0682 (0.0682)  loss_box_reg: 0.0478 (0.0478)  loss_objectness: 0.3519 (0.3519)  loss_rpn_box_reg: 0.2179 (0.2179)  time: 1.1874  data: 0.7137  max mem: 5123\n",
      "Epoch: [2]  [753/754]  eta: 0:00:00  lr: 0.001000  loss: 0.8310 (0.9264)  loss_classifier: 0.0867 (0.1022)  loss_box_reg: 0.0675 (0.0957)  loss_objectness: 0.3337 (0.4029)  loss_rpn_box_reg: 0.3110 (0.3256)  time: 0.4714  data: 0.0094  max mem: 5123\n",
      "Epoch: [2] Total time: 0:06:05 (0.4846 s / it)\n",
      "Epoch: [3]  [  0/754]  eta: 0:14:50  lr: 0.001000  loss: 0.7873 (0.7873)  loss_classifier: 0.0804 (0.0804)  loss_box_reg: 0.0658 (0.0658)  loss_objectness: 0.3148 (0.3148)  loss_rpn_box_reg: 0.3264 (0.3264)  time: 1.1809  data: 0.7084  max mem: 5123\n",
      "Epoch: [3]  [753/754]  eta: 0:00:00  lr: 0.001000  loss: 0.9414 (0.9201)  loss_classifier: 0.0921 (0.1020)  loss_box_reg: 0.0789 (0.0947)  loss_objectness: 0.3759 (0.4016)  loss_rpn_box_reg: 0.3368 (0.3218)  time: 0.4715  data: 0.0100  max mem: 5123\n",
      "Epoch: [3] Total time: 0:06:05 (0.4850 s / it)\n",
      "Epoch: [4]  [  0/754]  eta: 0:15:34  lr: 0.001000  loss: 0.7652 (0.7652)  loss_classifier: 0.0715 (0.0715)  loss_box_reg: 0.0487 (0.0487)  loss_objectness: 0.3353 (0.3353)  loss_rpn_box_reg: 0.3097 (0.3097)  time: 1.2396  data: 0.7724  max mem: 5123\n",
      "Epoch: [4]  [753/754]  eta: 0:00:00  lr: 0.001000  loss: 0.9214 (0.9126)  loss_classifier: 0.0876 (0.0991)  loss_box_reg: 0.0766 (0.0916)  loss_objectness: 0.3927 (0.4000)  loss_rpn_box_reg: 0.3401 (0.3219)  time: 0.4759  data: 0.0097  max mem: 5123\n",
      "Epoch: [4] Total time: 0:06:05 (0.4854 s / it)\n",
      "Epoch: [5]  [  0/754]  eta: 0:15:41  lr: 0.001000  loss: 1.0633 (1.0633)  loss_classifier: 0.1245 (0.1245)  loss_box_reg: 0.1089 (0.1089)  loss_objectness: 0.4948 (0.4948)  loss_rpn_box_reg: 0.3350 (0.3350)  time: 1.2483  data: 0.7749  max mem: 5123\n",
      "Epoch: [5]  [753/754]  eta: 0:00:00  lr: 0.001000  loss: 0.7804 (0.8608)  loss_classifier: 0.0830 (0.0889)  loss_box_reg: 0.0824 (0.0822)  loss_objectness: 0.3207 (0.3828)  loss_rpn_box_reg: 0.2940 (0.3069)  time: 0.4681  data: 0.0098  max mem: 5123\n",
      "Epoch: [5] Total time: 0:06:04 (0.4831 s / it)\n",
      "Epoch: [6]  [  0/754]  eta: 0:14:34  lr: 0.001000  loss: 1.0215 (1.0215)  loss_classifier: 0.0898 (0.0898)  loss_box_reg: 0.1164 (0.1164)  loss_objectness: 0.5277 (0.5277)  loss_rpn_box_reg: 0.2876 (0.2876)  time: 1.1596  data: 0.6950  max mem: 5123\n",
      "Epoch: [6]  [753/754]  eta: 0:00:00  lr: 0.001000  loss: 0.7334 (0.7935)  loss_classifier: 0.0956 (0.0806)  loss_box_reg: 0.0949 (0.0783)  loss_objectness: 0.2649 (0.3451)  loss_rpn_box_reg: 0.2636 (0.2895)  time: 0.4695  data: 0.0096  max mem: 5123\n",
      "Epoch: [6] Total time: 0:06:02 (0.4814 s / it)\n",
      "Epoch: [7]  [  0/754]  eta: 0:14:58  lr: 0.001000  loss: 0.7412 (0.7412)  loss_classifier: 0.1026 (0.1026)  loss_box_reg: 0.1328 (0.1328)  loss_objectness: 0.2550 (0.2550)  loss_rpn_box_reg: 0.2509 (0.2509)  time: 1.1916  data: 0.7175  max mem: 5123\n",
      "Epoch: [7]  [753/754]  eta: 0:00:00  lr: 0.001000  loss: 0.8635 (0.8267)  loss_classifier: 0.0852 (0.0839)  loss_box_reg: 0.0681 (0.0777)  loss_objectness: 0.3305 (0.3635)  loss_rpn_box_reg: 0.3120 (0.3017)  time: 0.4688  data: 0.0096  max mem: 5123\n",
      "Epoch: [7] Total time: 0:06:03 (0.4816 s / it)\n",
      "Epoch: [8]  [  0/754]  eta: 0:15:08  lr: 0.001000  loss: 0.7950 (0.7950)  loss_classifier: 0.0756 (0.0756)  loss_box_reg: 0.0749 (0.0749)  loss_objectness: 0.3093 (0.3093)  loss_rpn_box_reg: 0.3352 (0.3352)  time: 1.2044  data: 0.7338  max mem: 5123\n",
      "Epoch: [8]  [753/754]  eta: 0:00:00  lr: 0.001000  loss: 0.6994 (0.8129)  loss_classifier: 0.0681 (0.0800)  loss_box_reg: 0.0663 (0.0724)  loss_objectness: 0.2826 (0.3639)  loss_rpn_box_reg: 0.2701 (0.2966)  time: 0.4699  data: 0.0098  max mem: 5123\n",
      "Epoch: [8] Total time: 0:06:03 (0.4819 s / it)\n",
      "Epoch: [9]  [  0/754]  eta: 0:15:03  lr: 0.001000  loss: 0.7283 (0.7283)  loss_classifier: 0.1069 (0.1069)  loss_box_reg: 0.1236 (0.1236)  loss_objectness: 0.2278 (0.2278)  loss_rpn_box_reg: 0.2701 (0.2701)  time: 1.1977  data: 0.7306  max mem: 5123\n",
      "Epoch: [9]  [753/754]  eta: 0:00:00  lr: 0.001000  loss: 0.7447 (0.7976)  loss_classifier: 0.0816 (0.0784)  loss_box_reg: 0.0751 (0.0720)  loss_objectness: 0.2842 (0.3556)  loss_rpn_box_reg: 0.2883 (0.2916)  time: 0.4699  data: 0.0098  max mem: 5123\n",
      "Epoch: [9] Total time: 0:06:03 (0.4818 s / it)\n",
      "Epoch: [10]  [  0/754]  eta: 0:15:07  lr: 0.001000  loss: 0.7333 (0.7333)  loss_classifier: 0.0460 (0.0460)  loss_box_reg: 0.0314 (0.0314)  loss_objectness: 0.3464 (0.3464)  loss_rpn_box_reg: 0.3095 (0.3095)  time: 1.2038  data: 0.7397  max mem: 5123\n",
      "Epoch: [10]  [753/754]  eta: 0:00:00  lr: 0.001000  loss: 0.6837 (0.7842)  loss_classifier: 0.0798 (0.0806)  loss_box_reg: 0.0819 (0.0751)  loss_objectness: 0.2490 (0.3410)  loss_rpn_box_reg: 0.2634 (0.2874)  time: 0.4696  data: 0.0097  max mem: 5123\n",
      "Epoch: [10] Total time: 0:06:02 (0.4813 s / it)\n",
      "Epoch: [11]  [  0/754]  eta: 0:15:07  lr: 0.001000  loss: 0.6900 (0.6900)  loss_classifier: 0.0521 (0.0521)  loss_box_reg: 0.0405 (0.0405)  loss_objectness: 0.3400 (0.3400)  loss_rpn_box_reg: 0.2574 (0.2574)  time: 1.2042  data: 0.7369  max mem: 5123\n",
      "Epoch: [11]  [753/754]  eta: 0:00:00  lr: 0.001000  loss: 0.6516 (0.7612)  loss_classifier: 0.0862 (0.0827)  loss_box_reg: 0.0823 (0.0787)  loss_objectness: 0.2392 (0.3224)  loss_rpn_box_reg: 0.2433 (0.2773)  time: 0.4692  data: 0.0097  max mem: 5123\n",
      "Epoch: [11] Total time: 0:06:03 (0.4815 s / it)\n",
      "Epoch: [12]  [  0/754]  eta: 0:15:06  lr: 0.001000  loss: 0.6277 (0.6277)  loss_classifier: 0.0661 (0.0661)  loss_box_reg: 0.0643 (0.0643)  loss_objectness: 0.2594 (0.2594)  loss_rpn_box_reg: 0.2378 (0.2378)  time: 1.2022  data: 0.7272  max mem: 5123\n",
      "Epoch: [12]  [753/754]  eta: 0:00:00  lr: 0.001000  loss: 0.6719 (0.7671)  loss_classifier: 0.0796 (0.0807)  loss_box_reg: 0.0840 (0.0752)  loss_objectness: 0.2308 (0.3312)  loss_rpn_box_reg: 0.2458 (0.2800)  time: 0.4696  data: 0.0096  max mem: 5123\n",
      "Epoch: [12] Total time: 0:06:03 (0.4817 s / it)\n",
      "Epoch: [13]  [  0/754]  eta: 0:14:52  lr: 0.001000  loss: 0.6382 (0.6382)  loss_classifier: 0.0614 (0.0614)  loss_box_reg: 0.0560 (0.0560)  loss_objectness: 0.2740 (0.2740)  loss_rpn_box_reg: 0.2469 (0.2469)  time: 1.1832  data: 0.7137  max mem: 5123\n",
      "Epoch: [13]  [753/754]  eta: 0:00:00  lr: 0.001000  loss: 0.8844 (0.7915)  loss_classifier: 0.1086 (0.0824)  loss_box_reg: 0.1071 (0.0758)  loss_objectness: 0.3270 (0.3448)  loss_rpn_box_reg: 0.3137 (0.2884)  time: 0.4690  data: 0.0097  max mem: 5123\n",
      "Epoch: [13] Total time: 0:06:03 (0.4821 s / it)\n",
      "Epoch: [14]  [  0/754]  eta: 0:15:28  lr: 0.001000  loss: 0.9813 (0.9813)  loss_classifier: 0.0486 (0.0486)  loss_box_reg: 0.0224 (0.0224)  loss_objectness: 0.6167 (0.6167)  loss_rpn_box_reg: 0.2935 (0.2935)  time: 1.2317  data: 0.7597  max mem: 5123\n",
      "Epoch: [14]  [753/754]  eta: 0:00:00  lr: 0.001000  loss: 0.7427 (0.8210)  loss_classifier: 0.0689 (0.0830)  loss_box_reg: 0.0582 (0.0756)  loss_objectness: 0.3447 (0.3677)  loss_rpn_box_reg: 0.2794 (0.2947)  time: 0.4682  data: 0.0100  max mem: 5123\n",
      "Epoch: [14] Total time: 0:06:03 (0.4820 s / it)\n",
      "Epoch: [15]  [  0/754]  eta: 0:15:07  lr: 0.001000  loss: 1.7304 (1.7304)  loss_classifier: 0.0687 (0.0687)  loss_box_reg: 0.0782 (0.0782)  loss_objectness: 0.5780 (0.5780)  loss_rpn_box_reg: 1.0056 (1.0056)  time: 1.2040  data: 0.7314  max mem: 5123\n",
      "Epoch: [15]  [753/754]  eta: 0:00:00  lr: 0.001000  loss: 0.7035 (0.7738)  loss_classifier: 0.0721 (0.0785)  loss_box_reg: 0.0671 (0.0711)  loss_objectness: 0.2540 (0.3413)  loss_rpn_box_reg: 0.2643 (0.2829)  time: 0.4694  data: 0.0099  max mem: 5123\n",
      "Epoch: [15] Total time: 0:06:03 (0.4825 s / it)\n",
      "Epoch: [16]  [  0/754]  eta: 0:15:16  lr: 0.001000  loss: 0.9338 (0.9338)  loss_classifier: 0.0484 (0.0484)  loss_box_reg: 0.0348 (0.0348)  loss_objectness: 0.5510 (0.5510)  loss_rpn_box_reg: 0.2996 (0.2996)  time: 1.2162  data: 0.7510  max mem: 5123\n",
      "Epoch: [16]  [753/754]  eta: 0:00:00  lr: 0.001000  loss: 0.8341 (0.8415)  loss_classifier: 0.0567 (0.0779)  loss_box_reg: 0.0396 (0.0673)  loss_objectness: 0.3379 (0.3904)  loss_rpn_box_reg: 0.3110 (0.3059)  time: 0.4683  data: 0.0099  max mem: 5123\n",
      "Epoch: [16] Total time: 0:06:03 (0.4820 s / it)\n",
      "Epoch: [17]  [  0/754]  eta: 0:15:32  lr: 0.001000  loss: 0.8594 (0.8594)  loss_classifier: 0.0894 (0.0894)  loss_box_reg: 0.0861 (0.0861)  loss_objectness: 0.3156 (0.3156)  loss_rpn_box_reg: 0.3683 (0.3683)  time: 1.2365  data: 0.7651  max mem: 5123\n",
      "Epoch: [17]  [753/754]  eta: 0:00:00  lr: 0.001000  loss: 0.8035 (0.7989)  loss_classifier: 0.0805 (0.0803)  loss_box_reg: 0.0631 (0.0721)  loss_objectness: 0.3466 (0.3546)  loss_rpn_box_reg: 0.2991 (0.2919)  time: 0.4672  data: 0.0096  max mem: 5123\n",
      "Epoch: [17] Total time: 0:06:03 (0.4816 s / it)\n",
      "Epoch: [18]  [  0/754]  eta: 0:14:43  lr: 0.001000  loss: 0.7439 (0.7439)  loss_classifier: 0.1072 (0.1072)  loss_box_reg: 0.1063 (0.1063)  loss_objectness: 0.3030 (0.3030)  loss_rpn_box_reg: 0.2274 (0.2274)  time: 1.1719  data: 0.7019  max mem: 5123\n",
      "Epoch: [18]  [753/754]  eta: 0:00:00  lr: 0.001000  loss: 0.8441 (0.7337)  loss_classifier: 0.0770 (0.0779)  loss_box_reg: 0.0669 (0.0715)  loss_objectness: 0.4097 (0.3145)  loss_rpn_box_reg: 0.2995 (0.2698)  time: 0.4690  data: 0.0098  max mem: 5123\n",
      "Epoch: [18] Total time: 0:06:03 (0.4818 s / it)\n",
      "Epoch: [19]  [  0/754]  eta: 0:15:08  lr: 0.001000  loss: 0.7587 (0.7587)  loss_classifier: 0.0768 (0.0768)  loss_box_reg: 0.0607 (0.0607)  loss_objectness: 0.3184 (0.3184)  loss_rpn_box_reg: 0.3029 (0.3029)  time: 1.2045  data: 0.7383  max mem: 5123\n",
      "Epoch: [19]  [753/754]  eta: 0:00:00  lr: 0.001000  loss: 0.7384 (0.7482)  loss_classifier: 0.0806 (0.0771)  loss_box_reg: 0.0724 (0.0701)  loss_objectness: 0.2892 (0.3268)  loss_rpn_box_reg: 0.2766 (0.2741)  time: 0.4710  data: 0.0099  max mem: 5123\n",
      "Epoch: [19] Total time: 0:06:03 (0.4816 s / it)\n",
      "Epoch: [20]  [  0/754]  eta: 0:15:04  lr: 0.000500  loss: 0.7008 (0.7008)  loss_classifier: 0.0650 (0.0650)  loss_box_reg: 0.0525 (0.0525)  loss_objectness: 0.3359 (0.3359)  loss_rpn_box_reg: 0.2474 (0.2474)  time: 1.1993  data: 0.7250  max mem: 5123\n",
      "Epoch: [20]  [753/754]  eta: 0:00:00  lr: 0.000500  loss: 0.6054 (0.6761)  loss_classifier: 0.0702 (0.0786)  loss_box_reg: 0.0629 (0.0727)  loss_objectness: 0.2457 (0.2729)  loss_rpn_box_reg: 0.2400 (0.2518)  time: 0.4694  data: 0.0101  max mem: 5123\n",
      "Epoch: [20] Total time: 0:06:03 (0.4821 s / it)\n",
      "Epoch: [21]  [  0/754]  eta: 0:15:15  lr: 0.000500  loss: 0.6723 (0.6723)  loss_classifier: 0.1058 (0.1058)  loss_box_reg: 0.1222 (0.1222)  loss_objectness: 0.2359 (0.2359)  loss_rpn_box_reg: 0.2084 (0.2084)  time: 1.2140  data: 0.7402  max mem: 5123\n",
      "Epoch: [21]  [753/754]  eta: 0:00:00  lr: 0.000500  loss: 0.6179 (0.6546)  loss_classifier: 0.0771 (0.0799)  loss_box_reg: 0.0760 (0.0757)  loss_objectness: 0.2196 (0.2553)  loss_rpn_box_reg: 0.2382 (0.2438)  time: 0.4691  data: 0.0096  max mem: 5123\n",
      "Epoch: [21] Total time: 0:06:03 (0.4816 s / it)\n",
      "Epoch: [22]  [  0/754]  eta: 0:15:15  lr: 0.000500  loss: 0.5897 (0.5897)  loss_classifier: 0.0948 (0.0948)  loss_box_reg: 0.1016 (0.1016)  loss_objectness: 0.1810 (0.1810)  loss_rpn_box_reg: 0.2123 (0.2123)  time: 1.2144  data: 0.7408  max mem: 5123\n",
      "Epoch: [22]  [753/754]  eta: 0:00:00  lr: 0.000500  loss: 0.6556 (0.6857)  loss_classifier: 0.0794 (0.0794)  loss_box_reg: 0.0907 (0.0754)  loss_objectness: 0.2214 (0.2799)  loss_rpn_box_reg: 0.2537 (0.2510)  time: 0.4696  data: 0.0098  max mem: 5123\n",
      "Epoch: [22] Total time: 0:06:03 (0.4822 s / it)\n",
      "Epoch: [23]  [  0/754]  eta: 0:15:06  lr: 0.000500  loss: 0.5840 (0.5840)  loss_classifier: 0.0489 (0.0489)  loss_box_reg: 0.0320 (0.0320)  loss_objectness: 0.2735 (0.2735)  loss_rpn_box_reg: 0.2297 (0.2297)  time: 1.2029  data: 0.7274  max mem: 5123\n",
      "Epoch: [23]  [753/754]  eta: 0:00:00  lr: 0.000500  loss: 0.6222 (0.7563)  loss_classifier: 0.0814 (0.0874)  loss_box_reg: 0.0811 (0.0836)  loss_objectness: 0.2359 (0.3156)  loss_rpn_box_reg: 0.2173 (0.2697)  time: 0.4703  data: 0.0098  max mem: 5123\n",
      "Epoch: [23] Total time: 0:06:04 (0.4834 s / it)\n",
      "Epoch: [24]  [  0/754]  eta: 0:15:06  lr: 0.000500  loss: 0.7538 (0.7538)  loss_classifier: 0.0620 (0.0620)  loss_box_reg: 0.0449 (0.0449)  loss_objectness: 0.3490 (0.3490)  loss_rpn_box_reg: 0.2979 (0.2979)  time: 1.2022  data: 0.7363  max mem: 5123\n",
      "Epoch: [24]  [753/754]  eta: 0:00:00  lr: 0.000500  loss: 0.8041 (0.7563)  loss_classifier: 0.0707 (0.0750)  loss_box_reg: 0.0563 (0.0655)  loss_objectness: 0.3397 (0.3359)  loss_rpn_box_reg: 0.3150 (0.2799)  time: 0.4868  data: 0.0100  max mem: 5123\n",
      "Epoch: [24] Total time: 0:06:05 (0.4845 s / it)\n",
      "Epoch: [25]  [  0/754]  eta: 0:15:45  lr: 0.000500  loss: 0.7175 (0.7175)  loss_classifier: 0.0599 (0.0599)  loss_box_reg: 0.0483 (0.0483)  loss_objectness: 0.3165 (0.3165)  loss_rpn_box_reg: 0.2929 (0.2929)  time: 1.2543  data: 0.7696  max mem: 5123\n",
      "Epoch: [25]  [753/754]  eta: 0:00:00  lr: 0.000500  loss: 0.8100 (0.8934)  loss_classifier: 0.0789 (0.0931)  loss_box_reg: 0.0613 (0.0828)  loss_objectness: 0.3306 (0.4029)  loss_rpn_box_reg: 0.3028 (0.3146)  time: 0.5115  data: 0.0106  max mem: 5123\n",
      "Epoch: [25] Total time: 0:06:20 (0.5051 s / it)\n",
      "Epoch: [26]  [  0/754]  eta: 0:14:49  lr: 0.000500  loss: 0.8671 (0.8671)  loss_classifier: 0.1105 (0.1105)  loss_box_reg: 0.0948 (0.0948)  loss_objectness: 0.3126 (0.3126)  loss_rpn_box_reg: 0.3493 (0.3493)  time: 1.1799  data: 0.7089  max mem: 5123\n",
      "Epoch: [26]  [753/754]  eta: 0:00:00  lr: 0.000500  loss: 0.8119 (0.9057)  loss_classifier: 0.0677 (0.0992)  loss_box_reg: 0.0456 (0.0904)  loss_objectness: 0.4420 (0.4019)  loss_rpn_box_reg: 0.3010 (0.3143)  time: 0.4912  data: 0.0106  max mem: 5123\n",
      "Epoch: [26] Total time: 0:06:11 (0.4930 s / it)\n",
      "Epoch: [27]  [  0/754]  eta: 0:15:49  lr: 0.000500  loss: 0.7861 (0.7861)  loss_classifier: 0.0993 (0.0993)  loss_box_reg: 0.0860 (0.0860)  loss_objectness: 0.3177 (0.3177)  loss_rpn_box_reg: 0.2832 (0.2832)  time: 1.2599  data: 0.7639  max mem: 5123\n",
      "Epoch: [27]  [753/754]  eta: 0:00:00  lr: 0.000500  loss: 0.8038 (0.9101)  loss_classifier: 0.0712 (0.1033)  loss_box_reg: 0.0585 (0.0958)  loss_objectness: 0.3534 (0.3974)  loss_rpn_box_reg: 0.3009 (0.3137)  time: 0.4777  data: 0.0100  max mem: 5123\n",
      "Epoch: [27] Total time: 0:06:08 (0.4886 s / it)\n",
      "Epoch: [28]  [  0/754]  eta: 0:14:54  lr: 0.000500  loss: 0.8708 (0.8708)  loss_classifier: 0.0365 (0.0365)  loss_box_reg: 0.0217 (0.0217)  loss_objectness: 0.4527 (0.4527)  loss_rpn_box_reg: 0.3600 (0.3600)  time: 1.1860  data: 0.7192  max mem: 5123\n",
      "Epoch: [28]  [753/754]  eta: 0:00:00  lr: 0.000500  loss: 0.9221 (0.9111)  loss_classifier: 0.1185 (0.1028)  loss_box_reg: 0.1035 (0.0956)  loss_objectness: 0.3244 (0.3998)  loss_rpn_box_reg: 0.3181 (0.3129)  time: 0.4797  data: 0.0103  max mem: 5123\n",
      "Epoch: [28] Total time: 0:06:08 (0.4883 s / it)\n",
      "Epoch: [29]  [  0/754]  eta: 0:15:20  lr: 0.000500  loss: 1.0053 (1.0053)  loss_classifier: 0.1714 (0.1714)  loss_box_reg: 0.1770 (0.1770)  loss_objectness: 0.3392 (0.3392)  loss_rpn_box_reg: 0.3176 (0.3176)  time: 1.2206  data: 0.7426  max mem: 5123\n",
      "Epoch: [29]  [753/754]  eta: 0:00:00  lr: 0.000500  loss: 0.8471 (0.8637)  loss_classifier: 0.0810 (0.0821)  loss_box_reg: 0.0666 (0.0695)  loss_objectness: 0.3292 (0.3994)  loss_rpn_box_reg: 0.3490 (0.3126)  time: 0.4769  data: 0.0100  max mem: 5123\n",
      "Epoch: [29] Total time: 0:06:08 (0.4893 s / it)\n",
      "Epoch: [30]  [  0/754]  eta: 0:15:15  lr: 0.000500  loss: 0.9217 (0.9217)  loss_classifier: 0.0703 (0.0703)  loss_box_reg: 0.0593 (0.0593)  loss_objectness: 0.5070 (0.5070)  loss_rpn_box_reg: 0.2850 (0.2850)  time: 1.2144  data: 0.7370  max mem: 5123\n",
      "Epoch: [30]  [753/754]  eta: 0:00:00  lr: 0.000500  loss: 0.8523 (0.8598)  loss_classifier: 0.0826 (0.0790)  loss_box_reg: 0.0681 (0.0655)  loss_objectness: 0.3621 (0.4008)  loss_rpn_box_reg: 0.3165 (0.3145)  time: 0.4993  data: 0.0105  max mem: 5123\n",
      "Epoch: [30] Total time: 0:06:13 (0.4951 s / it)\n",
      "Epoch: [31]  [  0/754]  eta: 0:15:35  lr: 0.000500  loss: 0.8438 (0.8438)  loss_classifier: 0.0550 (0.0550)  loss_box_reg: 0.0344 (0.0344)  loss_objectness: 0.4081 (0.4081)  loss_rpn_box_reg: 0.3463 (0.3463)  time: 1.2406  data: 0.7586  max mem: 5123\n",
      "Epoch: [31]  [753/754]  eta: 0:00:00  lr: 0.000500  loss: 0.8614 (0.8678)  loss_classifier: 0.0904 (0.0831)  loss_box_reg: 0.0741 (0.0705)  loss_objectness: 0.3271 (0.4001)  loss_rpn_box_reg: 0.3110 (0.3141)  time: 0.5251  data: 0.0108  max mem: 5123\n",
      "Epoch: [31] Total time: 0:06:23 (0.5089 s / it)\n",
      "Epoch: [32]  [  0/754]  eta: 0:16:00  lr: 0.000500  loss: 0.7964 (0.7964)  loss_classifier: 0.0953 (0.0953)  loss_box_reg: 0.0796 (0.0796)  loss_objectness: 0.3267 (0.3267)  loss_rpn_box_reg: 0.2948 (0.2948)  time: 1.2743  data: 0.7734  max mem: 5123\n",
      "Epoch: [32]  [753/754]  eta: 0:00:00  lr: 0.000500  loss: 0.8359 (0.8820)  loss_classifier: 0.0566 (0.0913)  loss_box_reg: 0.0449 (0.0808)  loss_objectness: 0.3503 (0.3979)  loss_rpn_box_reg: 0.3075 (0.3120)  time: 0.4977  data: 0.0105  max mem: 5123\n",
      "Epoch: [32] Total time: 0:06:23 (0.5093 s / it)\n",
      "Epoch: [33]  [  0/754]  eta: 0:15:39  lr: 0.000500  loss: 0.8163 (0.8163)  loss_classifier: 0.0587 (0.0587)  loss_box_reg: 0.0487 (0.0487)  loss_objectness: 0.3045 (0.3045)  loss_rpn_box_reg: 0.4044 (0.4044)  time: 1.2464  data: 0.7558  max mem: 5123\n",
      "Epoch: [33]  [753/754]  eta: 0:00:00  lr: 0.000500  loss: 0.9538 (0.8971)  loss_classifier: 0.0762 (0.0962)  loss_box_reg: 0.0701 (0.0869)  loss_objectness: 0.4064 (0.4002)  loss_rpn_box_reg: 0.3145 (0.3138)  time: 0.4989  data: 0.0103  max mem: 5123\n",
      "Epoch: [33] Total time: 0:06:28 (0.5148 s / it)\n",
      "Epoch: [34]  [  0/754]  eta: 0:15:56  lr: 0.000500  loss: 1.3001 (1.3001)  loss_classifier: 0.1023 (0.1023)  loss_box_reg: 0.1011 (0.1011)  loss_objectness: 0.7337 (0.7337)  loss_rpn_box_reg: 0.3630 (0.3630)  time: 1.2686  data: 0.7260  max mem: 5123\n",
      "Epoch: [34]  [753/754]  eta: 0:00:00  lr: 0.000500  loss: 0.6262 (0.7256)  loss_classifier: 0.0814 (0.0803)  loss_box_reg: 0.0688 (0.0737)  loss_objectness: 0.2264 (0.3077)  loss_rpn_box_reg: 0.2528 (0.2639)  time: 0.4745  data: 0.0102  max mem: 5123\n",
      "Epoch: [34] Total time: 0:06:17 (0.5008 s / it)\n",
      "Epoch: [35]  [  0/754]  eta: 0:15:07  lr: 0.000500  loss: 0.7023 (0.7023)  loss_classifier: 0.1003 (0.1003)  loss_box_reg: 0.1148 (0.1148)  loss_objectness: 0.2563 (0.2563)  loss_rpn_box_reg: 0.2309 (0.2309)  time: 1.2030  data: 0.7325  max mem: 5123\n",
      "Epoch: [35]  [753/754]  eta: 0:00:00  lr: 0.000500  loss: 0.6251 (0.7134)  loss_classifier: 0.0874 (0.0794)  loss_box_reg: 0.0992 (0.0757)  loss_objectness: 0.2228 (0.3005)  loss_rpn_box_reg: 0.2352 (0.2579)  time: 0.4724  data: 0.0101  max mem: 5123\n",
      "Epoch: [35] Total time: 0:06:05 (0.4850 s / it)\n",
      "Epoch: [36]  [  0/754]  eta: 0:15:31  lr: 0.000500  loss: 0.8024 (0.8024)  loss_classifier: 0.1115 (0.1115)  loss_box_reg: 0.1240 (0.1240)  loss_objectness: 0.2918 (0.2918)  loss_rpn_box_reg: 0.2751 (0.2751)  time: 1.2349  data: 0.7609  max mem: 5123\n",
      "Epoch: [36]  [753/754]  eta: 0:00:00  lr: 0.000500  loss: 0.7413 (0.7004)  loss_classifier: 0.0777 (0.0787)  loss_box_reg: 0.0682 (0.0739)  loss_objectness: 0.3414 (0.2896)  loss_rpn_box_reg: 0.2583 (0.2581)  time: 0.4872  data: 0.0106  max mem: 5123\n",
      "Epoch: [36] Total time: 0:06:13 (0.4948 s / it)\n",
      "Epoch: [37]  [  0/754]  eta: 0:15:58  lr: 0.000500  loss: 0.6222 (0.6222)  loss_classifier: 0.1088 (0.1088)  loss_box_reg: 0.1043 (0.1043)  loss_objectness: 0.1978 (0.1978)  loss_rpn_box_reg: 0.2112 (0.2112)  time: 1.2706  data: 0.7747  max mem: 5123\n"
     ]
    }
   ],
   "source": [
    "from train_lbp import train_one_epoch\n",
    "\n",
    "start_time = time.time()\n",
    "for epoch in range(120):\n",
    "    train_one_epoch(model, optimizer, train_loader, device, epoch, print_freq=00)\n",
    "    lr_scheduler.step()\n",
    "    \n",
    "    if epoch > 80 and epoch % 5 == 0 :\n",
    "        if args.output_dir:\n",
    "            checkpoint = {\n",
    "                'model': model.state_dict(),\n",
    "                'optimizer': optimizer.state_dict(),\n",
    "                'lr_scheduler': lr_scheduler.state_dict(),\n",
    "                'args': args,\n",
    "                'epoch': epoch\n",
    "            }\n",
    "            utils.save_on_master(\n",
    "                checkpoint,\n",
    "                os.path.join(args.output_dir, 'model_{}.pth'.format(epoch)))\n",
    "            utils.save_on_master(\n",
    "                checkpoint,\n",
    "                os.path.join(args.output_dir, 'checkpoint.pth'))\n",
    "\n",
    "        # evaluate after every epoch\n",
    "    if epoch > 50 and epoch % 5 == 0 :\n",
    "        evaluate(model, test_loader, device=device)    \n",
    "print('total time is {}'.format(time.time() - start_time))    "
   ]
  },
  {
   "cell_type": "code",
   "execution_count": null,
   "id": "composite-morocco",
   "metadata": {},
   "outputs": [],
   "source": [
    "# proposals = list(li['boxes'] for li in detection1)\n",
    "# proposals"
   ]
  },
  {
   "cell_type": "code",
   "execution_count": null,
   "id": "grand-contest",
   "metadata": {},
   "outputs": [],
   "source": [
    "evaluate(model, test_loader, device=device) "
   ]
  }
 ],
 "metadata": {
  "kernelspec": {
   "display_name": "pytorch_retina",
   "language": "python",
   "name": "pytorch_retina"
  },
  "language_info": {
   "codemirror_mode": {
    "name": "ipython",
    "version": 3
   },
   "file_extension": ".py",
   "mimetype": "text/x-python",
   "name": "python",
   "nbconvert_exporter": "python",
   "pygments_lexer": "ipython3",
   "version": "3.7.10"
  }
 },
 "nbformat": 4,
 "nbformat_minor": 5
}
