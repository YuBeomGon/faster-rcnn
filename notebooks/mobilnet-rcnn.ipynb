{
 "cells": [
  {
   "cell_type": "code",
   "execution_count": 1,
   "id": "pregnant-endorsement",
   "metadata": {},
   "outputs": [],
   "source": [
    "import torch\n",
    "import torch.nn as nn\n",
    "import torchvision\n",
    "\n",
    "import numpy as np\n",
    "import matplotlib.pyplot as plt\n",
    "import pandas as pd\n",
    "import time\n",
    "\n",
    "from torch.utils.data import Dataset, DataLoader\n",
    "# from torch.utils.data.sampler import Sampler\n",
    "import torch.optim as optim\n",
    "import sys\n",
    "sys.path.append('../')\n",
    "\n",
    "from dataset import LbpDataset, train_transforms, val_transforms, test_transforms, collate_fn, get_data\n",
    "from visualize import visualize\n",
    "from model import fasterrcnn_resnet201_fpn, FastRCNNPredictor\n",
    "from engine import evaluate\n",
    "import utils\n",
    "from train_lbp import get_train_test_list"
   ]
  },
  {
   "cell_type": "code",
   "execution_count": 2,
   "id": "classified-diving",
   "metadata": {},
   "outputs": [],
   "source": [
    "from torchvision.models.detection.faster_rcnn import fasterrcnn_mobilenet_v3_large_fpn"
   ]
  },
  {
   "cell_type": "code",
   "execution_count": 3,
   "id": "acoustic-growing",
   "metadata": {},
   "outputs": [],
   "source": [
    "# model = fasterrcnn_mobilenet_v3_large_fpn(pretrained=False, min_size=1600, max_size=1600)"
   ]
  },
  {
   "cell_type": "code",
   "execution_count": 4,
   "id": "anonymous-favorite",
   "metadata": {},
   "outputs": [],
   "source": [
    "import os\n",
    "os.environ[\"CUDA_VISIBLE_DEVICES\"] = \"0\""
   ]
  },
  {
   "cell_type": "code",
   "execution_count": 5,
   "id": "gross-emission",
   "metadata": {},
   "outputs": [],
   "source": [
    "import easydict \n",
    "args = easydict.EasyDict({ \"batch_size\": 12, \n",
    "                          \"epochs\": 50, \n",
    "                          \"data\": 0, \n",
    "                          'lr':0.1,\n",
    "                         'momentum':0.9,\n",
    "                         'weight_decay':1e-4,\n",
    "                         'start_epoch':0,\n",
    "                         'gpu':5,\n",
    "                          'workers':6,\n",
    "                         'output_dir' :'../trained_models/mobilenet-rcnn/'})"
   ]
  },
  {
   "cell_type": "code",
   "execution_count": 6,
   "id": "boring-dependence",
   "metadata": {},
   "outputs": [
    {
     "name": "stdout",
     "output_type": "stream",
     "text": [
      "total 4019 train 3014 test 1005\n",
      "3014\n",
      "1005\n"
     ]
    }
   ],
   "source": [
    "df = pd.read_csv('../../data/df.csv')\n",
    "df.head()\n",
    "# Data loading code\n",
    "data_dir = '../../data/df.csv'\n",
    "train_list, test_list = get_train_test_list(data_dir)\n",
    "train_dataset = LbpDataset(train_list, transform=train_transforms)\n",
    "test_dataset = LbpDataset(test_list, transform=val_transforms)  "
   ]
  },
  {
   "cell_type": "code",
   "execution_count": 7,
   "id": "unknown-butter",
   "metadata": {},
   "outputs": [],
   "source": [
    "train_sampler = torch.utils.data.RandomSampler(train_dataset)\n",
    "test_sampler = torch.utils.data.SequentialSampler(test_dataset)\n",
    "\n",
    "train_loader = DataLoader(\n",
    "    train_dataset, batch_size=args.batch_size,\n",
    "    sampler=train_sampler, num_workers=args.workers,\n",
    "    collate_fn=utils.collate_fn)\n",
    "\n",
    "test_loader = DataLoader(\n",
    "    test_dataset, batch_size=args.batch_size,\n",
    "    sampler=test_sampler, num_workers=args.workers,\n",
    "    collate_fn=utils.collate_fn)"
   ]
  },
  {
   "cell_type": "code",
   "execution_count": 8,
   "id": "criminal-behalf",
   "metadata": {},
   "outputs": [
    {
     "name": "stdout",
     "output_type": "stream",
     "text": [
      "model is loaded to gpu\n"
     ]
    }
   ],
   "source": [
    "num_classes = 2\n",
    "model = fasterrcnn_mobilenet_v3_large_fpn(pretrained=True, min_size=2048, max_size=2048)\n",
    "in_features = model.roi_heads.box_predictor.cls_score.in_features\n",
    "model.roi_heads.box_predictor = FastRCNNPredictor(in_features, num_classes)\n",
    "device = torch.device('cuda')\n",
    "model.to(device)\n",
    "print('model is loaded to gpu')"
   ]
  },
  {
   "cell_type": "code",
   "execution_count": 9,
   "id": "fantastic-karen",
   "metadata": {},
   "outputs": [],
   "source": [
    "params = [p for p in model.parameters() if p.requires_grad]\n",
    "# optimizer = torch.optim.Adam(params, lr=0.0005)\n",
    "optimizer = torch.optim.SGD(\n",
    "       params, lr=0.001, momentum=0.9, weight_decay=1e-4)\n",
    "lr_scheduler = torch.optim.lr_scheduler.MultiStepLR(optimizer, milestones=[20, 40, 60, 80, 100], \n",
    "                                                    gamma=0.5)"
   ]
  },
  {
   "cell_type": "code",
   "execution_count": 10,
   "id": "quantitative-highway",
   "metadata": {},
   "outputs": [],
   "source": [
    "# checkpoint = torch.load('../trained_model/model.pt')\n",
    "# model.load_state_dict(checkpoint['model'])\n",
    "# optimizer.load_state_dict(checkpoint['optimizer'])\n",
    "# lr_scheduler.load_state_dict(checkpoint['lr_scheduler'])\n",
    "# epoch = checkpoint['epoch']\n",
    "# print(epoch)"
   ]
  },
  {
   "cell_type": "code",
   "execution_count": 11,
   "id": "130ab9ce-5c9e-4883-877a-b5d121d50922",
   "metadata": {},
   "outputs": [],
   "source": [
    "# evaluate(model, test_loader, device=device) \n",
    "# evaluate(model, test_loader, device=device)  \n",
    "# checkpoint = torch.load(args.output_dir + 'checkpoint.pth')\n",
    "# state_dict = checkpoint['model']\n",
    "# model.load_state_dict(state_dict)"
   ]
  },
  {
   "cell_type": "code",
   "execution_count": null,
   "id": "satellite-behavior",
   "metadata": {},
   "outputs": [
    {
     "name": "stdout",
     "output_type": "stream",
     "text": [
      "Epoch: [0]  [  0/252]  eta: 0:29:54  lr: 0.001000  loss: 2.4119 (2.4119)  loss_classifier: 0.4932 (0.4932)  loss_box_reg: 1.5796 (1.5796)  loss_objectness: 0.3243 (0.3243)  loss_rpn_box_reg: 0.0147 (0.0147)  time: 7.1225  data: 5.4570  max mem: 13928\n",
      "Epoch: [0]  [100/252]  eta: 0:02:36  lr: 0.001000  loss: 0.1793 (0.6168)  loss_classifier: 0.0383 (0.1476)  loss_box_reg: 0.0164 (0.0780)  loss_objectness: 0.0868 (0.3427)  loss_rpn_box_reg: 0.0084 (0.0485)  time: 0.9814  data: 0.1082  max mem: 14391\n",
      "Epoch: [0]  [200/252]  eta: 0:00:52  lr: 0.001000  loss: 0.1920 (0.4110)  loss_classifier: 0.0448 (0.1005)  loss_box_reg: 0.0220 (0.0526)  loss_objectness: 0.0836 (0.2195)  loss_rpn_box_reg: 0.0335 (0.0384)  time: 0.9817  data: 0.1064  max mem: 14391\n",
      "Epoch: [0]  [251/252]  eta: 0:00:00  lr: 0.001000  loss: 0.1826 (0.3702)  loss_classifier: 0.0482 (0.0911)  loss_box_reg: 0.0232 (0.0476)  loss_objectness: 0.0841 (0.1943)  loss_rpn_box_reg: 0.0315 (0.0372)  time: 0.9163  data: 0.0968  max mem: 14391\n",
      "Epoch: [0] Total time: 0:04:10 (0.9954 s / it)\n",
      "Epoch: [1]  [  0/252]  eta: 0:28:38  lr: 0.001000  loss: 0.2166 (0.2166)  loss_classifier: 0.0527 (0.0527)  loss_box_reg: 0.0267 (0.0267)  loss_objectness: 0.0767 (0.0767)  loss_rpn_box_reg: 0.0606 (0.0606)  time: 6.8184  data: 5.9658  max mem: 14391\n",
      "Epoch: [1]  [100/252]  eta: 0:02:38  lr: 0.001000  loss: 0.1879 (0.2097)  loss_classifier: 0.0526 (0.0569)  loss_box_reg: 0.0265 (0.0308)  loss_objectness: 0.0811 (0.0961)  loss_rpn_box_reg: 0.0284 (0.0259)  time: 0.9831  data: 0.1056  max mem: 14391\n",
      "Epoch: [1]  [200/252]  eta: 0:00:52  lr: 0.001000  loss: 0.2040 (0.2052)  loss_classifier: 0.0606 (0.0559)  loss_box_reg: 0.0344 (0.0298)  loss_objectness: 0.0805 (0.0938)  loss_rpn_box_reg: 0.0256 (0.0258)  time: 0.9723  data: 0.1049  max mem: 14391\n",
      "Epoch: [1]  [251/252]  eta: 0:00:00  lr: 0.001000  loss: 0.1915 (0.2009)  loss_classifier: 0.0469 (0.0550)  loss_box_reg: 0.0225 (0.0291)  loss_objectness: 0.0929 (0.0927)  loss_rpn_box_reg: 0.0123 (0.0242)  time: 0.9186  data: 0.0974  max mem: 14391\n",
      "Epoch: [1] Total time: 0:04:11 (0.9973 s / it)\n",
      "Epoch: [2]  [  0/252]  eta: 0:27:49  lr: 0.001000  loss: 0.2306 (0.2306)  loss_classifier: 0.0877 (0.0877)  loss_box_reg: 0.0527 (0.0527)  loss_objectness: 0.0844 (0.0844)  loss_rpn_box_reg: 0.0059 (0.0059)  time: 6.6238  data: 5.7031  max mem: 14391\n",
      "Epoch: [2]  [100/252]  eta: 0:02:37  lr: 0.001000  loss: 0.1870 (0.1950)  loss_classifier: 0.0513 (0.0555)  loss_box_reg: 0.0259 (0.0290)  loss_objectness: 0.0817 (0.0895)  loss_rpn_box_reg: 0.0083 (0.0210)  time: 0.9812  data: 0.1037  max mem: 14391\n",
      "Epoch: [2]  [200/252]  eta: 0:00:52  lr: 0.001000  loss: 0.1795 (0.1953)  loss_classifier: 0.0571 (0.0565)  loss_box_reg: 0.0348 (0.0303)  loss_objectness: 0.0783 (0.0898)  loss_rpn_box_reg: 0.0103 (0.0187)  time: 0.9735  data: 0.1071  max mem: 14391\n",
      "Epoch: [2]  [251/252]  eta: 0:00:00  lr: 0.001000  loss: 0.1791 (0.1931)  loss_classifier: 0.0479 (0.0560)  loss_box_reg: 0.0237 (0.0299)  loss_objectness: 0.0781 (0.0904)  loss_rpn_box_reg: 0.0077 (0.0167)  time: 0.9153  data: 0.0957  max mem: 14391\n",
      "Epoch: [2] Total time: 0:04:10 (0.9930 s / it)\n",
      "Epoch: [3]  [  0/252]  eta: 0:26:34  lr: 0.001000  loss: 0.2164 (0.2164)  loss_classifier: 0.0572 (0.0572)  loss_box_reg: 0.0294 (0.0294)  loss_objectness: 0.1205 (0.1205)  loss_rpn_box_reg: 0.0094 (0.0094)  time: 6.3258  data: 5.4632  max mem: 14391\n",
      "Epoch: [3]  [100/252]  eta: 0:02:36  lr: 0.001000  loss: 0.1934 (0.1903)  loss_classifier: 0.0603 (0.0569)  loss_box_reg: 0.0355 (0.0307)  loss_objectness: 0.0873 (0.0934)  loss_rpn_box_reg: 0.0082 (0.0093)  time: 0.9721  data: 0.1027  max mem: 14391\n",
      "Epoch: [3]  [200/252]  eta: 0:00:52  lr: 0.001000  loss: 0.1958 (0.1890)  loss_classifier: 0.0573 (0.0573)  loss_box_reg: 0.0343 (0.0312)  loss_objectness: 0.0807 (0.0915)  loss_rpn_box_reg: 0.0081 (0.0090)  time: 0.9715  data: 0.1023  max mem: 14391\n",
      "Epoch: [3]  [251/252]  eta: 0:00:00  lr: 0.001000  loss: 0.1719 (0.1875)  loss_classifier: 0.0563 (0.0576)  loss_box_reg: 0.0316 (0.0314)  loss_objectness: 0.0777 (0.0897)  loss_rpn_box_reg: 0.0069 (0.0088)  time: 0.9218  data: 0.0951  max mem: 14391\n",
      "Epoch: [3] Total time: 0:04:11 (0.9964 s / it)\n",
      "Epoch: [4]  [  0/252]  eta: 0:25:21  lr: 0.001000  loss: 0.2288 (0.2288)  loss_classifier: 0.0770 (0.0770)  loss_box_reg: 0.0446 (0.0446)  loss_objectness: 0.0983 (0.0983)  loss_rpn_box_reg: 0.0089 (0.0089)  time: 6.0386  data: 5.1791  max mem: 14391\n",
      "Epoch: [4]  [100/252]  eta: 0:02:37  lr: 0.001000  loss: 0.1698 (0.1825)  loss_classifier: 0.0493 (0.0561)  loss_box_reg: 0.0249 (0.0306)  loss_objectness: 0.0787 (0.0872)  loss_rpn_box_reg: 0.0067 (0.0086)  time: 0.9826  data: 0.1070  max mem: 14391\n",
      "Epoch: [4]  [200/252]  eta: 0:00:52  lr: 0.001000  loss: 0.1800 (0.1849)  loss_classifier: 0.0493 (0.0566)  loss_box_reg: 0.0246 (0.0307)  loss_objectness: 0.0857 (0.0895)  loss_rpn_box_reg: 0.0072 (0.0080)  time: 0.9814  data: 0.1051  max mem: 14391\n",
      "Epoch: [4]  [251/252]  eta: 0:00:00  lr: 0.001000  loss: 0.1675 (0.1838)  loss_classifier: 0.0521 (0.0559)  loss_box_reg: 0.0241 (0.0302)  loss_objectness: 0.0880 (0.0896)  loss_rpn_box_reg: 0.0077 (0.0080)  time: 0.9140  data: 0.0917  max mem: 14391\n",
      "Epoch: [4] Total time: 0:04:10 (0.9956 s / it)\n",
      "Epoch: [5]  [  0/252]  eta: 0:27:58  lr: 0.001000  loss: 0.2076 (0.2076)  loss_classifier: 0.0666 (0.0666)  loss_box_reg: 0.0321 (0.0321)  loss_objectness: 0.1022 (0.1022)  loss_rpn_box_reg: 0.0066 (0.0066)  time: 6.6604  data: 5.7747  max mem: 14391\n",
      "Epoch: [5]  [100/252]  eta: 0:02:37  lr: 0.001000  loss: 0.1667 (0.1787)  loss_classifier: 0.0557 (0.0563)  loss_box_reg: 0.0305 (0.0304)  loss_objectness: 0.0773 (0.0848)  loss_rpn_box_reg: 0.0063 (0.0072)  time: 0.9747  data: 0.1028  max mem: 14391\n",
      "Epoch: [5]  [200/252]  eta: 0:00:52  lr: 0.001000  loss: 0.1756 (0.1861)  loss_classifier: 0.0535 (0.0574)  loss_box_reg: 0.0282 (0.0310)  loss_objectness: 0.0807 (0.0901)  loss_rpn_box_reg: 0.0062 (0.0076)  time: 0.9766  data: 0.1079  max mem: 14391\n",
      "Epoch: [5]  [251/252]  eta: 0:00:00  lr: 0.001000  loss: 0.1790 (0.1850)  loss_classifier: 0.0553 (0.0569)  loss_box_reg: 0.0305 (0.0306)  loss_objectness: 0.0870 (0.0898)  loss_rpn_box_reg: 0.0068 (0.0077)  time: 0.9298  data: 0.1057  max mem: 14391\n",
      "Epoch: [5] Total time: 0:04:10 (0.9945 s / it)\n",
      "Epoch: [6]  [  0/252]  eta: 0:26:12  lr: 0.001000  loss: 0.1928 (0.1928)  loss_classifier: 0.0653 (0.0653)  loss_box_reg: 0.0334 (0.0334)  loss_objectness: 0.0849 (0.0849)  loss_rpn_box_reg: 0.0093 (0.0093)  time: 6.2418  data: 5.3849  max mem: 14391\n",
      "Epoch: [6]  [100/252]  eta: 0:02:37  lr: 0.001000  loss: 0.1723 (0.1806)  loss_classifier: 0.0531 (0.0559)  loss_box_reg: 0.0284 (0.0302)  loss_objectness: 0.0856 (0.0872)  loss_rpn_box_reg: 0.0067 (0.0074)  time: 0.9830  data: 0.1059  max mem: 14391\n",
      "Epoch: [6]  [200/252]  eta: 0:00:52  lr: 0.001000  loss: 0.1871 (0.1832)  loss_classifier: 0.0517 (0.0567)  loss_box_reg: 0.0263 (0.0306)  loss_objectness: 0.0892 (0.0883)  loss_rpn_box_reg: 0.0074 (0.0076)  time: 0.9817  data: 0.1055  max mem: 14391\n",
      "Epoch: [6]  [251/252]  eta: 0:00:00  lr: 0.001000  loss: 0.1914 (0.1815)  loss_classifier: 0.0584 (0.0559)  loss_box_reg: 0.0337 (0.0301)  loss_objectness: 0.0867 (0.0880)  loss_rpn_box_reg: 0.0080 (0.0075)  time: 0.9184  data: 0.0926  max mem: 14391\n",
      "Epoch: [6] Total time: 0:04:11 (0.9970 s / it)\n",
      "Epoch: [7]  [  0/252]  eta: 0:26:11  lr: 0.001000  loss: 0.2058 (0.2058)  loss_classifier: 0.0729 (0.0729)  loss_box_reg: 0.0471 (0.0471)  loss_objectness: 0.0797 (0.0797)  loss_rpn_box_reg: 0.0061 (0.0061)  time: 6.2350  data: 5.3315  max mem: 14391\n",
      "Epoch: [7]  [100/252]  eta: 0:02:36  lr: 0.001000  loss: 0.1773 (0.1822)  loss_classifier: 0.0556 (0.0573)  loss_box_reg: 0.0281 (0.0311)  loss_objectness: 0.0794 (0.0864)  loss_rpn_box_reg: 0.0068 (0.0074)  time: 0.9796  data: 0.1082  max mem: 14391\n",
      "Epoch: [7]  [200/252]  eta: 0:00:52  lr: 0.001000  loss: 0.1731 (0.1830)  loss_classifier: 0.0533 (0.0569)  loss_box_reg: 0.0273 (0.0313)  loss_objectness: 0.0821 (0.0874)  loss_rpn_box_reg: 0.0064 (0.0074)  time: 0.9811  data: 0.1052  max mem: 14391\n",
      "Epoch: [7]  [251/252]  eta: 0:00:00  lr: 0.001000  loss: 0.1837 (0.1823)  loss_classifier: 0.0552 (0.0560)  loss_box_reg: 0.0308 (0.0303)  loss_objectness: 0.0924 (0.0882)  loss_rpn_box_reg: 0.0067 (0.0078)  time: 0.9285  data: 0.0990  max mem: 14391\n",
      "Epoch: [7] Total time: 0:04:11 (0.9986 s / it)\n",
      "Epoch: [8]  [  0/252]  eta: 0:26:05  lr: 0.001000  loss: 0.1273 (0.1273)  loss_classifier: 0.0404 (0.0404)  loss_box_reg: 0.0149 (0.0149)  loss_objectness: 0.0673 (0.0673)  loss_rpn_box_reg: 0.0047 (0.0047)  time: 6.2124  data: 5.3539  max mem: 14391\n",
      "Epoch: [8]  [100/252]  eta: 0:02:38  lr: 0.001000  loss: 0.1768 (0.1828)  loss_classifier: 0.0526 (0.0553)  loss_box_reg: 0.0290 (0.0298)  loss_objectness: 0.0838 (0.0896)  loss_rpn_box_reg: 0.0074 (0.0081)  time: 0.9769  data: 0.1028  max mem: 14391\n"
     ]
    }
   ],
   "source": [
    "from train_lbp import train_one_epoch\n",
    "\n",
    "start_time = time.time()\n",
    "for epoch in range(120):\n",
    "    train_one_epoch(model, optimizer, train_loader, device, epoch, 100)\n",
    "    lr_scheduler.step()\n",
    "    \n",
    "    if epoch > 20 and epoch % 5 == 0 :\n",
    "        if args.output_dir:\n",
    "            checkpoint = {\n",
    "                'model': model.state_dict(),\n",
    "                'optimizer': optimizer.state_dict(),\n",
    "                'lr_scheduler': lr_scheduler.state_dict(),\n",
    "                'args': args,\n",
    "                'epoch': epoch\n",
    "            }\n",
    "            utils.save_on_master(\n",
    "                checkpoint,\n",
    "                os.path.join(args.output_dir, 'model_{}.pth'.format(epoch)))\n",
    "            utils.save_on_master(\n",
    "                checkpoint,\n",
    "                os.path.join(args.output_dir, 'checkpoint.pth'))\n",
    "\n",
    "        # evaluate after every epoch\n",
    "        evaluate(model, test_loader, device=device)    \n",
    "print('total time is {}'.format(time.time() - start_time))    "
   ]
  },
  {
   "cell_type": "code",
   "execution_count": null,
   "id": "civic-lying",
   "metadata": {},
   "outputs": [],
   "source": [
    "evaluate(model, test_loader, device=device) "
   ]
  },
  {
   "cell_type": "code",
   "execution_count": null,
   "id": "dfc64627-9fed-4102-8f0c-27b45675c57a",
   "metadata": {},
   "outputs": [],
   "source": []
  },
  {
   "cell_type": "code",
   "execution_count": null,
   "id": "c22276f8-1573-436b-9d3f-91ffdcda3563",
   "metadata": {},
   "outputs": [],
   "source": []
  }
 ],
 "metadata": {
  "kernelspec": {
   "display_name": "pytorch",
   "language": "python",
   "name": "pytorch"
  },
  "language_info": {
   "codemirror_mode": {
    "name": "ipython",
    "version": 3
   },
   "file_extension": ".py",
   "mimetype": "text/x-python",
   "name": "python",
   "nbconvert_exporter": "python",
   "pygments_lexer": "ipython3",
   "version": "3.8.11"
  }
 },
 "nbformat": 4,
 "nbformat_minor": 5
}
