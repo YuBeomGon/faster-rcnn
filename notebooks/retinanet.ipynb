{
 "cells": [
  {
   "cell_type": "code",
   "execution_count": 1,
   "id": "physical-integrity",
   "metadata": {},
   "outputs": [],
   "source": [
    "import torch\n",
    "import torch.nn as nn\n",
    "import torchvision\n",
    "\n",
    "import numpy as np\n",
    "import matplotlib.pyplot as plt\n",
    "import pandas as pd\n",
    "import time\n",
    "\n",
    "from torch.utils.data import Dataset, DataLoader\n",
    "# from torch.utils.data.sampler import Sampler\n",
    "import torch.optim as optim\n",
    "import sys\n",
    "sys.path.append('../')\n",
    "\n",
    "from dataset import LbpDataset, train_transforms, val_transforms, test_transforms, collate_fn, get_data\n",
    "from visualize import visualize\n",
    "from model import fasterrcnn_resnet201_fpn, FastRCNNPredictor\n",
    "from engine import evaluate\n",
    "import utils\n",
    "from train_lbp import get_train_test_list"
   ]
  },
  {
   "cell_type": "code",
   "execution_count": 2,
   "id": "meaning-tattoo",
   "metadata": {},
   "outputs": [],
   "source": [
    "from torchvision.models.detection.retinanet import retinanet_resnet50_fpn\n",
    "import os\n",
    "os.environ[\"CUDA_VISIBLE_DEVICES\"] = \"1\""
   ]
  },
  {
   "cell_type": "code",
   "execution_count": 3,
   "id": "structured-millennium",
   "metadata": {},
   "outputs": [],
   "source": [
    "import easydict \n",
    "args = easydict.EasyDict({ \"batch_size\": 8, \n",
    "                          \"epochs\": 50, \n",
    "                          \"data\": 0, \n",
    "                          'lr':0.1,\n",
    "                         'momentum':0.9,\n",
    "                         'weight_decay':1e-4,\n",
    "                         'start_epoch':0,\n",
    "                         'gpu':5,\n",
    "                          'workers':4,\n",
    "                         'output_dir' :'../trained_models/retinanet/'})"
   ]
  },
  {
   "cell_type": "code",
   "execution_count": 4,
   "id": "buried-davis",
   "metadata": {},
   "outputs": [
    {
     "name": "stdout",
     "output_type": "stream",
     "text": [
      "total 4019 train 3014 test 1005\n",
      "3014\n",
      "1005\n"
     ]
    }
   ],
   "source": [
    "df = pd.read_csv('../../data/df.csv')\n",
    "df.head()\n",
    "# Data loading code\n",
    "data_dir = '../../data/df.csv'\n",
    "train_list, test_list = get_train_test_list(data_dir)\n",
    "train_dataset = LbpDataset(train_list, transform=train_transforms)\n",
    "test_dataset = LbpDataset(test_list, transform=val_transforms)  "
   ]
  },
  {
   "cell_type": "code",
   "execution_count": 5,
   "id": "plain-rainbow",
   "metadata": {},
   "outputs": [],
   "source": [
    "train_sampler = torch.utils.data.RandomSampler(train_dataset)\n",
    "test_sampler = torch.utils.data.SequentialSampler(test_dataset)\n",
    "\n",
    "train_loader = DataLoader(\n",
    "    train_dataset, batch_size=args.batch_size,\n",
    "    sampler=train_sampler, num_workers=args.workers,\n",
    "    collate_fn=utils.collate_fn)\n",
    "\n",
    "test_loader = DataLoader(\n",
    "    test_dataset, batch_size=args.batch_size,\n",
    "    sampler=test_sampler, num_workers=args.workers,\n",
    "    collate_fn=utils.collate_fn)"
   ]
  },
  {
   "cell_type": "code",
   "execution_count": 6,
   "id": "stock-cleaner",
   "metadata": {},
   "outputs": [
    {
     "name": "stdout",
     "output_type": "stream",
     "text": [
      "model is loaded to gpu\n"
     ]
    }
   ],
   "source": [
    "num_classes = 2\n",
    "pretrained = retinanet_resnet50_fpn(pretrained=True)\n",
    "model = retinanet_resnet50_fpn(pretrained=False, min_size=1024, max_size=1024, num_classes=num_classes)\n",
    "model.backbone.load_state_dict(pretrained.backbone.state_dict())\n",
    "model.head.regression_head.load_state_dict(pretrained.head.regression_head.state_dict())\n",
    "device = torch.device('cuda')\n",
    "model.to(device)\n",
    "print('model is loaded to gpu')"
   ]
  },
  {
   "cell_type": "code",
   "execution_count": null,
   "id": "5447bffd-267e-4357-99ca-a95376896a82",
   "metadata": {},
   "outputs": [],
   "source": []
  },
  {
   "cell_type": "code",
   "execution_count": 7,
   "id": "numerous-adaptation",
   "metadata": {},
   "outputs": [],
   "source": [
    "# model.eval()"
   ]
  },
  {
   "cell_type": "code",
   "execution_count": 8,
   "id": "scheduled-brake",
   "metadata": {},
   "outputs": [],
   "source": [
    "params = [p for p in model.parameters() if p.requires_grad]\n",
    "# optimizer = torch.optim.Adam(params, lr=0.0001)\n",
    "optimizer = torch.optim.SGD(\n",
    "       params, lr=0.001, momentum=0.9, weight_decay=1e-4)\n",
    "lr_scheduler = torch.optim.lr_scheduler.MultiStepLR(optimizer, milestones=[15, 30, 45, 60, 75], \n",
    "                                                    gamma=0.5)"
   ]
  },
  {
   "cell_type": "code",
   "execution_count": 9,
   "id": "52708735-2fc4-4c1a-a058-12f6058dd5a6",
   "metadata": {},
   "outputs": [
    {
     "data": {
      "text/plain": [
       "<All keys matched successfully>"
      ]
     },
     "execution_count": 9,
     "metadata": {},
     "output_type": "execute_result"
    }
   ],
   "source": [
    "# evaluate(model, test_loader, device=device)  \n",
    "checkpoint = torch.load(args.output_dir + 'checkpoint.pth')\n",
    "state_dict = checkpoint['model']\n",
    "model.load_state_dict(state_dict)"
   ]
  },
  {
   "cell_type": "code",
   "execution_count": 10,
   "id": "confirmed-spice",
   "metadata": {},
   "outputs": [
    {
     "name": "stdout",
     "output_type": "stream",
     "text": [
      "Epoch: [0]  [  0/377]  eta: 0:43:04  lr: 0.001000  loss: 1.1707 (1.1707)  classification: 0.7110 (0.7110)  bbox_regression: 0.4597 (0.4597)  time: 6.8544  data: 2.9535  max mem: 7675\n",
      "Epoch: [0]  [376/377]  eta: 0:00:00  lr: 0.001000  loss: 1.3584 (1.3740)  classification: 0.8135 (0.8209)  bbox_regression: 0.5435 (0.5531)  time: 0.9125  data: 0.0382  max mem: 7921\n",
      "Epoch: [0] Total time: 0:05:51 (0.9323 s / it)\n",
      "Epoch: [1]  [  0/377]  eta: 0:24:09  lr: 0.001000  loss: 1.4568 (1.4568)  classification: 0.8491 (0.8491)  bbox_regression: 0.6078 (0.6078)  time: 3.8457  data: 2.9538  max mem: 7921\n",
      "Epoch: [1]  [376/377]  eta: 0:00:00  lr: 0.001000  loss: 1.3505 (1.3649)  classification: 0.8272 (0.8208)  bbox_regression: 0.5416 (0.5441)  time: 0.8964  data: 0.0330  max mem: 7921\n",
      "Epoch: [1] Total time: 0:05:48 (0.9252 s / it)\n",
      "Epoch: [2]  [  0/377]  eta: 0:25:17  lr: 0.001000  loss: 1.4314 (1.4314)  classification: 0.8931 (0.8931)  bbox_regression: 0.5383 (0.5383)  time: 4.0245  data: 3.1397  max mem: 7921\n",
      "Epoch: [2]  [376/377]  eta: 0:00:00  lr: 0.001000  loss: 1.3663 (1.3639)  classification: 0.8227 (0.8186)  bbox_regression: 0.5232 (0.5453)  time: 0.9018  data: 0.0354  max mem: 7921\n",
      "Epoch: [2] Total time: 0:05:48 (0.9248 s / it)\n",
      "Epoch: [3]  [  0/377]  eta: 0:24:41  lr: 0.001000  loss: 1.3737 (1.3737)  classification: 0.8274 (0.8274)  bbox_regression: 0.5463 (0.5463)  time: 3.9299  data: 3.0579  max mem: 7921\n",
      "Epoch: [3]  [376/377]  eta: 0:00:00  lr: 0.001000  loss: 1.3530 (1.3709)  classification: 0.8236 (0.8207)  bbox_regression: 0.5273 (0.5503)  time: 0.9036  data: 0.0360  max mem: 7921\n",
      "Epoch: [3] Total time: 0:05:48 (0.9253 s / it)\n",
      "Epoch: [4]  [  0/377]  eta: 0:23:28  lr: 0.001000  loss: 1.4680 (1.4680)  classification: 0.9218 (0.9218)  bbox_regression: 0.5462 (0.5462)  time: 3.7358  data: 2.8582  max mem: 7921\n",
      "Epoch: [4]  [376/377]  eta: 0:00:00  lr: 0.001000  loss: 1.3343 (1.3565)  classification: 0.8015 (0.8180)  bbox_regression: 0.5200 (0.5385)  time: 0.9039  data: 0.0372  max mem: 7921\n",
      "Epoch: [4] Total time: 0:05:48 (0.9235 s / it)\n",
      "Epoch: [5]  [  0/377]  eta: 0:23:22  lr: 0.001000  loss: 1.4081 (1.4081)  classification: 0.8768 (0.8768)  bbox_regression: 0.5313 (0.5313)  time: 3.7192  data: 2.8350  max mem: 7921\n",
      "Epoch: [5]  [376/377]  eta: 0:00:00  lr: 0.001000  loss: 1.3375 (1.3686)  classification: 0.8208 (0.8197)  bbox_regression: 0.5295 (0.5490)  time: 0.9077  data: 0.0380  max mem: 7921\n",
      "Epoch: [5] Total time: 0:05:47 (0.9217 s / it)\n",
      "Epoch: [6]  [  0/377]  eta: 0:23:06  lr: 0.001000  loss: 1.3706 (1.3706)  classification: 0.8124 (0.8124)  bbox_regression: 0.5583 (0.5583)  time: 3.6766  data: 2.8097  max mem: 7921\n",
      "Epoch: [6]  [376/377]  eta: 0:00:00  lr: 0.001000  loss: 1.3399 (1.3660)  classification: 0.8039 (0.8222)  bbox_regression: 0.5289 (0.5438)  time: 0.9038  data: 0.0359  max mem: 7921\n",
      "Epoch: [6] Total time: 0:05:46 (0.9197 s / it)\n",
      "Epoch: [7]  [  0/377]  eta: 0:23:27  lr: 0.001000  loss: 1.2696 (1.2696)  classification: 0.7850 (0.7850)  bbox_regression: 0.4846 (0.4846)  time: 3.7344  data: 2.8831  max mem: 7921\n",
      "Epoch: [7]  [376/377]  eta: 0:00:00  lr: 0.001000  loss: 1.3679 (1.3645)  classification: 0.8158 (0.8197)  bbox_regression: 0.5413 (0.5447)  time: 0.8930  data: 0.0335  max mem: 7921\n",
      "Epoch: [7] Total time: 0:05:46 (0.9198 s / it)\n",
      "Epoch: [8]  [  0/377]  eta: 0:24:51  lr: 0.001000  loss: 1.4891 (1.4891)  classification: 0.8876 (0.8876)  bbox_regression: 0.6014 (0.6014)  time: 3.9569  data: 3.0837  max mem: 7921\n",
      "Epoch: [8]  [376/377]  eta: 0:00:00  lr: 0.001000  loss: 1.3726 (1.3571)  classification: 0.8158 (0.8209)  bbox_regression: 0.5558 (0.5363)  time: 0.9076  data: 0.0335  max mem: 7921\n",
      "Epoch: [8] Total time: 0:05:47 (0.9231 s / it)\n",
      "Epoch: [9]  [  0/377]  eta: 0:23:49  lr: 0.001000  loss: 1.6900 (1.6900)  classification: 0.9205 (0.9205)  bbox_regression: 0.7695 (0.7695)  time: 3.7916  data: 2.9265  max mem: 7921\n",
      "Epoch: [9]  [376/377]  eta: 0:00:00  lr: 0.001000  loss: 1.3666 (1.3571)  classification: 0.8267 (0.8191)  bbox_regression: 0.5297 (0.5380)  time: 0.9041  data: 0.0362  max mem: 7921\n",
      "Epoch: [9] Total time: 0:05:47 (0.9216 s / it)\n",
      "Epoch: [10]  [  0/377]  eta: 0:25:33  lr: 0.001000  loss: 1.4105 (1.4105)  classification: 0.8694 (0.8694)  bbox_regression: 0.5411 (0.5411)  time: 4.0683  data: 3.0750  max mem: 7921\n",
      "Epoch: [10]  [376/377]  eta: 0:00:00  lr: 0.001000  loss: 1.3807 (1.3561)  classification: 0.8034 (0.8158)  bbox_regression: 0.5538 (0.5403)  time: 0.8981  data: 0.0340  max mem: 7921\n",
      "Epoch: [10] Total time: 0:05:48 (0.9250 s / it)\n",
      "Epoch: [11]  [  0/377]  eta: 0:24:14  lr: 0.001000  loss: 1.4476 (1.4476)  classification: 0.8653 (0.8653)  bbox_regression: 0.5823 (0.5823)  time: 3.8588  data: 2.9823  max mem: 7921\n",
      "Epoch: [11]  [376/377]  eta: 0:00:00  lr: 0.001000  loss: 1.3766 (1.3555)  classification: 0.8316 (0.8170)  bbox_regression: 0.5363 (0.5385)  time: 0.9027  data: 0.0343  max mem: 7921\n",
      "Epoch: [11] Total time: 0:05:50 (0.9303 s / it)\n",
      "Epoch: [12]  [  0/377]  eta: 0:25:44  lr: 0.001000  loss: 1.3196 (1.3196)  classification: 0.7811 (0.7811)  bbox_regression: 0.5385 (0.5385)  time: 4.0973  data: 3.0463  max mem: 7921\n",
      "Epoch: [12]  [376/377]  eta: 0:00:00  lr: 0.001000  loss: 1.3461 (1.3429)  classification: 0.8186 (0.8149)  bbox_regression: 0.5152 (0.5280)  time: 0.9125  data: 0.0336  max mem: 7921\n",
      "Epoch: [12] Total time: 0:05:50 (0.9292 s / it)\n",
      "Epoch: [13]  [  0/377]  eta: 0:25:20  lr: 0.001000  loss: 1.3163 (1.3163)  classification: 0.7937 (0.7937)  bbox_regression: 0.5226 (0.5226)  time: 4.0332  data: 3.1468  max mem: 7921\n",
      "Epoch: [13]  [376/377]  eta: 0:00:00  lr: 0.001000  loss: 1.3342 (1.3434)  classification: 0.8066 (0.8167)  bbox_regression: 0.5177 (0.5267)  time: 0.9180  data: 0.0366  max mem: 7921\n",
      "Epoch: [13] Total time: 0:05:54 (0.9396 s / it)\n",
      "Epoch: [14]  [  0/377]  eta: 0:22:41  lr: 0.001000  loss: 1.3616 (1.3616)  classification: 0.7851 (0.7851)  bbox_regression: 0.5766 (0.5766)  time: 3.6112  data: 2.7432  max mem: 7921\n",
      "Epoch: [14]  [376/377]  eta: 0:00:00  lr: 0.001000  loss: 1.3721 (1.3460)  classification: 0.8313 (0.8153)  bbox_regression: 0.5390 (0.5307)  time: 0.9193  data: 0.0367  max mem: 7921\n",
      "Epoch: [14] Total time: 0:05:47 (0.9215 s / it)\n",
      "Epoch: [15]  [  0/377]  eta: 0:22:32  lr: 0.000500  loss: 1.2279 (1.2279)  classification: 0.7701 (0.7701)  bbox_regression: 0.4578 (0.4578)  time: 3.5867  data: 2.7127  max mem: 7921\n",
      "Epoch: [15]  [376/377]  eta: 0:00:00  lr: 0.000500  loss: 1.2112 (1.2850)  classification: 0.7136 (0.7764)  bbox_regression: 0.4873 (0.5086)  time: 0.9047  data: 0.0367  max mem: 7921\n",
      "Epoch: [15] Total time: 0:05:48 (0.9247 s / it)\n",
      "Epoch: [16]  [  0/377]  eta: 0:23:48  lr: 0.000500  loss: 1.3281 (1.3281)  classification: 0.7919 (0.7919)  bbox_regression: 0.5362 (0.5362)  time: 3.7904  data: 2.8956  max mem: 7921\n",
      "Epoch: [16]  [376/377]  eta: 0:00:00  lr: 0.000500  loss: 1.2157 (1.2284)  classification: 0.7225 (0.7343)  bbox_regression: 0.4752 (0.4941)  time: 0.9252  data: 0.0408  max mem: 7921\n",
      "Epoch: [16] Total time: 0:05:53 (0.9376 s / it)\n",
      "Epoch: [17]  [  0/377]  eta: 0:26:33  lr: 0.000500  loss: 1.3862 (1.3862)  classification: 0.8191 (0.8191)  bbox_regression: 0.5672 (0.5672)  time: 4.2260  data: 3.3396  max mem: 7921\n",
      "Epoch: [17]  [376/377]  eta: 0:00:00  lr: 0.000500  loss: 1.1758 (1.1759)  classification: 0.6944 (0.6963)  bbox_regression: 0.4831 (0.4796)  time: 0.9014  data: 0.0319  max mem: 7921\n",
      "Epoch: [17] Total time: 0:05:50 (0.9295 s / it)\n",
      "Epoch: [18]  [  0/377]  eta: 0:23:31  lr: 0.000500  loss: 0.9834 (0.9834)  classification: 0.5825 (0.5825)  bbox_regression: 0.4008 (0.4008)  time: 3.7447  data: 2.8658  max mem: 7921\n",
      "Epoch: [18]  [376/377]  eta: 0:00:00  lr: 0.000500  loss: 1.1009 (1.1460)  classification: 0.6652 (0.6785)  bbox_regression: 0.4535 (0.4675)  time: 0.9025  data: 0.0321  max mem: 7921\n",
      "Epoch: [18] Total time: 0:05:49 (0.9266 s / it)\n",
      "Epoch: [19]  [  0/377]  eta: 0:22:41  lr: 0.000500  loss: 1.1509 (1.1509)  classification: 0.7054 (0.7054)  bbox_regression: 0.4455 (0.4455)  time: 3.6111  data: 2.7474  max mem: 7921\n",
      "Epoch: [19]  [376/377]  eta: 0:00:00  lr: 0.000500  loss: 1.3822 (1.1735)  classification: 0.8436 (0.6979)  bbox_regression: 0.5330 (0.4757)  time: 0.8923  data: 0.0294  max mem: 7921\n",
      "Epoch: [19] Total time: 0:05:45 (0.9158 s / it)\n",
      "Epoch: [20]  [  0/377]  eta: 0:22:34  lr: 0.000500  loss: 1.3566 (1.3566)  classification: 0.8283 (0.8283)  bbox_regression: 0.5283 (0.5283)  time: 3.5925  data: 2.7132  max mem: 7921\n",
      "Epoch: [20]  [376/377]  eta: 0:00:00  lr: 0.000500  loss: 1.3243 (1.3425)  classification: 0.8123 (0.8179)  bbox_regression: 0.5159 (0.5246)  time: 0.8907  data: 0.0283  max mem: 7921\n",
      "Epoch: [20] Total time: 0:05:44 (0.9139 s / it)\n",
      "Epoch: [21]  [  0/377]  eta: 0:23:51  lr: 0.000500  loss: 0.9823 (0.9823)  classification: 0.6538 (0.6538)  bbox_regression: 0.3285 (0.3285)  time: 3.7960  data: 2.9051  max mem: 7921\n",
      "Epoch: [21]  [376/377]  eta: 0:00:00  lr: 0.000500  loss: 1.1134 (1.1782)  classification: 0.6624 (0.7018)  bbox_regression: 0.4533 (0.4764)  time: 0.8972  data: 0.0323  max mem: 7921\n",
      "Epoch: [21] Total time: 0:05:45 (0.9166 s / it)\n",
      "Epoch: [22]  [  0/377]  eta: 0:21:48  lr: 0.000500  loss: 1.1846 (1.1846)  classification: 0.7127 (0.7127)  bbox_regression: 0.4719 (0.4719)  time: 3.4709  data: 2.5803  max mem: 7921\n",
      "Epoch: [22]  [376/377]  eta: 0:00:00  lr: 0.000500  loss: 1.0779 (1.1239)  classification: 0.6465 (0.6650)  bbox_regression: 0.4320 (0.4589)  time: 0.8989  data: 0.0317  max mem: 7921\n",
      "Epoch: [22] Total time: 0:05:47 (0.9207 s / it)\n",
      "Epoch: [23]  [  0/377]  eta: 0:23:03  lr: 0.000500  loss: 1.1298 (1.1298)  classification: 0.6781 (0.6781)  bbox_regression: 0.4516 (0.4516)  time: 3.6696  data: 2.7727  max mem: 7921\n",
      "Epoch: [23]  [376/377]  eta: 0:00:00  lr: 0.000500  loss: 1.0923 (1.0900)  classification: 0.6402 (0.6417)  bbox_regression: 0.4595 (0.4483)  time: 0.9045  data: 0.0327  max mem: 7921\n",
      "Epoch: [23] Total time: 0:05:47 (0.9217 s / it)\n",
      "Epoch: [24]  [  0/377]  eta: 0:23:09  lr: 0.000500  loss: 1.1970 (1.1970)  classification: 0.6601 (0.6601)  bbox_regression: 0.5368 (0.5368)  time: 3.6864  data: 2.8117  max mem: 7921\n",
      "Epoch: [24]  [376/377]  eta: 0:00:00  lr: 0.000500  loss: 1.0911 (1.0825)  classification: 0.6410 (0.6387)  bbox_regression: 0.4451 (0.4437)  time: 0.8229  data: 0.0310  max mem: 7921\n",
      "Epoch: [24] Total time: 0:05:37 (0.8943 s / it)\n",
      "Epoch: [25]  [  0/377]  eta: 0:21:38  lr: 0.000500  loss: 1.0382 (1.0382)  classification: 0.6495 (0.6495)  bbox_regression: 0.3886 (0.3886)  time: 3.4453  data: 2.6555  max mem: 7921\n",
      "Epoch: [25]  [376/377]  eta: 0:00:00  lr: 0.000500  loss: 1.1230 (1.0740)  classification: 0.6485 (0.6327)  bbox_regression: 0.4754 (0.4413)  time: 0.8281  data: 0.0328  max mem: 7921\n",
      "Epoch: [25] Total time: 0:05:18 (0.8448 s / it)\n",
      "creating index...\n",
      "index created!\n"
     ]
    },
    {
     "name": "stderr",
     "output_type": "stream",
     "text": [
      "[W pthreadpool-cpp.cc:90] Warning: Leaking Caffe2 thread-pool after fork. (function pthreadpool)\n",
      "[W pthreadpool-cpp.cc:90] Warning: Leaking Caffe2 thread-pool after fork. (function pthreadpool)\n",
      "[W pthreadpool-cpp.cc:90] Warning: Leaking Caffe2 thread-pool after fork. (function pthreadpool)\n",
      "[W pthreadpool-cpp.cc:90] Warning: Leaking Caffe2 thread-pool after fork. (function pthreadpool)\n"
     ]
    },
    {
     "name": "stdout",
     "output_type": "stream",
     "text": [
      "Test:  [  0/126]  eta: 0:06:16  model_time: 0.6921 (0.6921)  evaluator_time: 0.0770 (0.0770)  time: 2.9854  data: 2.1478  max mem: 7921\n",
      "Test:  [100/126]  eta: 0:00:16  model_time: 0.4642 (0.4645)  evaluator_time: 0.0337 (0.0523)  time: 0.5874  data: 0.0294  max mem: 7921\n"
     ]
    },
    {
     "name": "stderr",
     "output_type": "stream",
     "text": [
      "[W pthreadpool-cpp.cc:90] Warning: Leaking Caffe2 thread-pool after fork. (function pthreadpool)\n"
     ]
    },
    {
     "name": "stdout",
     "output_type": "stream",
     "text": [
      "Test:  [125/126]  eta: 0:00:00  model_time: 0.4601 (0.4624)  evaluator_time: 0.0325 (0.0497)  time: 0.5705  data: 0.0286  max mem: 7921\n",
      "Test: Total time: 0:01:17 (0.6128 s / it)\n",
      "Averaged stats: model_time: 0.4601 (0.4624)  evaluator_time: 0.0325 (0.0497)\n",
      "Accumulating evaluation results...\n",
      "DONE (t=1.55s).\n",
      "IoU metric: bbox\n",
      " Average Precision  (AP) @[ IoU=0.50:0.95 | area=   all | maxDets=100 ] = 0.018\n",
      " Average Precision  (AP) @[ IoU=0.50      | area=   all | maxDets=100 ] = 0.047\n",
      " Average Precision  (AP) @[ IoU=0.75      | area=   all | maxDets=100 ] = 0.005\n",
      " Average Precision  (AP) @[ IoU=0.50:0.95 | area= small | maxDets=100 ] = 0.000\n",
      " Average Precision  (AP) @[ IoU=0.50:0.95 | area=medium | maxDets=100 ] = 0.000\n",
      " Average Precision  (AP) @[ IoU=0.50:0.95 | area= large | maxDets=100 ] = 0.081\n",
      " Average Recall     (AR) @[ IoU=0.50:0.95 | area=   all | maxDets=  1 ] = 0.042\n",
      " Average Recall     (AR) @[ IoU=0.50:0.95 | area=   all | maxDets= 10 ] = 0.165\n",
      " Average Recall     (AR) @[ IoU=0.50:0.95 | area=   all | maxDets=100 ] = 0.310\n",
      " Average Recall     (AR) @[ IoU=0.50:0.95 | area= small | maxDets=100 ] = 0.000\n",
      " Average Recall     (AR) @[ IoU=0.50:0.95 | area=medium | maxDets=100 ] = 0.043\n",
      " Average Recall     (AR) @[ IoU=0.50:0.95 | area= large | maxDets=100 ] = 0.322\n"
     ]
    },
    {
     "name": "stderr",
     "output_type": "stream",
     "text": [
      "[W pthreadpool-cpp.cc:90] Warning: Leaking Caffe2 thread-pool after fork. (function pthreadpool)\n",
      "[W pthreadpool-cpp.cc:90] Warning: Leaking Caffe2 thread-pool after fork. (function pthreadpool)\n",
      "[W pthreadpool-cpp.cc:90] Warning: Leaking Caffe2 thread-pool after fork. (function pthreadpool)\n",
      "[W pthreadpool-cpp.cc:90] Warning: Leaking Caffe2 thread-pool after fork. (function pthreadpool)\n"
     ]
    },
    {
     "name": "stdout",
     "output_type": "stream",
     "text": [
      "Epoch: [26]  [  0/377]  eta: 0:20:28  lr: 0.000500  loss: 1.0107 (1.0107)  classification: 0.5789 (0.5789)  bbox_regression: 0.4317 (0.4317)  time: 3.2595  data: 2.4225  max mem: 7921\n",
      "Epoch: [26]  [376/377]  eta: 0:00:00  lr: 0.000500  loss: 1.0077 (1.0763)  classification: 0.6153 (0.6342)  bbox_regression: 0.4167 (0.4421)  time: 0.8203  data: 0.0269  max mem: 7921\n",
      "Epoch: [26] Total time: 0:05:18 (0.8438 s / it)\n"
     ]
    },
    {
     "name": "stderr",
     "output_type": "stream",
     "text": [
      "[W pthreadpool-cpp.cc:90] Warning: Leaking Caffe2 thread-pool after fork. (function pthreadpool)\n",
      "[W pthreadpool-cpp.cc:90] Warning: Leaking Caffe2 thread-pool after fork. (function pthreadpool)\n",
      "[W pthreadpool-cpp.cc:90] Warning: Leaking Caffe2 thread-pool after fork. (function pthreadpool)\n",
      "[W pthreadpool-cpp.cc:90] Warning: Leaking Caffe2 thread-pool after fork. (function pthreadpool)\n"
     ]
    },
    {
     "name": "stdout",
     "output_type": "stream",
     "text": [
      "Epoch: [27]  [  0/377]  eta: 0:18:24  lr: 0.000500  loss: 1.1172 (1.1172)  classification: 0.7012 (0.7012)  bbox_regression: 0.4159 (0.4159)  time: 2.9291  data: 2.1189  max mem: 7921\n",
      "Epoch: [27]  [376/377]  eta: 0:00:00  lr: 0.000500  loss: 1.0563 (1.0676)  classification: 0.6169 (0.6301)  bbox_regression: 0.4113 (0.4375)  time: 0.8200  data: 0.0267  max mem: 7921\n",
      "Epoch: [27] Total time: 0:05:17 (0.8415 s / it)\n"
     ]
    },
    {
     "name": "stderr",
     "output_type": "stream",
     "text": [
      "[W pthreadpool-cpp.cc:90] Warning: Leaking Caffe2 thread-pool after fork. (function pthreadpool)\n",
      "[W pthreadpool-cpp.cc:90] Warning: Leaking Caffe2 thread-pool after fork. (function pthreadpool)\n",
      "[W pthreadpool-cpp.cc:90] Warning: Leaking Caffe2 thread-pool after fork. (function pthreadpool)\n",
      "[W pthreadpool-cpp.cc:90] Warning: Leaking Caffe2 thread-pool after fork. (function pthreadpool)\n"
     ]
    },
    {
     "name": "stdout",
     "output_type": "stream",
     "text": [
      "Epoch: [28]  [  0/377]  eta: 0:18:33  lr: 0.000500  loss: 1.1340 (1.1340)  classification: 0.6325 (0.6325)  bbox_regression: 0.5014 (0.5014)  time: 2.9541  data: 2.1467  max mem: 7921\n",
      "Epoch: [28]  [376/377]  eta: 0:00:00  lr: 0.000500  loss: 1.0418 (1.0520)  classification: 0.6041 (0.6233)  bbox_regression: 0.4217 (0.4286)  time: 0.8250  data: 0.0309  max mem: 7921\n",
      "Epoch: [28] Total time: 0:05:16 (0.8387 s / it)\n"
     ]
    },
    {
     "name": "stderr",
     "output_type": "stream",
     "text": [
      "[W pthreadpool-cpp.cc:90] Warning: Leaking Caffe2 thread-pool after fork. (function pthreadpool)\n",
      "[W pthreadpool-cpp.cc:90] Warning: Leaking Caffe2 thread-pool after fork. (function pthreadpool)\n",
      "[W pthreadpool-cpp.cc:90] Warning: Leaking Caffe2 thread-pool after fork. (function pthreadpool)\n",
      "[W pthreadpool-cpp.cc:90] Warning: Leaking Caffe2 thread-pool after fork. (function pthreadpool)\n"
     ]
    },
    {
     "name": "stdout",
     "output_type": "stream",
     "text": [
      "Epoch: [29]  [  0/377]  eta: 0:19:10  lr: 0.000500  loss: 1.0757 (1.0757)  classification: 0.6820 (0.6820)  bbox_regression: 0.3937 (0.3937)  time: 3.0509  data: 2.2360  max mem: 7921\n",
      "Epoch: [29]  [376/377]  eta: 0:00:00  lr: 0.000500  loss: 1.0223 (1.0449)  classification: 0.6079 (0.6179)  bbox_regression: 0.4315 (0.4269)  time: 0.8210  data: 0.0251  max mem: 7921\n",
      "Epoch: [29] Total time: 0:05:15 (0.8382 s / it)\n"
     ]
    },
    {
     "name": "stderr",
     "output_type": "stream",
     "text": [
      "[W pthreadpool-cpp.cc:90] Warning: Leaking Caffe2 thread-pool after fork. (function pthreadpool)\n",
      "[W pthreadpool-cpp.cc:90] Warning: Leaking Caffe2 thread-pool after fork. (function pthreadpool)\n",
      "[W pthreadpool-cpp.cc:90] Warning: Leaking Caffe2 thread-pool after fork. (function pthreadpool)\n",
      "[W pthreadpool-cpp.cc:90] Warning: Leaking Caffe2 thread-pool after fork. (function pthreadpool)\n"
     ]
    },
    {
     "name": "stdout",
     "output_type": "stream",
     "text": [
      "Epoch: [30]  [  0/377]  eta: 0:18:57  lr: 0.000250  loss: 1.0819 (1.0819)  classification: 0.6424 (0.6424)  bbox_regression: 0.4395 (0.4395)  time: 3.0163  data: 2.1855  max mem: 7921\n",
      "Epoch: [30]  [376/377]  eta: 0:00:00  lr: 0.000250  loss: 0.9838 (1.0229)  classification: 0.5921 (0.6071)  bbox_regression: 0.3897 (0.4158)  time: 0.8264  data: 0.0295  max mem: 7921\n",
      "Epoch: [30] Total time: 0:05:17 (0.8409 s / it)\n",
      "creating index...\n",
      "index created!\n"
     ]
    },
    {
     "name": "stderr",
     "output_type": "stream",
     "text": [
      "[W pthreadpool-cpp.cc:90] Warning: Leaking Caffe2 thread-pool after fork. (function pthreadpool)\n",
      "[W pthreadpool-cpp.cc:90] Warning: Leaking Caffe2 thread-pool after fork. (function pthreadpool)\n",
      "[W pthreadpool-cpp.cc:90] Warning: Leaking Caffe2 thread-pool after fork. (function pthreadpool)\n",
      "[W pthreadpool-cpp.cc:90] Warning: Leaking Caffe2 thread-pool after fork. (function pthreadpool)\n"
     ]
    },
    {
     "name": "stdout",
     "output_type": "stream",
     "text": [
      "Test:  [  0/126]  eta: 0:05:47  model_time: 0.5520 (0.5520)  evaluator_time: 0.0557 (0.0557)  time: 2.7593  data: 2.0897  max mem: 7921\n",
      "Test:  [100/126]  eta: 0:00:15  model_time: 0.4634 (0.4629)  evaluator_time: 0.0310 (0.0391)  time: 0.5723  data: 0.0269  max mem: 7921\n",
      "Test:  [125/126]  eta: 0:00:00  model_time: 0.4583 (0.4609)  evaluator_time: 0.0313 (0.0384)  time: 0.5597  data: 0.0282  max mem: 7921\n",
      "Test: Total time: 0:01:15 (0.5969 s / it)\n",
      "Averaged stats: model_time: 0.4583 (0.4609)  evaluator_time: 0.0313 (0.0384)\n",
      "Accumulating evaluation results...\n",
      "DONE (t=0.83s).\n",
      "IoU metric: bbox\n",
      " Average Precision  (AP) @[ IoU=0.50:0.95 | area=   all | maxDets=100 ] = 0.024\n",
      " Average Precision  (AP) @[ IoU=0.50      | area=   all | maxDets=100 ] = 0.060\n",
      " Average Precision  (AP) @[ IoU=0.75      | area=   all | maxDets=100 ] = 0.017\n",
      " Average Precision  (AP) @[ IoU=0.50:0.95 | area= small | maxDets=100 ] = 0.000\n",
      " Average Precision  (AP) @[ IoU=0.50:0.95 | area=medium | maxDets=100 ] = 0.000\n",
      " Average Precision  (AP) @[ IoU=0.50:0.95 | area= large | maxDets=100 ] = 0.054\n",
      " Average Recall     (AR) @[ IoU=0.50:0.95 | area=   all | maxDets=  1 ] = 0.056\n",
      " Average Recall     (AR) @[ IoU=0.50:0.95 | area=   all | maxDets= 10 ] = 0.193\n",
      " Average Recall     (AR) @[ IoU=0.50:0.95 | area=   all | maxDets=100 ] = 0.354\n",
      " Average Recall     (AR) @[ IoU=0.50:0.95 | area= small | maxDets=100 ] = 0.000\n",
      " Average Recall     (AR) @[ IoU=0.50:0.95 | area=medium | maxDets=100 ] = 0.061\n",
      " Average Recall     (AR) @[ IoU=0.50:0.95 | area= large | maxDets=100 ] = 0.368\n"
     ]
    },
    {
     "name": "stderr",
     "output_type": "stream",
     "text": [
      "[W pthreadpool-cpp.cc:90] Warning: Leaking Caffe2 thread-pool after fork. (function pthreadpool)\n",
      "[W pthreadpool-cpp.cc:90] Warning: Leaking Caffe2 thread-pool after fork. (function pthreadpool)\n",
      "[W pthreadpool-cpp.cc:90] Warning: Leaking Caffe2 thread-pool after fork. (function pthreadpool)\n",
      "[W pthreadpool-cpp.cc:90] Warning: Leaking Caffe2 thread-pool after fork. (function pthreadpool)\n"
     ]
    },
    {
     "name": "stdout",
     "output_type": "stream",
     "text": [
      "Epoch: [31]  [  0/377]  eta: 0:17:46  lr: 0.000250  loss: 1.0061 (1.0061)  classification: 0.6125 (0.6125)  bbox_regression: 0.3936 (0.3936)  time: 2.8282  data: 2.0078  max mem: 7921\n",
      "Epoch: [31]  [376/377]  eta: 0:00:00  lr: 0.000250  loss: 1.0212 (1.0194)  classification: 0.5890 (0.6038)  bbox_regression: 0.4075 (0.4156)  time: 0.8230  data: 0.0296  max mem: 7921\n",
      "Epoch: [31] Total time: 0:05:15 (0.8376 s / it)\n"
     ]
    },
    {
     "name": "stderr",
     "output_type": "stream",
     "text": [
      "[W pthreadpool-cpp.cc:90] Warning: Leaking Caffe2 thread-pool after fork. (function pthreadpool)\n",
      "[W pthreadpool-cpp.cc:90] Warning: Leaking Caffe2 thread-pool after fork. (function pthreadpool)\n",
      "[W pthreadpool-cpp.cc:90] Warning: Leaking Caffe2 thread-pool after fork. (function pthreadpool)\n",
      "[W pthreadpool-cpp.cc:90] Warning: Leaking Caffe2 thread-pool after fork. (function pthreadpool)\n"
     ]
    },
    {
     "name": "stdout",
     "output_type": "stream",
     "text": [
      "Epoch: [32]  [  0/377]  eta: 0:17:51  lr: 0.000250  loss: 0.9299 (0.9299)  classification: 0.5447 (0.5447)  bbox_regression: 0.3852 (0.3852)  time: 2.8433  data: 2.0389  max mem: 7921\n",
      "Epoch: [32]  [376/377]  eta: 0:00:00  lr: 0.000250  loss: 0.9716 (1.0140)  classification: 0.5821 (0.6009)  bbox_regression: 0.3817 (0.4130)  time: 0.8316  data: 0.0323  max mem: 7921\n",
      "Epoch: [32] Total time: 0:05:19 (0.8466 s / it)\n"
     ]
    },
    {
     "name": "stderr",
     "output_type": "stream",
     "text": [
      "[W pthreadpool-cpp.cc:90] Warning: Leaking Caffe2 thread-pool after fork. (function pthreadpool)\n",
      "[W pthreadpool-cpp.cc:90] Warning: Leaking Caffe2 thread-pool after fork. (function pthreadpool)\n",
      "[W pthreadpool-cpp.cc:90] Warning: Leaking Caffe2 thread-pool after fork. (function pthreadpool)\n",
      "[W pthreadpool-cpp.cc:90] Warning: Leaking Caffe2 thread-pool after fork. (function pthreadpool)\n"
     ]
    },
    {
     "name": "stdout",
     "output_type": "stream",
     "text": [
      "Epoch: [33]  [  0/377]  eta: 0:19:10  lr: 0.000250  loss: 1.0548 (1.0548)  classification: 0.6431 (0.6431)  bbox_regression: 0.4118 (0.4118)  time: 3.0514  data: 2.2436  max mem: 7921\n",
      "Epoch: [33]  [376/377]  eta: 0:00:00  lr: 0.000250  loss: 1.0204 (1.0046)  classification: 0.5942 (0.5969)  bbox_regression: 0.4229 (0.4077)  time: 0.8330  data: 0.0315  max mem: 7921\n",
      "Epoch: [33] Total time: 0:05:20 (0.8496 s / it)\n"
     ]
    },
    {
     "name": "stderr",
     "output_type": "stream",
     "text": [
      "[W pthreadpool-cpp.cc:90] Warning: Leaking Caffe2 thread-pool after fork. (function pthreadpool)\n",
      "[W pthreadpool-cpp.cc:90] Warning: Leaking Caffe2 thread-pool after fork. (function pthreadpool)\n",
      "[W pthreadpool-cpp.cc:90] Warning: Leaking Caffe2 thread-pool after fork. (function pthreadpool)\n",
      "[W pthreadpool-cpp.cc:90] Warning: Leaking Caffe2 thread-pool after fork. (function pthreadpool)\n"
     ]
    },
    {
     "name": "stdout",
     "output_type": "stream",
     "text": [
      "Epoch: [34]  [  0/377]  eta: 0:18:42  lr: 0.000250  loss: 1.1922 (1.1922)  classification: 0.6743 (0.6743)  bbox_regression: 0.5178 (0.5178)  time: 2.9775  data: 2.1720  max mem: 7921\n",
      "Epoch: [34]  [376/377]  eta: 0:00:00  lr: 0.000250  loss: 0.9795 (1.0050)  classification: 0.5975 (0.5972)  bbox_regression: 0.4038 (0.4078)  time: 0.8312  data: 0.0311  max mem: 7921\n",
      "Epoch: [34] Total time: 0:05:20 (0.8491 s / it)\n"
     ]
    },
    {
     "name": "stderr",
     "output_type": "stream",
     "text": [
      "[W pthreadpool-cpp.cc:90] Warning: Leaking Caffe2 thread-pool after fork. (function pthreadpool)\n",
      "[W pthreadpool-cpp.cc:90] Warning: Leaking Caffe2 thread-pool after fork. (function pthreadpool)\n",
      "[W pthreadpool-cpp.cc:90] Warning: Leaking Caffe2 thread-pool after fork. (function pthreadpool)\n",
      "[W pthreadpool-cpp.cc:90] Warning: Leaking Caffe2 thread-pool after fork. (function pthreadpool)\n"
     ]
    },
    {
     "name": "stdout",
     "output_type": "stream",
     "text": [
      "Epoch: [35]  [  0/377]  eta: 0:19:36  lr: 0.000250  loss: 1.0305 (1.0305)  classification: 0.6278 (0.6278)  bbox_regression: 0.4027 (0.4027)  time: 3.1200  data: 2.3055  max mem: 7921\n",
      "Epoch: [35]  [376/377]  eta: 0:00:00  lr: 0.000250  loss: 0.9771 (1.0022)  classification: 0.5884 (0.5962)  bbox_regression: 0.4063 (0.4060)  time: 0.8334  data: 0.0337  max mem: 7921\n",
      "Epoch: [35] Total time: 0:05:20 (0.8493 s / it)\n",
      "creating index...\n",
      "index created!\n"
     ]
    },
    {
     "name": "stderr",
     "output_type": "stream",
     "text": [
      "[W pthreadpool-cpp.cc:90] Warning: Leaking Caffe2 thread-pool after fork. (function pthreadpool)\n",
      "[W pthreadpool-cpp.cc:90] Warning: Leaking Caffe2 thread-pool after fork. (function pthreadpool)\n",
      "[W pthreadpool-cpp.cc:90] Warning: Leaking Caffe2 thread-pool after fork. (function pthreadpool)\n",
      "[W pthreadpool-cpp.cc:90] Warning: Leaking Caffe2 thread-pool after fork. (function pthreadpool)\n"
     ]
    },
    {
     "name": "stdout",
     "output_type": "stream",
     "text": [
      "Test:  [  0/126]  eta: 0:05:52  model_time: 0.6472 (0.6472)  evaluator_time: 0.0619 (0.0619)  time: 2.7997  data: 2.0322  max mem: 7921\n",
      "Test:  [100/126]  eta: 0:00:16  model_time: 0.4620 (0.4670)  evaluator_time: 0.0333 (0.0450)  time: 0.5908  data: 0.0315  max mem: 7921\n",
      "Test:  [125/126]  eta: 0:00:00  model_time: 0.4638 (0.4648)  evaluator_time: 0.0318 (0.0438)  time: 0.5762  data: 0.0296  max mem: 7921\n",
      "Test: Total time: 0:01:17 (0.6130 s / it)\n",
      "Averaged stats: model_time: 0.4638 (0.4648)  evaluator_time: 0.0318 (0.0438)\n",
      "Accumulating evaluation results...\n",
      "DONE (t=0.98s).\n",
      "IoU metric: bbox\n",
      " Average Precision  (AP) @[ IoU=0.50:0.95 | area=   all | maxDets=100 ] = 0.027\n",
      " Average Precision  (AP) @[ IoU=0.50      | area=   all | maxDets=100 ] = 0.067\n",
      " Average Precision  (AP) @[ IoU=0.75      | area=   all | maxDets=100 ] = 0.018\n",
      " Average Precision  (AP) @[ IoU=0.50:0.95 | area= small | maxDets=100 ] = 0.000\n",
      " Average Precision  (AP) @[ IoU=0.50:0.95 | area=medium | maxDets=100 ] = 0.000\n",
      " Average Precision  (AP) @[ IoU=0.50:0.95 | area= large | maxDets=100 ] = 0.064\n",
      " Average Recall     (AR) @[ IoU=0.50:0.95 | area=   all | maxDets=  1 ] = 0.061\n",
      " Average Recall     (AR) @[ IoU=0.50:0.95 | area=   all | maxDets= 10 ] = 0.206\n",
      " Average Recall     (AR) @[ IoU=0.50:0.95 | area=   all | maxDets=100 ] = 0.366\n",
      " Average Recall     (AR) @[ IoU=0.50:0.95 | area= small | maxDets=100 ] = 0.000\n",
      " Average Recall     (AR) @[ IoU=0.50:0.95 | area=medium | maxDets=100 ] = 0.084\n",
      " Average Recall     (AR) @[ IoU=0.50:0.95 | area= large | maxDets=100 ] = 0.379\n"
     ]
    },
    {
     "name": "stderr",
     "output_type": "stream",
     "text": [
      "[W pthreadpool-cpp.cc:90] Warning: Leaking Caffe2 thread-pool after fork. (function pthreadpool)\n",
      "[W pthreadpool-cpp.cc:90] Warning: Leaking Caffe2 thread-pool after fork. (function pthreadpool)\n",
      "[W pthreadpool-cpp.cc:90] Warning: Leaking Caffe2 thread-pool after fork. (function pthreadpool)\n",
      "[W pthreadpool-cpp.cc:90] Warning: Leaking Caffe2 thread-pool after fork. (function pthreadpool)\n"
     ]
    },
    {
     "name": "stdout",
     "output_type": "stream",
     "text": [
      "Epoch: [36]  [  0/377]  eta: 0:19:46  lr: 0.000250  loss: 1.0120 (1.0120)  classification: 0.5849 (0.5849)  bbox_regression: 0.4271 (0.4271)  time: 3.1483  data: 2.2631  max mem: 7921\n"
     ]
    },
    {
     "name": "stderr",
     "output_type": "stream",
     "text": [
      "[W pthreadpool-cpp.cc:90] Warning: Leaking Caffe2 thread-pool after fork. (function pthreadpool)\n"
     ]
    },
    {
     "name": "stdout",
     "output_type": "stream",
     "text": [
      "Epoch: [36]  [376/377]  eta: 0:00:00  lr: 0.000250  loss: 0.9659 (0.9999)  classification: 0.5800 (0.5940)  bbox_regression: 0.3985 (0.4059)  time: 0.8297  data: 0.0327  max mem: 7921\n",
      "Epoch: [36] Total time: 0:05:20 (0.8494 s / it)\n"
     ]
    },
    {
     "name": "stderr",
     "output_type": "stream",
     "text": [
      "[W pthreadpool-cpp.cc:90] Warning: Leaking Caffe2 thread-pool after fork. (function pthreadpool)\n",
      "[W pthreadpool-cpp.cc:90] Warning: Leaking Caffe2 thread-pool after fork. (function pthreadpool)\n",
      "[W pthreadpool-cpp.cc:90] Warning: Leaking Caffe2 thread-pool after fork. (function pthreadpool)\n",
      "[W pthreadpool-cpp.cc:90] Warning: Leaking Caffe2 thread-pool after fork. (function pthreadpool)\n"
     ]
    },
    {
     "name": "stdout",
     "output_type": "stream",
     "text": [
      "Epoch: [37]  [  0/377]  eta: 0:18:42  lr: 0.000250  loss: 1.0273 (1.0273)  classification: 0.6300 (0.6300)  bbox_regression: 0.3973 (0.3973)  time: 2.9776  data: 2.1809  max mem: 7921\n",
      "Epoch: [37]  [376/377]  eta: 0:00:00  lr: 0.000250  loss: 1.0201 (1.0046)  classification: 0.6175 (0.5964)  bbox_regression: 0.3952 (0.4082)  time: 0.8299  data: 0.0299  max mem: 7921\n",
      "Epoch: [37] Total time: 0:05:19 (0.8482 s / it)\n"
     ]
    },
    {
     "name": "stderr",
     "output_type": "stream",
     "text": [
      "[W pthreadpool-cpp.cc:90] Warning: Leaking Caffe2 thread-pool after fork. (function pthreadpool)\n",
      "[W pthreadpool-cpp.cc:90] Warning: Leaking Caffe2 thread-pool after fork. (function pthreadpool)\n",
      "[W pthreadpool-cpp.cc:90] Warning: Leaking Caffe2 thread-pool after fork. (function pthreadpool)\n",
      "[W pthreadpool-cpp.cc:90] Warning: Leaking Caffe2 thread-pool after fork. (function pthreadpool)\n"
     ]
    },
    {
     "name": "stdout",
     "output_type": "stream",
     "text": [
      "Epoch: [38]  [  0/377]  eta: 0:18:39  lr: 0.000250  loss: 1.1442 (1.1442)  classification: 0.6848 (0.6848)  bbox_regression: 0.4594 (0.4594)  time: 2.9704  data: 2.1644  max mem: 7921\n",
      "Epoch: [38]  [376/377]  eta: 0:00:00  lr: 0.000250  loss: 0.9756 (1.0042)  classification: 0.5743 (0.5957)  bbox_regression: 0.3819 (0.4086)  time: 0.8259  data: 0.0300  max mem: 7921\n",
      "Epoch: [38] Total time: 0:05:18 (0.8450 s / it)\n"
     ]
    },
    {
     "name": "stderr",
     "output_type": "stream",
     "text": [
      "[W pthreadpool-cpp.cc:90] Warning: Leaking Caffe2 thread-pool after fork. (function pthreadpool)\n",
      "[W pthreadpool-cpp.cc:90] Warning: Leaking Caffe2 thread-pool after fork. (function pthreadpool)\n",
      "[W pthreadpool-cpp.cc:90] Warning: Leaking Caffe2 thread-pool after fork. (function pthreadpool)\n",
      "[W pthreadpool-cpp.cc:90] Warning: Leaking Caffe2 thread-pool after fork. (function pthreadpool)\n"
     ]
    },
    {
     "name": "stdout",
     "output_type": "stream",
     "text": [
      "Epoch: [39]  [  0/377]  eta: 0:18:00  lr: 0.000250  loss: 0.9850 (0.9850)  classification: 0.5951 (0.5951)  bbox_regression: 0.3898 (0.3898)  time: 2.8663  data: 2.0538  max mem: 7921\n",
      "Epoch: [39]  [376/377]  eta: 0:00:00  lr: 0.000250  loss: 1.0148 (0.9919)  classification: 0.6114 (0.5903)  bbox_regression: 0.4026 (0.4016)  time: 0.8268  data: 0.0306  max mem: 7921\n",
      "Epoch: [39] Total time: 0:05:19 (0.8481 s / it)\n"
     ]
    },
    {
     "name": "stderr",
     "output_type": "stream",
     "text": [
      "[W pthreadpool-cpp.cc:90] Warning: Leaking Caffe2 thread-pool after fork. (function pthreadpool)\n",
      "[W pthreadpool-cpp.cc:90] Warning: Leaking Caffe2 thread-pool after fork. (function pthreadpool)\n",
      "[W pthreadpool-cpp.cc:90] Warning: Leaking Caffe2 thread-pool after fork. (function pthreadpool)\n",
      "[W pthreadpool-cpp.cc:90] Warning: Leaking Caffe2 thread-pool after fork. (function pthreadpool)\n"
     ]
    },
    {
     "name": "stdout",
     "output_type": "stream",
     "text": [
      "Epoch: [40]  [  0/377]  eta: 0:18:02  lr: 0.000250  loss: 1.0071 (1.0071)  classification: 0.5800 (0.5800)  bbox_regression: 0.4271 (0.4271)  time: 2.8707  data: 2.0610  max mem: 7921\n",
      "Epoch: [40]  [376/377]  eta: 0:00:00  lr: 0.000250  loss: 0.9956 (0.9927)  classification: 0.6070 (0.5898)  bbox_regression: 0.4140 (0.4030)  time: 0.8294  data: 0.0311  max mem: 7921\n",
      "Epoch: [40] Total time: 0:05:18 (0.8451 s / it)\n",
      "creating index...\n",
      "index created!\n"
     ]
    },
    {
     "name": "stderr",
     "output_type": "stream",
     "text": [
      "[W pthreadpool-cpp.cc:90] Warning: Leaking Caffe2 thread-pool after fork. (function pthreadpool)\n",
      "[W pthreadpool-cpp.cc:90] Warning: Leaking Caffe2 thread-pool after fork. (function pthreadpool)\n",
      "[W pthreadpool-cpp.cc:90] Warning: Leaking Caffe2 thread-pool after fork. (function pthreadpool)\n",
      "[W pthreadpool-cpp.cc:90] Warning: Leaking Caffe2 thread-pool after fork. (function pthreadpool)\n"
     ]
    },
    {
     "name": "stdout",
     "output_type": "stream",
     "text": [
      "Test:  [  0/126]  eta: 0:05:53  model_time: 0.6582 (0.6582)  evaluator_time: 0.0448 (0.0448)  time: 2.8068  data: 2.0408  max mem: 7921\n",
      "Test:  [100/126]  eta: 0:00:15  model_time: 0.4627 (0.4632)  evaluator_time: 0.0304 (0.0375)  time: 0.5848  data: 0.0319  max mem: 7921\n",
      "Test:  [125/126]  eta: 0:00:00  model_time: 0.4578 (0.4611)  evaluator_time: 0.0318 (0.0379)  time: 0.5723  data: 0.0307  max mem: 7921\n",
      "Test: Total time: 0:01:15 (0.6005 s / it)\n",
      "Averaged stats: model_time: 0.4578 (0.4611)  evaluator_time: 0.0318 (0.0379)\n",
      "Accumulating evaluation results...\n",
      "DONE (t=1.01s).\n",
      "IoU metric: bbox\n",
      " Average Precision  (AP) @[ IoU=0.50:0.95 | area=   all | maxDets=100 ] = 0.024\n",
      " Average Precision  (AP) @[ IoU=0.50      | area=   all | maxDets=100 ] = 0.066\n",
      " Average Precision  (AP) @[ IoU=0.75      | area=   all | maxDets=100 ] = 0.013\n",
      " Average Precision  (AP) @[ IoU=0.50:0.95 | area= small | maxDets=100 ] = 0.000\n",
      " Average Precision  (AP) @[ IoU=0.50:0.95 | area=medium | maxDets=100 ] = 0.000\n",
      " Average Precision  (AP) @[ IoU=0.50:0.95 | area= large | maxDets=100 ] = 0.047\n",
      " Average Recall     (AR) @[ IoU=0.50:0.95 | area=   all | maxDets=  1 ] = 0.057\n",
      " Average Recall     (AR) @[ IoU=0.50:0.95 | area=   all | maxDets= 10 ] = 0.212\n",
      " Average Recall     (AR) @[ IoU=0.50:0.95 | area=   all | maxDets=100 ] = 0.372\n",
      " Average Recall     (AR) @[ IoU=0.50:0.95 | area= small | maxDets=100 ] = 0.000\n",
      " Average Recall     (AR) @[ IoU=0.50:0.95 | area=medium | maxDets=100 ] = 0.080\n",
      " Average Recall     (AR) @[ IoU=0.50:0.95 | area= large | maxDets=100 ] = 0.386\n"
     ]
    },
    {
     "name": "stderr",
     "output_type": "stream",
     "text": [
      "[W pthreadpool-cpp.cc:90] Warning: Leaking Caffe2 thread-pool after fork. (function pthreadpool)\n",
      "[W pthreadpool-cpp.cc:90] Warning: Leaking Caffe2 thread-pool after fork. (function pthreadpool)\n",
      "[W pthreadpool-cpp.cc:90] Warning: Leaking Caffe2 thread-pool after fork. (function pthreadpool)\n",
      "[W pthreadpool-cpp.cc:90] Warning: Leaking Caffe2 thread-pool after fork. (function pthreadpool)\n"
     ]
    },
    {
     "name": "stdout",
     "output_type": "stream",
     "text": [
      "Epoch: [41]  [  0/377]  eta: 0:18:06  lr: 0.000250  loss: 0.9836 (0.9836)  classification: 0.5845 (0.5845)  bbox_regression: 0.3991 (0.3991)  time: 2.8830  data: 2.0913  max mem: 7921\n",
      "Epoch: [41]  [376/377]  eta: 0:00:00  lr: 0.000250  loss: 1.0749 (1.1600)  classification: 0.6593 (0.7026)  bbox_regression: 0.4281 (0.4574)  time: 0.8285  data: 0.0323  max mem: 7921\n",
      "Epoch: [41] Total time: 0:05:18 (0.8446 s / it)\n"
     ]
    },
    {
     "name": "stderr",
     "output_type": "stream",
     "text": [
      "[W pthreadpool-cpp.cc:90] Warning: Leaking Caffe2 thread-pool after fork. (function pthreadpool)\n",
      "[W pthreadpool-cpp.cc:90] Warning: Leaking Caffe2 thread-pool after fork. (function pthreadpool)\n",
      "[W pthreadpool-cpp.cc:90] Warning: Leaking Caffe2 thread-pool after fork. (function pthreadpool)\n",
      "[W pthreadpool-cpp.cc:90] Warning: Leaking Caffe2 thread-pool after fork. (function pthreadpool)\n"
     ]
    },
    {
     "name": "stdout",
     "output_type": "stream",
     "text": [
      "Epoch: [42]  [  0/377]  eta: 0:18:34  lr: 0.000250  loss: 0.9618 (0.9618)  classification: 0.5673 (0.5673)  bbox_regression: 0.3945 (0.3945)  time: 2.9558  data: 2.1362  max mem: 7921\n",
      "Epoch: [42]  [376/377]  eta: 0:00:00  lr: 0.000250  loss: 1.0463 (1.0630)  classification: 0.6419 (0.6361)  bbox_regression: 0.4084 (0.4269)  time: 0.8368  data: 0.0346  max mem: 7921\n",
      "Epoch: [42] Total time: 0:05:18 (0.8450 s / it)\n"
     ]
    },
    {
     "name": "stderr",
     "output_type": "stream",
     "text": [
      "[W pthreadpool-cpp.cc:90] Warning: Leaking Caffe2 thread-pool after fork. (function pthreadpool)\n",
      "[W pthreadpool-cpp.cc:90] Warning: Leaking Caffe2 thread-pool after fork. (function pthreadpool)\n",
      "[W pthreadpool-cpp.cc:90] Warning: Leaking Caffe2 thread-pool after fork. (function pthreadpool)\n",
      "[W pthreadpool-cpp.cc:90] Warning: Leaking Caffe2 thread-pool after fork. (function pthreadpool)\n"
     ]
    },
    {
     "name": "stdout",
     "output_type": "stream",
     "text": [
      "Epoch: [43]  [  0/377]  eta: 0:18:21  lr: 0.000250  loss: 0.8914 (0.8914)  classification: 0.5526 (0.5526)  bbox_regression: 0.3388 (0.3388)  time: 2.9225  data: 2.1105  max mem: 7921\n",
      "Epoch: [43]  [376/377]  eta: 0:00:00  lr: 0.000250  loss: 1.0211 (1.0392)  classification: 0.5910 (0.6219)  bbox_regression: 0.4119 (0.4173)  time: 0.8248  data: 0.0284  max mem: 7921\n",
      "Epoch: [43] Total time: 0:05:17 (0.8420 s / it)\n"
     ]
    },
    {
     "name": "stderr",
     "output_type": "stream",
     "text": [
      "[W pthreadpool-cpp.cc:90] Warning: Leaking Caffe2 thread-pool after fork. (function pthreadpool)\n",
      "[W pthreadpool-cpp.cc:90] Warning: Leaking Caffe2 thread-pool after fork. (function pthreadpool)\n",
      "[W pthreadpool-cpp.cc:90] Warning: Leaking Caffe2 thread-pool after fork. (function pthreadpool)\n",
      "[W pthreadpool-cpp.cc:90] Warning: Leaking Caffe2 thread-pool after fork. (function pthreadpool)\n"
     ]
    },
    {
     "name": "stdout",
     "output_type": "stream",
     "text": [
      "Epoch: [44]  [  0/377]  eta: 0:18:28  lr: 0.000250  loss: 0.9213 (0.9213)  classification: 0.5623 (0.5623)  bbox_regression: 0.3590 (0.3590)  time: 2.9416  data: 2.1326  max mem: 7921\n",
      "Epoch: [44]  [376/377]  eta: 0:00:00  lr: 0.000250  loss: 1.0048 (1.0241)  classification: 0.5811 (0.6134)  bbox_regression: 0.3983 (0.4107)  time: 0.8238  data: 0.0293  max mem: 7921\n",
      "Epoch: [44] Total time: 0:05:16 (0.8402 s / it)\n"
     ]
    },
    {
     "name": "stderr",
     "output_type": "stream",
     "text": [
      "[W pthreadpool-cpp.cc:90] Warning: Leaking Caffe2 thread-pool after fork. (function pthreadpool)\n",
      "[W pthreadpool-cpp.cc:90] Warning: Leaking Caffe2 thread-pool after fork. (function pthreadpool)\n",
      "[W pthreadpool-cpp.cc:90] Warning: Leaking Caffe2 thread-pool after fork. (function pthreadpool)\n",
      "[W pthreadpool-cpp.cc:90] Warning: Leaking Caffe2 thread-pool after fork. (function pthreadpool)\n"
     ]
    },
    {
     "name": "stdout",
     "output_type": "stream",
     "text": [
      "Epoch: [45]  [  0/377]  eta: 0:18:44  lr: 0.000125  loss: 0.8162 (0.8162)  classification: 0.4976 (0.4976)  bbox_regression: 0.3185 (0.3185)  time: 2.9833  data: 2.1636  max mem: 7921\n",
      "Epoch: [45]  [376/377]  eta: 0:00:00  lr: 0.000125  loss: 0.9678 (1.0071)  classification: 0.5964 (0.6023)  bbox_regression: 0.3783 (0.4048)  time: 0.8339  data: 0.0320  max mem: 7921\n",
      "Epoch: [45] Total time: 0:05:20 (0.8512 s / it)\n",
      "creating index...\n",
      "index created!\n"
     ]
    },
    {
     "name": "stderr",
     "output_type": "stream",
     "text": [
      "[W pthreadpool-cpp.cc:90] Warning: Leaking Caffe2 thread-pool after fork. (function pthreadpool)\n",
      "[W pthreadpool-cpp.cc:90] Warning: Leaking Caffe2 thread-pool after fork. (function pthreadpool)\n",
      "[W pthreadpool-cpp.cc:90] Warning: Leaking Caffe2 thread-pool after fork. (function pthreadpool)\n",
      "[W pthreadpool-cpp.cc:90] Warning: Leaking Caffe2 thread-pool after fork. (function pthreadpool)\n"
     ]
    },
    {
     "name": "stdout",
     "output_type": "stream",
     "text": [
      "Test:  [  0/126]  eta: 0:05:18  model_time: 0.3674 (0.3674)  evaluator_time: 0.0283 (0.0283)  time: 2.5264  data: 2.0672  max mem: 7921\n",
      "Test:  [100/126]  eta: 0:00:13  model_time: 0.3934 (0.3931)  evaluator_time: 0.0326 (0.0402)  time: 0.5083  data: 0.0284  max mem: 7921\n",
      "Test:  [125/126]  eta: 0:00:00  model_time: 0.3965 (0.3923)  evaluator_time: 0.0332 (0.0404)  time: 0.5119  data: 0.0290  max mem: 7921\n",
      "Test: Total time: 0:01:06 (0.5308 s / it)\n",
      "Averaged stats: model_time: 0.3965 (0.3923)  evaluator_time: 0.0332 (0.0404)\n",
      "Accumulating evaluation results...\n",
      "DONE (t=0.83s).\n",
      "IoU metric: bbox\n",
      " Average Precision  (AP) @[ IoU=0.50:0.95 | area=   all | maxDets=100 ] = 0.024\n",
      " Average Precision  (AP) @[ IoU=0.50      | area=   all | maxDets=100 ] = 0.060\n",
      " Average Precision  (AP) @[ IoU=0.75      | area=   all | maxDets=100 ] = 0.017\n",
      " Average Precision  (AP) @[ IoU=0.50:0.95 | area= small | maxDets=100 ] = 0.000\n",
      " Average Precision  (AP) @[ IoU=0.50:0.95 | area=medium | maxDets=100 ] = 0.000\n",
      " Average Precision  (AP) @[ IoU=0.50:0.95 | area= large | maxDets=100 ] = 0.045\n",
      " Average Recall     (AR) @[ IoU=0.50:0.95 | area=   all | maxDets=  1 ] = 0.050\n",
      " Average Recall     (AR) @[ IoU=0.50:0.95 | area=   all | maxDets= 10 ] = 0.191\n",
      " Average Recall     (AR) @[ IoU=0.50:0.95 | area=   all | maxDets=100 ] = 0.355\n",
      " Average Recall     (AR) @[ IoU=0.50:0.95 | area= small | maxDets=100 ] = 0.000\n",
      " Average Recall     (AR) @[ IoU=0.50:0.95 | area=medium | maxDets=100 ] = 0.086\n",
      " Average Recall     (AR) @[ IoU=0.50:0.95 | area= large | maxDets=100 ] = 0.367\n"
     ]
    },
    {
     "name": "stderr",
     "output_type": "stream",
     "text": [
      "[W pthreadpool-cpp.cc:90] Warning: Leaking Caffe2 thread-pool after fork. (function pthreadpool)\n",
      "[W pthreadpool-cpp.cc:90] Warning: Leaking Caffe2 thread-pool after fork. (function pthreadpool)\n",
      "[W pthreadpool-cpp.cc:90] Warning: Leaking Caffe2 thread-pool after fork. (function pthreadpool)\n",
      "[W pthreadpool-cpp.cc:90] Warning: Leaking Caffe2 thread-pool after fork. (function pthreadpool)\n"
     ]
    },
    {
     "name": "stdout",
     "output_type": "stream",
     "text": [
      "Epoch: [46]  [  0/377]  eta: 0:17:55  lr: 0.000125  loss: 1.0252 (1.0252)  classification: 0.6006 (0.6006)  bbox_regression: 0.4245 (0.4245)  time: 2.8522  data: 2.1804  max mem: 7921\n",
      "Epoch: [46]  [376/377]  eta: 0:00:00  lr: 0.000125  loss: 1.0042 (1.0060)  classification: 0.5958 (0.6032)  bbox_regression: 0.4058 (0.4028)  time: 0.7608  data: 0.0322  max mem: 7921\n",
      "Epoch: [46] Total time: 0:04:52 (0.7760 s / it)\n"
     ]
    },
    {
     "name": "stderr",
     "output_type": "stream",
     "text": [
      "[W pthreadpool-cpp.cc:90] Warning: Leaking Caffe2 thread-pool after fork. (function pthreadpool)\n",
      "[W pthreadpool-cpp.cc:90] Warning: Leaking Caffe2 thread-pool after fork. (function pthreadpool)\n",
      "[W pthreadpool-cpp.cc:90] Warning: Leaking Caffe2 thread-pool after fork. (function pthreadpool)\n",
      "[W pthreadpool-cpp.cc:90] Warning: Leaking Caffe2 thread-pool after fork. (function pthreadpool)\n"
     ]
    },
    {
     "name": "stdout",
     "output_type": "stream",
     "text": [
      "Epoch: [47]  [  0/377]  eta: 0:18:04  lr: 0.000125  loss: 0.8734 (0.8734)  classification: 0.4966 (0.4966)  bbox_regression: 0.3767 (0.3767)  time: 2.8757  data: 2.1313  max mem: 7921\n",
      "Epoch: [47]  [376/377]  eta: 0:00:00  lr: 0.000125  loss: 1.0536 (1.0014)  classification: 0.6161 (0.6006)  bbox_regression: 0.4103 (0.4008)  time: 0.7636  data: 0.0337  max mem: 7921\n",
      "Epoch: [47] Total time: 0:04:53 (0.7787 s / it)\n"
     ]
    },
    {
     "name": "stderr",
     "output_type": "stream",
     "text": [
      "[W pthreadpool-cpp.cc:90] Warning: Leaking Caffe2 thread-pool after fork. (function pthreadpool)\n",
      "[W pthreadpool-cpp.cc:90] Warning: Leaking Caffe2 thread-pool after fork. (function pthreadpool)\n",
      "[W pthreadpool-cpp.cc:90] Warning: Leaking Caffe2 thread-pool after fork. (function pthreadpool)\n",
      "[W pthreadpool-cpp.cc:90] Warning: Leaking Caffe2 thread-pool after fork. (function pthreadpool)\n"
     ]
    },
    {
     "name": "stdout",
     "output_type": "stream",
     "text": [
      "Epoch: [48]  [  0/377]  eta: 0:18:03  lr: 0.000125  loss: 1.1314 (1.1314)  classification: 0.6810 (0.6810)  bbox_regression: 0.4504 (0.4504)  time: 2.8732  data: 2.1408  max mem: 7921\n",
      "Epoch: [48]  [376/377]  eta: 0:00:00  lr: 0.000125  loss: 0.9989 (1.0016)  classification: 0.6189 (0.5981)  bbox_regression: 0.3894 (0.4035)  time: 0.7616  data: 0.0306  max mem: 7921\n",
      "Epoch: [48] Total time: 0:04:52 (0.7745 s / it)\n"
     ]
    },
    {
     "name": "stderr",
     "output_type": "stream",
     "text": [
      "[W pthreadpool-cpp.cc:90] Warning: Leaking Caffe2 thread-pool after fork. (function pthreadpool)\n",
      "[W pthreadpool-cpp.cc:90] Warning: Leaking Caffe2 thread-pool after fork. (function pthreadpool)\n",
      "[W pthreadpool-cpp.cc:90] Warning: Leaking Caffe2 thread-pool after fork. (function pthreadpool)\n",
      "[W pthreadpool-cpp.cc:90] Warning: Leaking Caffe2 thread-pool after fork. (function pthreadpool)\n"
     ]
    },
    {
     "name": "stdout",
     "output_type": "stream",
     "text": [
      "Epoch: [49]  [  0/377]  eta: 0:18:03  lr: 0.000125  loss: 0.9438 (0.9438)  classification: 0.5715 (0.5715)  bbox_regression: 0.3723 (0.3723)  time: 2.8741  data: 2.1284  max mem: 7921\n",
      "Epoch: [49]  [376/377]  eta: 0:00:00  lr: 0.000125  loss: 1.0182 (0.9960)  classification: 0.6164 (0.5957)  bbox_regression: 0.4132 (0.4003)  time: 0.7646  data: 0.0336  max mem: 7921\n",
      "Epoch: [49] Total time: 0:04:53 (0.7783 s / it)\n"
     ]
    },
    {
     "name": "stderr",
     "output_type": "stream",
     "text": [
      "[W pthreadpool-cpp.cc:90] Warning: Leaking Caffe2 thread-pool after fork. (function pthreadpool)\n",
      "[W pthreadpool-cpp.cc:90] Warning: Leaking Caffe2 thread-pool after fork. (function pthreadpool)\n",
      "[W pthreadpool-cpp.cc:90] Warning: Leaking Caffe2 thread-pool after fork. (function pthreadpool)\n",
      "[W pthreadpool-cpp.cc:90] Warning: Leaking Caffe2 thread-pool after fork. (function pthreadpool)\n"
     ]
    },
    {
     "name": "stdout",
     "output_type": "stream",
     "text": [
      "Epoch: [50]  [  0/377]  eta: 0:17:36  lr: 0.000125  loss: 1.1016 (1.1016)  classification: 0.6075 (0.6075)  bbox_regression: 0.4941 (0.4941)  time: 2.8036  data: 2.0426  max mem: 7921\n",
      "Epoch: [50]  [376/377]  eta: 0:00:00  lr: 0.000125  loss: 1.0219 (0.9974)  classification: 0.6072 (0.5956)  bbox_regression: 0.4032 (0.4018)  time: 0.7576  data: 0.0317  max mem: 7921\n",
      "Epoch: [50] Total time: 0:04:53 (0.7798 s / it)\n",
      "creating index...\n",
      "index created!\n"
     ]
    },
    {
     "name": "stderr",
     "output_type": "stream",
     "text": [
      "[W pthreadpool-cpp.cc:90] Warning: Leaking Caffe2 thread-pool after fork. (function pthreadpool)\n",
      "[W pthreadpool-cpp.cc:90] Warning: Leaking Caffe2 thread-pool after fork. (function pthreadpool)\n",
      "[W pthreadpool-cpp.cc:90] Warning: Leaking Caffe2 thread-pool after fork. (function pthreadpool)\n",
      "[W pthreadpool-cpp.cc:90] Warning: Leaking Caffe2 thread-pool after fork. (function pthreadpool)\n"
     ]
    },
    {
     "name": "stdout",
     "output_type": "stream",
     "text": [
      "Test:  [  0/126]  eta: 0:05:37  model_time: 0.4487 (0.4487)  evaluator_time: 0.0474 (0.0474)  time: 2.6816  data: 2.1273  max mem: 7921\n",
      "Test:  [100/126]  eta: 0:00:14  model_time: 0.3940 (0.3931)  evaluator_time: 0.0329 (0.0413)  time: 0.5264  data: 0.0343  max mem: 7921\n",
      "Test:  [125/126]  eta: 0:00:00  model_time: 0.3987 (0.3925)  evaluator_time: 0.0328 (0.0413)  time: 0.5149  data: 0.0319  max mem: 7921\n",
      "Test: Total time: 0:01:07 (0.5395 s / it)\n",
      "Averaged stats: model_time: 0.3987 (0.3925)  evaluator_time: 0.0328 (0.0413)\n",
      "Accumulating evaluation results...\n",
      "DONE (t=0.86s).\n",
      "IoU metric: bbox\n",
      " Average Precision  (AP) @[ IoU=0.50:0.95 | area=   all | maxDets=100 ] = 0.022\n",
      " Average Precision  (AP) @[ IoU=0.50      | area=   all | maxDets=100 ] = 0.059\n",
      " Average Precision  (AP) @[ IoU=0.75      | area=   all | maxDets=100 ] = 0.011\n",
      " Average Precision  (AP) @[ IoU=0.50:0.95 | area= small | maxDets=100 ] = 0.000\n",
      " Average Precision  (AP) @[ IoU=0.50:0.95 | area=medium | maxDets=100 ] = 0.000\n",
      " Average Precision  (AP) @[ IoU=0.50:0.95 | area= large | maxDets=100 ] = 0.050\n",
      " Average Recall     (AR) @[ IoU=0.50:0.95 | area=   all | maxDets=  1 ] = 0.059\n",
      " Average Recall     (AR) @[ IoU=0.50:0.95 | area=   all | maxDets= 10 ] = 0.199\n",
      " Average Recall     (AR) @[ IoU=0.50:0.95 | area=   all | maxDets=100 ] = 0.366\n",
      " Average Recall     (AR) @[ IoU=0.50:0.95 | area= small | maxDets=100 ] = 0.000\n",
      " Average Recall     (AR) @[ IoU=0.50:0.95 | area=medium | maxDets=100 ] = 0.082\n",
      " Average Recall     (AR) @[ IoU=0.50:0.95 | area= large | maxDets=100 ] = 0.380\n"
     ]
    },
    {
     "name": "stderr",
     "output_type": "stream",
     "text": [
      "[W pthreadpool-cpp.cc:90] Warning: Leaking Caffe2 thread-pool after fork. (function pthreadpool)\n",
      "[W pthreadpool-cpp.cc:90] Warning: Leaking Caffe2 thread-pool after fork. (function pthreadpool)\n",
      "[W pthreadpool-cpp.cc:90] Warning: Leaking Caffe2 thread-pool after fork. (function pthreadpool)\n",
      "[W pthreadpool-cpp.cc:90] Warning: Leaking Caffe2 thread-pool after fork. (function pthreadpool)\n"
     ]
    },
    {
     "name": "stdout",
     "output_type": "stream",
     "text": [
      "Epoch: [51]  [  0/377]  eta: 0:18:03  lr: 0.000125  loss: 0.9822 (0.9822)  classification: 0.5870 (0.5870)  bbox_regression: 0.3952 (0.3952)  time: 2.8745  data: 2.1319  max mem: 7921\n",
      "Epoch: [51]  [376/377]  eta: 0:00:00  lr: 0.000125  loss: 1.0108 (0.9942)  classification: 0.5958 (0.5934)  bbox_regression: 0.4091 (0.4008)  time: 0.7665  data: 0.0341  max mem: 7921\n",
      "Epoch: [51] Total time: 0:04:54 (0.7817 s / it)\n"
     ]
    },
    {
     "name": "stderr",
     "output_type": "stream",
     "text": [
      "[W pthreadpool-cpp.cc:90] Warning: Leaking Caffe2 thread-pool after fork. (function pthreadpool)\n",
      "[W pthreadpool-cpp.cc:90] Warning: Leaking Caffe2 thread-pool after fork. (function pthreadpool)\n",
      "[W pthreadpool-cpp.cc:90] Warning: Leaking Caffe2 thread-pool after fork. (function pthreadpool)\n",
      "[W pthreadpool-cpp.cc:90] Warning: Leaking Caffe2 thread-pool after fork. (function pthreadpool)\n"
     ]
    },
    {
     "name": "stdout",
     "output_type": "stream",
     "text": [
      "Epoch: [52]  [  0/377]  eta: 0:19:33  lr: 0.000125  loss: 1.0124 (1.0124)  classification: 0.5687 (0.5687)  bbox_regression: 0.4437 (0.4437)  time: 3.1138  data: 2.3722  max mem: 7921\n",
      "Epoch: [52]  [376/377]  eta: 0:00:00  lr: 0.000125  loss: 0.9950 (0.9900)  classification: 0.5802 (0.5936)  bbox_regression: 0.4093 (0.3964)  time: 0.7652  data: 0.0309  max mem: 7921\n",
      "Epoch: [52] Total time: 0:04:54 (0.7801 s / it)\n"
     ]
    },
    {
     "name": "stderr",
     "output_type": "stream",
     "text": [
      "[W pthreadpool-cpp.cc:90] Warning: Leaking Caffe2 thread-pool after fork. (function pthreadpool)\n",
      "[W pthreadpool-cpp.cc:90] Warning: Leaking Caffe2 thread-pool after fork. (function pthreadpool)\n",
      "[W pthreadpool-cpp.cc:90] Warning: Leaking Caffe2 thread-pool after fork. (function pthreadpool)\n",
      "[W pthreadpool-cpp.cc:90] Warning: Leaking Caffe2 thread-pool after fork. (function pthreadpool)\n"
     ]
    },
    {
     "name": "stdout",
     "output_type": "stream",
     "text": [
      "Epoch: [53]  [  0/377]  eta: 0:18:26  lr: 0.000125  loss: 0.9399 (0.9399)  classification: 0.5911 (0.5911)  bbox_regression: 0.3488 (0.3488)  time: 2.9359  data: 2.2050  max mem: 7921\n",
      "Epoch: [53]  [376/377]  eta: 0:00:00  lr: 0.000125  loss: 1.0054 (0.9810)  classification: 0.6015 (0.5887)  bbox_regression: 0.3969 (0.3923)  time: 0.7599  data: 0.0315  max mem: 7921\n",
      "Epoch: [53] Total time: 0:04:53 (0.7777 s / it)\n"
     ]
    },
    {
     "name": "stderr",
     "output_type": "stream",
     "text": [
      "[W pthreadpool-cpp.cc:90] Warning: Leaking Caffe2 thread-pool after fork. (function pthreadpool)\n",
      "[W pthreadpool-cpp.cc:90] Warning: Leaking Caffe2 thread-pool after fork. (function pthreadpool)\n",
      "[W pthreadpool-cpp.cc:90] Warning: Leaking Caffe2 thread-pool after fork. (function pthreadpool)\n",
      "[W pthreadpool-cpp.cc:90] Warning: Leaking Caffe2 thread-pool after fork. (function pthreadpool)\n"
     ]
    },
    {
     "name": "stdout",
     "output_type": "stream",
     "text": [
      "Epoch: [54]  [  0/377]  eta: 0:18:33  lr: 0.000125  loss: 0.9206 (0.9206)  classification: 0.5632 (0.5632)  bbox_regression: 0.3575 (0.3575)  time: 2.9546  data: 2.2107  max mem: 7921\n",
      "Epoch: [54]  [376/377]  eta: 0:00:00  lr: 0.000125  loss: 1.0051 (0.9854)  classification: 0.5899 (0.5893)  bbox_regression: 0.4163 (0.3962)  time: 0.7620  data: 0.0333  max mem: 7921\n",
      "Epoch: [54] Total time: 0:04:53 (0.7781 s / it)\n"
     ]
    },
    {
     "name": "stderr",
     "output_type": "stream",
     "text": [
      "[W pthreadpool-cpp.cc:90] Warning: Leaking Caffe2 thread-pool after fork. (function pthreadpool)\n",
      "[W pthreadpool-cpp.cc:90] Warning: Leaking Caffe2 thread-pool after fork. (function pthreadpool)\n",
      "[W pthreadpool-cpp.cc:90] Warning: Leaking Caffe2 thread-pool after fork. (function pthreadpool)\n",
      "[W pthreadpool-cpp.cc:90] Warning: Leaking Caffe2 thread-pool after fork. (function pthreadpool)\n"
     ]
    },
    {
     "name": "stdout",
     "output_type": "stream",
     "text": [
      "Epoch: [55]  [  0/377]  eta: 0:18:46  lr: 0.000125  loss: 0.7812 (0.7812)  classification: 0.4615 (0.4615)  bbox_regression: 0.3196 (0.3196)  time: 2.9883  data: 2.2522  max mem: 7921\n",
      "Epoch: [55]  [376/377]  eta: 0:00:00  lr: 0.000125  loss: 0.9963 (0.9768)  classification: 0.5931 (0.5848)  bbox_regression: 0.3938 (0.3920)  time: 0.7531  data: 0.0285  max mem: 7921\n",
      "Epoch: [55] Total time: 0:04:52 (0.7769 s / it)\n",
      "creating index...\n",
      "index created!\n"
     ]
    },
    {
     "name": "stderr",
     "output_type": "stream",
     "text": [
      "[W pthreadpool-cpp.cc:90] Warning: Leaking Caffe2 thread-pool after fork. (function pthreadpool)\n",
      "[W pthreadpool-cpp.cc:90] Warning: Leaking Caffe2 thread-pool after fork. (function pthreadpool)\n",
      "[W pthreadpool-cpp.cc:90] Warning: Leaking Caffe2 thread-pool after fork. (function pthreadpool)\n",
      "[W pthreadpool-cpp.cc:90] Warning: Leaking Caffe2 thread-pool after fork. (function pthreadpool)\n"
     ]
    },
    {
     "name": "stdout",
     "output_type": "stream",
     "text": [
      "Test:  [  0/126]  eta: 0:06:05  model_time: 0.7377 (0.7377)  evaluator_time: 0.0911 (0.0911)  time: 2.8998  data: 2.0103  max mem: 7921\n",
      "Test:  [100/126]  eta: 0:00:14  model_time: 0.3979 (0.4014)  evaluator_time: 0.0322 (0.0395)  time: 0.5125  data: 0.0276  max mem: 7921\n",
      "Test:  [125/126]  eta: 0:00:00  model_time: 0.4012 (0.3995)  evaluator_time: 0.0318 (0.0391)  time: 0.5052  data: 0.0280  max mem: 7921\n",
      "Test: Total time: 0:01:07 (0.5351 s / it)\n",
      "Averaged stats: model_time: 0.4012 (0.3995)  evaluator_time: 0.0318 (0.0391)\n",
      "Accumulating evaluation results...\n",
      "DONE (t=0.91s).\n",
      "IoU metric: bbox\n",
      " Average Precision  (AP) @[ IoU=0.50:0.95 | area=   all | maxDets=100 ] = 0.029\n",
      " Average Precision  (AP) @[ IoU=0.50      | area=   all | maxDets=100 ] = 0.071\n",
      " Average Precision  (AP) @[ IoU=0.75      | area=   all | maxDets=100 ] = 0.020\n",
      " Average Precision  (AP) @[ IoU=0.50:0.95 | area= small | maxDets=100 ] = 0.000\n",
      " Average Precision  (AP) @[ IoU=0.50:0.95 | area=medium | maxDets=100 ] = 0.000\n",
      " Average Precision  (AP) @[ IoU=0.50:0.95 | area= large | maxDets=100 ] = 0.057\n",
      " Average Recall     (AR) @[ IoU=0.50:0.95 | area=   all | maxDets=  1 ] = 0.057\n",
      " Average Recall     (AR) @[ IoU=0.50:0.95 | area=   all | maxDets= 10 ] = 0.218\n",
      " Average Recall     (AR) @[ IoU=0.50:0.95 | area=   all | maxDets=100 ] = 0.378\n",
      " Average Recall     (AR) @[ IoU=0.50:0.95 | area= small | maxDets=100 ] = 0.000\n",
      " Average Recall     (AR) @[ IoU=0.50:0.95 | area=medium | maxDets=100 ] = 0.096\n",
      " Average Recall     (AR) @[ IoU=0.50:0.95 | area= large | maxDets=100 ] = 0.391\n"
     ]
    },
    {
     "name": "stderr",
     "output_type": "stream",
     "text": [
      "[W pthreadpool-cpp.cc:90] Warning: Leaking Caffe2 thread-pool after fork. (function pthreadpool)\n",
      "[W pthreadpool-cpp.cc:90] Warning: Leaking Caffe2 thread-pool after fork. (function pthreadpool)\n",
      "[W pthreadpool-cpp.cc:90] Warning: Leaking Caffe2 thread-pool after fork. (function pthreadpool)\n",
      "[W pthreadpool-cpp.cc:90] Warning: Leaking Caffe2 thread-pool after fork. (function pthreadpool)\n"
     ]
    },
    {
     "name": "stdout",
     "output_type": "stream",
     "text": [
      "Epoch: [56]  [  0/377]  eta: 0:17:25  lr: 0.000125  loss: 1.0703 (1.0703)  classification: 0.6332 (0.6332)  bbox_regression: 0.4371 (0.4371)  time: 2.7730  data: 2.0388  max mem: 7921\n",
      "Epoch: [56]  [376/377]  eta: 0:00:00  lr: 0.000125  loss: 0.9445 (0.9765)  classification: 0.5722 (0.5845)  bbox_regression: 0.3682 (0.3920)  time: 0.7545  data: 0.0276  max mem: 7921\n",
      "Epoch: [56] Total time: 0:04:50 (0.7716 s / it)\n"
     ]
    },
    {
     "name": "stderr",
     "output_type": "stream",
     "text": [
      "[W pthreadpool-cpp.cc:90] Warning: Leaking Caffe2 thread-pool after fork. (function pthreadpool)\n",
      "[W pthreadpool-cpp.cc:90] Warning: Leaking Caffe2 thread-pool after fork. (function pthreadpool)\n",
      "[W pthreadpool-cpp.cc:90] Warning: Leaking Caffe2 thread-pool after fork. (function pthreadpool)\n",
      "[W pthreadpool-cpp.cc:90] Warning: Leaking Caffe2 thread-pool after fork. (function pthreadpool)\n"
     ]
    },
    {
     "name": "stdout",
     "output_type": "stream",
     "text": [
      "Epoch: [57]  [  0/377]  eta: 0:17:57  lr: 0.000125  loss: 0.7860 (0.7860)  classification: 0.4846 (0.4846)  bbox_regression: 0.3014 (0.3014)  time: 2.8592  data: 2.1269  max mem: 7921\n",
      "Epoch: [57]  [376/377]  eta: 0:00:00  lr: 0.000125  loss: 0.9551 (0.9900)  classification: 0.5894 (0.5912)  bbox_regression: 0.4105 (0.3987)  time: 0.7556  data: 0.0305  max mem: 7921\n",
      "Epoch: [57] Total time: 0:04:51 (0.7732 s / it)\n"
     ]
    },
    {
     "name": "stderr",
     "output_type": "stream",
     "text": [
      "[W pthreadpool-cpp.cc:90] Warning: Leaking Caffe2 thread-pool after fork. (function pthreadpool)\n",
      "[W pthreadpool-cpp.cc:90] Warning: Leaking Caffe2 thread-pool after fork. (function pthreadpool)\n",
      "[W pthreadpool-cpp.cc:90] Warning: Leaking Caffe2 thread-pool after fork. (function pthreadpool)\n",
      "[W pthreadpool-cpp.cc:90] Warning: Leaking Caffe2 thread-pool after fork. (function pthreadpool)\n"
     ]
    },
    {
     "name": "stdout",
     "output_type": "stream",
     "text": [
      "Epoch: [58]  [  0/377]  eta: 0:17:30  lr: 0.000125  loss: 1.0571 (1.0571)  classification: 0.6207 (0.6207)  bbox_regression: 0.4364 (0.4364)  time: 2.7877  data: 2.0434  max mem: 7921\n",
      "Epoch: [58]  [376/377]  eta: 0:00:00  lr: 0.000125  loss: 0.9847 (0.9806)  classification: 0.5691 (0.5869)  bbox_regression: 0.4162 (0.3937)  time: 0.7561  data: 0.0296  max mem: 7921\n",
      "Epoch: [58] Total time: 0:04:49 (0.7680 s / it)\n"
     ]
    },
    {
     "name": "stderr",
     "output_type": "stream",
     "text": [
      "[W pthreadpool-cpp.cc:90] Warning: Leaking Caffe2 thread-pool after fork. (function pthreadpool)\n",
      "[W pthreadpool-cpp.cc:90] Warning: Leaking Caffe2 thread-pool after fork. (function pthreadpool)\n",
      "[W pthreadpool-cpp.cc:90] Warning: Leaking Caffe2 thread-pool after fork. (function pthreadpool)\n",
      "[W pthreadpool-cpp.cc:90] Warning: Leaking Caffe2 thread-pool after fork. (function pthreadpool)\n"
     ]
    },
    {
     "name": "stdout",
     "output_type": "stream",
     "text": [
      "Epoch: [59]  [  0/377]  eta: 0:16:47  lr: 0.000125  loss: 1.0545 (1.0545)  classification: 0.5816 (0.5816)  bbox_regression: 0.4729 (0.4729)  time: 2.6713  data: 1.9362  max mem: 7921\n",
      "Epoch: [59]  [376/377]  eta: 0:00:00  lr: 0.000125  loss: 0.9356 (0.9755)  classification: 0.5824 (0.5833)  bbox_regression: 0.3751 (0.3922)  time: 0.7505  data: 0.0278  max mem: 7921\n",
      "Epoch: [59] Total time: 0:04:49 (0.7688 s / it)\n"
     ]
    },
    {
     "name": "stderr",
     "output_type": "stream",
     "text": [
      "[W pthreadpool-cpp.cc:90] Warning: Leaking Caffe2 thread-pool after fork. (function pthreadpool)\n",
      "[W pthreadpool-cpp.cc:90] Warning: Leaking Caffe2 thread-pool after fork. (function pthreadpool)\n",
      "[W pthreadpool-cpp.cc:90] Warning: Leaking Caffe2 thread-pool after fork. (function pthreadpool)\n",
      "[W pthreadpool-cpp.cc:90] Warning: Leaking Caffe2 thread-pool after fork. (function pthreadpool)\n"
     ]
    },
    {
     "name": "stdout",
     "output_type": "stream",
     "text": [
      "Epoch: [60]  [  0/377]  eta: 0:17:22  lr: 0.000063  loss: 1.0129 (1.0129)  classification: 0.5771 (0.5771)  bbox_regression: 0.4359 (0.4359)  time: 2.7661  data: 2.0191  max mem: 7921\n",
      "Epoch: [60]  [376/377]  eta: 0:00:00  lr: 0.000063  loss: 0.9362 (0.9732)  classification: 0.5876 (0.5815)  bbox_regression: 0.3720 (0.3917)  time: 0.7540  data: 0.0289  max mem: 7921\n",
      "Epoch: [60] Total time: 0:04:51 (0.7722 s / it)\n",
      "creating index...\n",
      "index created!\n"
     ]
    },
    {
     "name": "stderr",
     "output_type": "stream",
     "text": [
      "[W pthreadpool-cpp.cc:90] Warning: Leaking Caffe2 thread-pool after fork. (function pthreadpool)\n",
      "[W pthreadpool-cpp.cc:90] Warning: Leaking Caffe2 thread-pool after fork. (function pthreadpool)\n",
      "[W pthreadpool-cpp.cc:90] Warning: Leaking Caffe2 thread-pool after fork. (function pthreadpool)\n",
      "[W pthreadpool-cpp.cc:90] Warning: Leaking Caffe2 thread-pool after fork. (function pthreadpool)\n"
     ]
    },
    {
     "name": "stdout",
     "output_type": "stream",
     "text": [
      "Test:  [  0/126]  eta: 0:06:31  model_time: 0.9684 (0.9684)  evaluator_time: 0.0562 (0.0562)  time: 3.1046  data: 2.0074  max mem: 7921\n",
      "Test:  [100/126]  eta: 0:00:14  model_time: 0.3923 (0.3998)  evaluator_time: 0.0330 (0.0393)  time: 0.5203  data: 0.0299  max mem: 7921\n",
      "Test:  [125/126]  eta: 0:00:00  model_time: 0.3979 (0.3983)  evaluator_time: 0.0341 (0.0396)  time: 0.5183  data: 0.0306  max mem: 7921\n",
      "Test: Total time: 0:01:08 (0.5416 s / it)\n",
      "Averaged stats: model_time: 0.3979 (0.3983)  evaluator_time: 0.0341 (0.0396)\n",
      "Accumulating evaluation results...\n",
      "DONE (t=0.78s).\n",
      "IoU metric: bbox\n",
      " Average Precision  (AP) @[ IoU=0.50:0.95 | area=   all | maxDets=100 ] = 0.028\n",
      " Average Precision  (AP) @[ IoU=0.50      | area=   all | maxDets=100 ] = 0.070\n",
      " Average Precision  (AP) @[ IoU=0.75      | area=   all | maxDets=100 ] = 0.015\n",
      " Average Precision  (AP) @[ IoU=0.50:0.95 | area= small | maxDets=100 ] = 0.000\n",
      " Average Precision  (AP) @[ IoU=0.50:0.95 | area=medium | maxDets=100 ] = 0.000\n",
      " Average Precision  (AP) @[ IoU=0.50:0.95 | area= large | maxDets=100 ] = 0.082\n",
      " Average Recall     (AR) @[ IoU=0.50:0.95 | area=   all | maxDets=  1 ] = 0.064\n",
      " Average Recall     (AR) @[ IoU=0.50:0.95 | area=   all | maxDets= 10 ] = 0.234\n",
      " Average Recall     (AR) @[ IoU=0.50:0.95 | area=   all | maxDets=100 ] = 0.391\n",
      " Average Recall     (AR) @[ IoU=0.50:0.95 | area= small | maxDets=100 ] = 0.000\n",
      " Average Recall     (AR) @[ IoU=0.50:0.95 | area=medium | maxDets=100 ] = 0.086\n",
      " Average Recall     (AR) @[ IoU=0.50:0.95 | area= large | maxDets=100 ] = 0.405\n"
     ]
    },
    {
     "name": "stderr",
     "output_type": "stream",
     "text": [
      "[W pthreadpool-cpp.cc:90] Warning: Leaking Caffe2 thread-pool after fork. (function pthreadpool)\n",
      "[W pthreadpool-cpp.cc:90] Warning: Leaking Caffe2 thread-pool after fork. (function pthreadpool)\n",
      "[W pthreadpool-cpp.cc:90] Warning: Leaking Caffe2 thread-pool after fork. (function pthreadpool)\n",
      "[W pthreadpool-cpp.cc:90] Warning: Leaking Caffe2 thread-pool after fork. (function pthreadpool)\n"
     ]
    },
    {
     "name": "stdout",
     "output_type": "stream",
     "text": [
      "Epoch: [61]  [  0/377]  eta: 0:20:40  lr: 0.000063  loss: 0.9076 (0.9076)  classification: 0.5545 (0.5545)  bbox_regression: 0.3531 (0.3531)  time: 3.2893  data: 1.9933  max mem: 7921\n",
      "Epoch: [61]  [376/377]  eta: 0:00:00  lr: 0.000063  loss: 0.9408 (0.9721)  classification: 0.5672 (0.5816)  bbox_regression: 0.3754 (0.3905)  time: 0.7665  data: 0.0320  max mem: 7921\n",
      "Epoch: [61] Total time: 0:04:52 (0.7750 s / it)\n"
     ]
    },
    {
     "name": "stderr",
     "output_type": "stream",
     "text": [
      "[W pthreadpool-cpp.cc:90] Warning: Leaking Caffe2 thread-pool after fork. (function pthreadpool)\n",
      "[W pthreadpool-cpp.cc:90] Warning: Leaking Caffe2 thread-pool after fork. (function pthreadpool)\n",
      "[W pthreadpool-cpp.cc:90] Warning: Leaking Caffe2 thread-pool after fork. (function pthreadpool)\n",
      "[W pthreadpool-cpp.cc:90] Warning: Leaking Caffe2 thread-pool after fork. (function pthreadpool)\n"
     ]
    },
    {
     "name": "stdout",
     "output_type": "stream",
     "text": [
      "Epoch: [62]  [  0/377]  eta: 0:16:59  lr: 0.000063  loss: 0.8923 (0.8923)  classification: 0.5557 (0.5557)  bbox_regression: 0.3366 (0.3366)  time: 2.7054  data: 1.9563  max mem: 7921\n",
      "Epoch: [62]  [376/377]  eta: 0:00:00  lr: 0.000063  loss: 0.8845 (0.9650)  classification: 0.5519 (0.5774)  bbox_regression: 0.3653 (0.3875)  time: 0.7658  data: 0.0325  max mem: 7921\n",
      "Epoch: [62] Total time: 0:04:52 (0.7771 s / it)\n"
     ]
    },
    {
     "name": "stderr",
     "output_type": "stream",
     "text": [
      "[W pthreadpool-cpp.cc:90] Warning: Leaking Caffe2 thread-pool after fork. (function pthreadpool)\n",
      "[W pthreadpool-cpp.cc:90] Warning: Leaking Caffe2 thread-pool after fork. (function pthreadpool)\n",
      "[W pthreadpool-cpp.cc:90] Warning: Leaking Caffe2 thread-pool after fork. (function pthreadpool)\n",
      "[W pthreadpool-cpp.cc:90] Warning: Leaking Caffe2 thread-pool after fork. (function pthreadpool)\n"
     ]
    },
    {
     "name": "stdout",
     "output_type": "stream",
     "text": [
      "Epoch: [63]  [  0/377]  eta: 0:16:57  lr: 0.000063  loss: 0.9259 (0.9259)  classification: 0.5184 (0.5184)  bbox_regression: 0.4075 (0.4075)  time: 2.6999  data: 1.9573  max mem: 7921\n",
      "Epoch: [63]  [376/377]  eta: 0:00:00  lr: 0.000063  loss: 0.9249 (0.9689)  classification: 0.5617 (0.5802)  bbox_regression: 0.3723 (0.3887)  time: 0.7585  data: 0.0297  max mem: 7921\n",
      "Epoch: [63] Total time: 0:04:52 (0.7768 s / it)\n"
     ]
    },
    {
     "name": "stderr",
     "output_type": "stream",
     "text": [
      "[W pthreadpool-cpp.cc:90] Warning: Leaking Caffe2 thread-pool after fork. (function pthreadpool)\n",
      "[W pthreadpool-cpp.cc:90] Warning: Leaking Caffe2 thread-pool after fork. (function pthreadpool)\n",
      "[W pthreadpool-cpp.cc:90] Warning: Leaking Caffe2 thread-pool after fork. (function pthreadpool)\n",
      "[W pthreadpool-cpp.cc:90] Warning: Leaking Caffe2 thread-pool after fork. (function pthreadpool)\n"
     ]
    },
    {
     "name": "stdout",
     "output_type": "stream",
     "text": [
      "Epoch: [64]  [  0/377]  eta: 0:17:02  lr: 0.000063  loss: 0.9580 (0.9580)  classification: 0.6123 (0.6123)  bbox_regression: 0.3457 (0.3457)  time: 2.7121  data: 1.9768  max mem: 7921\n",
      "Epoch: [64]  [376/377]  eta: 0:00:00  lr: 0.000063  loss: 0.9668 (0.9634)  classification: 0.5784 (0.5762)  bbox_regression: 0.3867 (0.3872)  time: 0.7591  data: 0.0290  max mem: 7921\n",
      "Epoch: [64] Total time: 0:04:51 (0.7743 s / it)\n"
     ]
    },
    {
     "name": "stderr",
     "output_type": "stream",
     "text": [
      "[W pthreadpool-cpp.cc:90] Warning: Leaking Caffe2 thread-pool after fork. (function pthreadpool)\n",
      "[W pthreadpool-cpp.cc:90] Warning: Leaking Caffe2 thread-pool after fork. (function pthreadpool)\n",
      "[W pthreadpool-cpp.cc:90] Warning: Leaking Caffe2 thread-pool after fork. (function pthreadpool)\n",
      "[W pthreadpool-cpp.cc:90] Warning: Leaking Caffe2 thread-pool after fork. (function pthreadpool)\n"
     ]
    },
    {
     "name": "stdout",
     "output_type": "stream",
     "text": [
      "Epoch: [65]  [  0/377]  eta: 0:17:14  lr: 0.000063  loss: 0.9649 (0.9649)  classification: 0.5528 (0.5528)  bbox_regression: 0.4122 (0.4122)  time: 2.7441  data: 2.0034  max mem: 7921\n",
      "Epoch: [65]  [376/377]  eta: 0:00:00  lr: 0.000063  loss: 0.9335 (0.9616)  classification: 0.5568 (0.5753)  bbox_regression: 0.3924 (0.3864)  time: 0.7623  data: 0.0296  max mem: 7921\n",
      "Epoch: [65] Total time: 0:04:51 (0.7743 s / it)\n",
      "creating index...\n",
      "index created!\n"
     ]
    },
    {
     "name": "stderr",
     "output_type": "stream",
     "text": [
      "[W pthreadpool-cpp.cc:90] Warning: Leaking Caffe2 thread-pool after fork. (function pthreadpool)\n",
      "[W pthreadpool-cpp.cc:90] Warning: Leaking Caffe2 thread-pool after fork. (function pthreadpool)\n",
      "[W pthreadpool-cpp.cc:90] Warning: Leaking Caffe2 thread-pool after fork. (function pthreadpool)\n",
      "[W pthreadpool-cpp.cc:90] Warning: Leaking Caffe2 thread-pool after fork. (function pthreadpool)\n"
     ]
    },
    {
     "name": "stdout",
     "output_type": "stream",
     "text": [
      "Test:  [  0/126]  eta: 0:04:59  model_time: 0.3896 (0.3896)  evaluator_time: 0.0293 (0.0293)  time: 2.3758  data: 1.9011  max mem: 7921\n",
      "Test:  [100/126]  eta: 0:00:13  model_time: 0.3994 (0.3943)  evaluator_time: 0.0323 (0.0364)  time: 0.5182  data: 0.0291  max mem: 7921\n",
      "Test:  [125/126]  eta: 0:00:00  model_time: 0.3998 (0.3936)  evaluator_time: 0.0330 (0.0367)  time: 0.5054  data: 0.0279  max mem: 7921\n",
      "Test: Total time: 0:01:06 (0.5261 s / it)\n",
      "Averaged stats: model_time: 0.3998 (0.3936)  evaluator_time: 0.0330 (0.0367)\n",
      "Accumulating evaluation results...\n",
      "DONE (t=0.81s).\n",
      "IoU metric: bbox\n",
      " Average Precision  (AP) @[ IoU=0.50:0.95 | area=   all | maxDets=100 ] = 0.028\n",
      " Average Precision  (AP) @[ IoU=0.50      | area=   all | maxDets=100 ] = 0.072\n",
      " Average Precision  (AP) @[ IoU=0.75      | area=   all | maxDets=100 ] = 0.016\n",
      " Average Precision  (AP) @[ IoU=0.50:0.95 | area= small | maxDets=100 ] = 0.000\n",
      " Average Precision  (AP) @[ IoU=0.50:0.95 | area=medium | maxDets=100 ] = 0.000\n",
      " Average Precision  (AP) @[ IoU=0.50:0.95 | area= large | maxDets=100 ] = 0.067\n",
      " Average Recall     (AR) @[ IoU=0.50:0.95 | area=   all | maxDets=  1 ] = 0.066\n",
      " Average Recall     (AR) @[ IoU=0.50:0.95 | area=   all | maxDets= 10 ] = 0.229\n",
      " Average Recall     (AR) @[ IoU=0.50:0.95 | area=   all | maxDets=100 ] = 0.396\n",
      " Average Recall     (AR) @[ IoU=0.50:0.95 | area= small | maxDets=100 ] = 0.000\n",
      " Average Recall     (AR) @[ IoU=0.50:0.95 | area=medium | maxDets=100 ] = 0.122\n",
      " Average Recall     (AR) @[ IoU=0.50:0.95 | area= large | maxDets=100 ] = 0.408\n"
     ]
    },
    {
     "name": "stderr",
     "output_type": "stream",
     "text": [
      "[W pthreadpool-cpp.cc:90] Warning: Leaking Caffe2 thread-pool after fork. (function pthreadpool)\n",
      "[W pthreadpool-cpp.cc:90] Warning: Leaking Caffe2 thread-pool after fork. (function pthreadpool)\n",
      "[W pthreadpool-cpp.cc:90] Warning: Leaking Caffe2 thread-pool after fork. (function pthreadpool)\n",
      "[W pthreadpool-cpp.cc:90] Warning: Leaking Caffe2 thread-pool after fork. (function pthreadpool)\n"
     ]
    },
    {
     "name": "stdout",
     "output_type": "stream",
     "text": [
      "Epoch: [66]  [  0/377]  eta: 0:17:30  lr: 0.000063  loss: 1.0601 (1.0601)  classification: 0.6752 (0.6752)  bbox_regression: 0.3849 (0.3849)  time: 2.7859  data: 2.0504  max mem: 7921\n",
      "Epoch: [66]  [376/377]  eta: 0:00:00  lr: 0.000063  loss: 0.9196 (0.9646)  classification: 0.5657 (0.5768)  bbox_regression: 0.3693 (0.3879)  time: 0.7547  data: 0.0276  max mem: 7921\n",
      "Epoch: [66] Total time: 0:04:51 (0.7733 s / it)\n"
     ]
    },
    {
     "name": "stderr",
     "output_type": "stream",
     "text": [
      "[W pthreadpool-cpp.cc:90] Warning: Leaking Caffe2 thread-pool after fork. (function pthreadpool)\n",
      "[W pthreadpool-cpp.cc:90] Warning: Leaking Caffe2 thread-pool after fork. (function pthreadpool)\n",
      "[W pthreadpool-cpp.cc:90] Warning: Leaking Caffe2 thread-pool after fork. (function pthreadpool)\n",
      "[W pthreadpool-cpp.cc:90] Warning: Leaking Caffe2 thread-pool after fork. (function pthreadpool)\n"
     ]
    },
    {
     "name": "stdout",
     "output_type": "stream",
     "text": [
      "Epoch: [67]  [  0/377]  eta: 0:17:04  lr: 0.000063  loss: 0.7602 (0.7602)  classification: 0.4979 (0.4979)  bbox_regression: 0.2622 (0.2622)  time: 2.7182  data: 1.9652  max mem: 7921\n",
      "Epoch: [67]  [376/377]  eta: 0:00:00  lr: 0.000063  loss: 0.9286 (0.9608)  classification: 0.5609 (0.5753)  bbox_regression: 0.3776 (0.3856)  time: 0.7631  data: 0.0309  max mem: 7921\n",
      "Epoch: [67] Total time: 0:04:53 (0.7780 s / it)\n"
     ]
    },
    {
     "name": "stderr",
     "output_type": "stream",
     "text": [
      "[W pthreadpool-cpp.cc:90] Warning: Leaking Caffe2 thread-pool after fork. (function pthreadpool)\n",
      "[W pthreadpool-cpp.cc:90] Warning: Leaking Caffe2 thread-pool after fork. (function pthreadpool)\n",
      "[W pthreadpool-cpp.cc:90] Warning: Leaking Caffe2 thread-pool after fork. (function pthreadpool)\n",
      "[W pthreadpool-cpp.cc:90] Warning: Leaking Caffe2 thread-pool after fork. (function pthreadpool)\n"
     ]
    },
    {
     "name": "stdout",
     "output_type": "stream",
     "text": [
      "Epoch: [68]  [  0/377]  eta: 0:17:34  lr: 0.000063  loss: 1.0100 (1.0100)  classification: 0.5733 (0.5733)  bbox_regression: 0.4367 (0.4367)  time: 2.7961  data: 2.0601  max mem: 7921\n",
      "Epoch: [68]  [376/377]  eta: 0:00:00  lr: 0.000063  loss: 0.9038 (0.9576)  classification: 0.5463 (0.5726)  bbox_regression: 0.3779 (0.3850)  time: 0.7277  data: 0.0279  max mem: 7921\n",
      "Epoch: [68] Total time: 0:04:50 (0.7701 s / it)\n"
     ]
    },
    {
     "name": "stderr",
     "output_type": "stream",
     "text": [
      "[W pthreadpool-cpp.cc:90] Warning: Leaking Caffe2 thread-pool after fork. (function pthreadpool)\n",
      "[W pthreadpool-cpp.cc:90] Warning: Leaking Caffe2 thread-pool after fork. (function pthreadpool)\n",
      "[W pthreadpool-cpp.cc:90] Warning: Leaking Caffe2 thread-pool after fork. (function pthreadpool)\n",
      "[W pthreadpool-cpp.cc:90] Warning: Leaking Caffe2 thread-pool after fork. (function pthreadpool)\n"
     ]
    },
    {
     "name": "stdout",
     "output_type": "stream",
     "text": [
      "Epoch: [69]  [  0/377]  eta: 0:17:18  lr: 0.000063  loss: 1.0633 (1.0633)  classification: 0.6073 (0.6073)  bbox_regression: 0.4560 (0.4560)  time: 2.7540  data: 2.0901  max mem: 7921\n",
      "Epoch: [69]  [376/377]  eta: 0:00:00  lr: 0.000063  loss: 0.9417 (0.9568)  classification: 0.5568 (0.5727)  bbox_regression: 0.3837 (0.3840)  time: 0.7541  data: 0.0274  max mem: 7921\n",
      "Epoch: [69] Total time: 0:04:51 (0.7721 s / it)\n"
     ]
    },
    {
     "name": "stderr",
     "output_type": "stream",
     "text": [
      "[W pthreadpool-cpp.cc:90] Warning: Leaking Caffe2 thread-pool after fork. (function pthreadpool)\n",
      "[W pthreadpool-cpp.cc:90] Warning: Leaking Caffe2 thread-pool after fork. (function pthreadpool)\n",
      "[W pthreadpool-cpp.cc:90] Warning: Leaking Caffe2 thread-pool after fork. (function pthreadpool)\n",
      "[W pthreadpool-cpp.cc:90] Warning: Leaking Caffe2 thread-pool after fork. (function pthreadpool)\n"
     ]
    },
    {
     "name": "stdout",
     "output_type": "stream",
     "text": [
      "Epoch: [70]  [  0/377]  eta: 0:17:52  lr: 0.000063  loss: 0.9870 (0.9870)  classification: 0.5368 (0.5368)  bbox_regression: 0.4502 (0.4502)  time: 2.8455  data: 2.1051  max mem: 7921\n",
      "Epoch: [70]  [376/377]  eta: 0:00:00  lr: 0.000063  loss: 1.0033 (0.9567)  classification: 0.5800 (0.5726)  bbox_regression: 0.4244 (0.3841)  time: 0.7596  data: 0.0306  max mem: 7921\n",
      "Epoch: [70] Total time: 0:04:51 (0.7723 s / it)\n",
      "creating index...\n",
      "index created!\n"
     ]
    },
    {
     "name": "stderr",
     "output_type": "stream",
     "text": [
      "[W pthreadpool-cpp.cc:90] Warning: Leaking Caffe2 thread-pool after fork. (function pthreadpool)\n",
      "[W pthreadpool-cpp.cc:90] Warning: Leaking Caffe2 thread-pool after fork. (function pthreadpool)\n",
      "[W pthreadpool-cpp.cc:90] Warning: Leaking Caffe2 thread-pool after fork. (function pthreadpool)\n",
      "[W pthreadpool-cpp.cc:90] Warning: Leaking Caffe2 thread-pool after fork. (function pthreadpool)\n"
     ]
    },
    {
     "name": "stdout",
     "output_type": "stream",
     "text": [
      "Test:  [  0/126]  eta: 0:05:47  model_time: 0.5915 (0.5915)  evaluator_time: 0.0846 (0.0846)  time: 2.7565  data: 2.0238  max mem: 7921\n",
      "Test:  [100/126]  eta: 0:00:14  model_time: 0.3914 (0.3935)  evaluator_time: 0.0324 (0.0593)  time: 0.5107  data: 0.0270  max mem: 7921\n",
      "Test:  [125/126]  eta: 0:00:00  model_time: 0.3961 (0.3926)  evaluator_time: 0.0321 (0.0550)  time: 0.5020  data: 0.0266  max mem: 7921\n",
      "Test: Total time: 0:01:08 (0.5435 s / it)\n",
      "Averaged stats: model_time: 0.3961 (0.3926)  evaluator_time: 0.0321 (0.0550)\n",
      "Accumulating evaluation results...\n",
      "DONE (t=0.85s).\n",
      "IoU metric: bbox\n",
      " Average Precision  (AP) @[ IoU=0.50:0.95 | area=   all | maxDets=100 ] = 0.028\n",
      " Average Precision  (AP) @[ IoU=0.50      | area=   all | maxDets=100 ] = 0.073\n",
      " Average Precision  (AP) @[ IoU=0.75      | area=   all | maxDets=100 ] = 0.015\n",
      " Average Precision  (AP) @[ IoU=0.50:0.95 | area= small | maxDets=100 ] = 0.000\n",
      " Average Precision  (AP) @[ IoU=0.50:0.95 | area=medium | maxDets=100 ] = 0.000\n",
      " Average Precision  (AP) @[ IoU=0.50:0.95 | area= large | maxDets=100 ] = 0.059\n",
      " Average Recall     (AR) @[ IoU=0.50:0.95 | area=   all | maxDets=  1 ] = 0.067\n",
      " Average Recall     (AR) @[ IoU=0.50:0.95 | area=   all | maxDets= 10 ] = 0.233\n",
      " Average Recall     (AR) @[ IoU=0.50:0.95 | area=   all | maxDets=100 ] = 0.397\n",
      " Average Recall     (AR) @[ IoU=0.50:0.95 | area= small | maxDets=100 ] = 0.000\n",
      " Average Recall     (AR) @[ IoU=0.50:0.95 | area=medium | maxDets=100 ] = 0.112\n",
      " Average Recall     (AR) @[ IoU=0.50:0.95 | area= large | maxDets=100 ] = 0.411\n"
     ]
    },
    {
     "name": "stderr",
     "output_type": "stream",
     "text": [
      "[W pthreadpool-cpp.cc:90] Warning: Leaking Caffe2 thread-pool after fork. (function pthreadpool)\n",
      "[W pthreadpool-cpp.cc:90] Warning: Leaking Caffe2 thread-pool after fork. (function pthreadpool)\n",
      "[W pthreadpool-cpp.cc:90] Warning: Leaking Caffe2 thread-pool after fork. (function pthreadpool)\n",
      "[W pthreadpool-cpp.cc:90] Warning: Leaking Caffe2 thread-pool after fork. (function pthreadpool)\n"
     ]
    },
    {
     "name": "stdout",
     "output_type": "stream",
     "text": [
      "Epoch: [71]  [  0/377]  eta: 0:17:27  lr: 0.000063  loss: 1.1082 (1.1082)  classification: 0.6343 (0.6343)  bbox_regression: 0.4739 (0.4739)  time: 2.7778  data: 2.0415  max mem: 7921\n",
      "Epoch: [71]  [376/377]  eta: 0:00:00  lr: 0.000063  loss: 0.9633 (0.9556)  classification: 0.5814 (0.5711)  bbox_regression: 0.3765 (0.3844)  time: 0.7564  data: 0.0288  max mem: 7921\n",
      "Epoch: [71] Total time: 0:04:49 (0.7681 s / it)\n"
     ]
    },
    {
     "name": "stderr",
     "output_type": "stream",
     "text": [
      "[W pthreadpool-cpp.cc:90] Warning: Leaking Caffe2 thread-pool after fork. (function pthreadpool)\n",
      "[W pthreadpool-cpp.cc:90] Warning: Leaking Caffe2 thread-pool after fork. (function pthreadpool)\n",
      "[W pthreadpool-cpp.cc:90] Warning: Leaking Caffe2 thread-pool after fork. (function pthreadpool)\n",
      "[W pthreadpool-cpp.cc:90] Warning: Leaking Caffe2 thread-pool after fork. (function pthreadpool)\n"
     ]
    },
    {
     "name": "stdout",
     "output_type": "stream",
     "text": [
      "Epoch: [72]  [  0/377]  eta: 0:17:37  lr: 0.000063  loss: 0.9383 (0.9383)  classification: 0.5805 (0.5805)  bbox_regression: 0.3578 (0.3578)  time: 2.8044  data: 2.0529  max mem: 7921\n",
      "Epoch: [72]  [376/377]  eta: 0:00:00  lr: 0.000063  loss: 0.9471 (0.9565)  classification: 0.5660 (0.5709)  bbox_regression: 0.3810 (0.3856)  time: 0.7635  data: 0.0323  max mem: 7921\n",
      "Epoch: [72] Total time: 0:04:51 (0.7732 s / it)\n"
     ]
    },
    {
     "name": "stderr",
     "output_type": "stream",
     "text": [
      "[W pthreadpool-cpp.cc:90] Warning: Leaking Caffe2 thread-pool after fork. (function pthreadpool)\n",
      "[W pthreadpool-cpp.cc:90] Warning: Leaking Caffe2 thread-pool after fork. (function pthreadpool)\n",
      "[W pthreadpool-cpp.cc:90] Warning: Leaking Caffe2 thread-pool after fork. (function pthreadpool)\n",
      "[W pthreadpool-cpp.cc:90] Warning: Leaking Caffe2 thread-pool after fork. (function pthreadpool)\n"
     ]
    },
    {
     "name": "stdout",
     "output_type": "stream",
     "text": [
      "Epoch: [73]  [  0/377]  eta: 0:17:48  lr: 0.000063  loss: 0.9974 (0.9974)  classification: 0.5279 (0.5279)  bbox_regression: 0.4695 (0.4695)  time: 2.8350  data: 2.0819  max mem: 7921\n",
      "Epoch: [73]  [376/377]  eta: 0:00:00  lr: 0.000063  loss: 0.9309 (0.9524)  classification: 0.5747 (0.5693)  bbox_regression: 0.3770 (0.3831)  time: 0.7665  data: 0.0311  max mem: 7921\n",
      "Epoch: [73] Total time: 0:04:51 (0.7743 s / it)\n"
     ]
    },
    {
     "name": "stderr",
     "output_type": "stream",
     "text": [
      "[W pthreadpool-cpp.cc:90] Warning: Leaking Caffe2 thread-pool after fork. (function pthreadpool)\n",
      "[W pthreadpool-cpp.cc:90] Warning: Leaking Caffe2 thread-pool after fork. (function pthreadpool)\n",
      "[W pthreadpool-cpp.cc:90] Warning: Leaking Caffe2 thread-pool after fork. (function pthreadpool)\n",
      "[W pthreadpool-cpp.cc:90] Warning: Leaking Caffe2 thread-pool after fork. (function pthreadpool)\n"
     ]
    },
    {
     "name": "stdout",
     "output_type": "stream",
     "text": [
      "Epoch: [74]  [  0/377]  eta: 0:17:25  lr: 0.000063  loss: 0.9376 (0.9376)  classification: 0.5689 (0.5689)  bbox_regression: 0.3687 (0.3687)  time: 2.7722  data: 2.0274  max mem: 7921\n",
      "Epoch: [74]  [376/377]  eta: 0:00:00  lr: 0.000063  loss: 0.8962 (0.9484)  classification: 0.5425 (0.5676)  bbox_regression: 0.3542 (0.3808)  time: 0.7620  data: 0.0313  max mem: 7921\n",
      "Epoch: [74] Total time: 0:04:52 (0.7753 s / it)\n"
     ]
    },
    {
     "name": "stderr",
     "output_type": "stream",
     "text": [
      "[W pthreadpool-cpp.cc:90] Warning: Leaking Caffe2 thread-pool after fork. (function pthreadpool)\n",
      "[W pthreadpool-cpp.cc:90] Warning: Leaking Caffe2 thread-pool after fork. (function pthreadpool)\n",
      "[W pthreadpool-cpp.cc:90] Warning: Leaking Caffe2 thread-pool after fork. (function pthreadpool)\n",
      "[W pthreadpool-cpp.cc:90] Warning: Leaking Caffe2 thread-pool after fork. (function pthreadpool)\n"
     ]
    },
    {
     "name": "stdout",
     "output_type": "stream",
     "text": [
      "Epoch: [75]  [  0/377]  eta: 0:17:45  lr: 0.000031  loss: 0.9424 (0.9424)  classification: 0.5531 (0.5531)  bbox_regression: 0.3893 (0.3893)  time: 2.8269  data: 2.0887  max mem: 7921\n",
      "Epoch: [75]  [376/377]  eta: 0:00:00  lr: 0.000031  loss: 0.9298 (0.9550)  classification: 0.5633 (0.5703)  bbox_regression: 0.3665 (0.3848)  time: 0.6927  data: 0.0316  max mem: 7921\n",
      "Epoch: [75] Total time: 0:04:27 (0.7096 s / it)\n",
      "creating index...\n",
      "index created!\n"
     ]
    },
    {
     "name": "stderr",
     "output_type": "stream",
     "text": [
      "[W pthreadpool-cpp.cc:90] Warning: Leaking Caffe2 thread-pool after fork. (function pthreadpool)\n",
      "[W pthreadpool-cpp.cc:90] Warning: Leaking Caffe2 thread-pool after fork. (function pthreadpool)\n",
      "[W pthreadpool-cpp.cc:90] Warning: Leaking Caffe2 thread-pool after fork. (function pthreadpool)\n",
      "[W pthreadpool-cpp.cc:90] Warning: Leaking Caffe2 thread-pool after fork. (function pthreadpool)\n"
     ]
    },
    {
     "name": "stdout",
     "output_type": "stream",
     "text": [
      "Test:  [  0/126]  eta: 0:05:22  model_time: 0.4856 (0.4856)  evaluator_time: 0.0293 (0.0293)  time: 2.5606  data: 1.9917  max mem: 7921\n",
      "Test:  [100/126]  eta: 0:00:12  model_time: 0.3282 (0.3309)  evaluator_time: 0.0317 (0.0381)  time: 0.4497  data: 0.0297  max mem: 7921\n",
      "Test:  [125/126]  eta: 0:00:00  model_time: 0.3307 (0.3297)  evaluator_time: 0.0311 (0.0377)  time: 0.4423  data: 0.0295  max mem: 7921\n",
      "Test: Total time: 0:00:59 (0.4683 s / it)\n",
      "Averaged stats: model_time: 0.3307 (0.3297)  evaluator_time: 0.0311 (0.0377)\n",
      "Accumulating evaluation results...\n",
      "DONE (t=0.78s).\n",
      "IoU metric: bbox\n",
      " Average Precision  (AP) @[ IoU=0.50:0.95 | area=   all | maxDets=100 ] = 0.033\n",
      " Average Precision  (AP) @[ IoU=0.50      | area=   all | maxDets=100 ] = 0.083\n",
      " Average Precision  (AP) @[ IoU=0.75      | area=   all | maxDets=100 ] = 0.019\n",
      " Average Precision  (AP) @[ IoU=0.50:0.95 | area= small | maxDets=100 ] = 0.000\n",
      " Average Precision  (AP) @[ IoU=0.50:0.95 | area=medium | maxDets=100 ] = 0.000\n",
      " Average Precision  (AP) @[ IoU=0.50:0.95 | area= large | maxDets=100 ] = 0.091\n",
      " Average Recall     (AR) @[ IoU=0.50:0.95 | area=   all | maxDets=  1 ] = 0.073\n",
      " Average Recall     (AR) @[ IoU=0.50:0.95 | area=   all | maxDets= 10 ] = 0.246\n",
      " Average Recall     (AR) @[ IoU=0.50:0.95 | area=   all | maxDets=100 ] = 0.410\n",
      " Average Recall     (AR) @[ IoU=0.50:0.95 | area= small | maxDets=100 ] = 0.000\n",
      " Average Recall     (AR) @[ IoU=0.50:0.95 | area=medium | maxDets=100 ] = 0.116\n",
      " Average Recall     (AR) @[ IoU=0.50:0.95 | area= large | maxDets=100 ] = 0.424\n"
     ]
    },
    {
     "name": "stderr",
     "output_type": "stream",
     "text": [
      "[W pthreadpool-cpp.cc:90] Warning: Leaking Caffe2 thread-pool after fork. (function pthreadpool)\n",
      "[W pthreadpool-cpp.cc:90] Warning: Leaking Caffe2 thread-pool after fork. (function pthreadpool)\n",
      "[W pthreadpool-cpp.cc:90] Warning: Leaking Caffe2 thread-pool after fork. (function pthreadpool)\n",
      "[W pthreadpool-cpp.cc:90] Warning: Leaking Caffe2 thread-pool after fork. (function pthreadpool)\n"
     ]
    },
    {
     "name": "stdout",
     "output_type": "stream",
     "text": [
      "Epoch: [76]  [  0/377]  eta: 0:16:25  lr: 0.000031  loss: 0.8817 (0.8817)  classification: 0.5249 (0.5249)  bbox_regression: 0.3569 (0.3569)  time: 2.6146  data: 1.9274  max mem: 7921\n",
      "Epoch: [76]  [376/377]  eta: 0:00:00  lr: 0.000031  loss: 0.8805 (0.9445)  classification: 0.5312 (0.5649)  bbox_regression: 0.3326 (0.3797)  time: 0.6874  data: 0.0292  max mem: 7921\n",
      "Epoch: [76] Total time: 0:04:23 (0.6996 s / it)\n"
     ]
    },
    {
     "name": "stderr",
     "output_type": "stream",
     "text": [
      "[W pthreadpool-cpp.cc:90] Warning: Leaking Caffe2 thread-pool after fork. (function pthreadpool)\n",
      "[W pthreadpool-cpp.cc:90] Warning: Leaking Caffe2 thread-pool after fork. (function pthreadpool)\n",
      "[W pthreadpool-cpp.cc:90] Warning: Leaking Caffe2 thread-pool after fork. (function pthreadpool)\n",
      "[W pthreadpool-cpp.cc:90] Warning: Leaking Caffe2 thread-pool after fork. (function pthreadpool)\n"
     ]
    },
    {
     "name": "stdout",
     "output_type": "stream",
     "text": [
      "Epoch: [77]  [  0/377]  eta: 0:16:26  lr: 0.000031  loss: 1.0182 (1.0182)  classification: 0.5958 (0.5958)  bbox_regression: 0.4224 (0.4224)  time: 2.6156  data: 1.9372  max mem: 7921\n",
      "Epoch: [77]  [376/377]  eta: 0:00:00  lr: 0.000031  loss: 0.9224 (0.9474)  classification: 0.5505 (0.5656)  bbox_regression: 0.3729 (0.3818)  time: 0.6882  data: 0.0295  max mem: 7921\n",
      "Epoch: [77] Total time: 0:04:24 (0.7004 s / it)\n"
     ]
    },
    {
     "name": "stderr",
     "output_type": "stream",
     "text": [
      "[W pthreadpool-cpp.cc:90] Warning: Leaking Caffe2 thread-pool after fork. (function pthreadpool)\n",
      "[W pthreadpool-cpp.cc:90] Warning: Leaking Caffe2 thread-pool after fork. (function pthreadpool)\n",
      "[W pthreadpool-cpp.cc:90] Warning: Leaking Caffe2 thread-pool after fork. (function pthreadpool)\n",
      "[W pthreadpool-cpp.cc:90] Warning: Leaking Caffe2 thread-pool after fork. (function pthreadpool)\n"
     ]
    },
    {
     "name": "stdout",
     "output_type": "stream",
     "text": [
      "Epoch: [78]  [  0/377]  eta: 0:17:20  lr: 0.000031  loss: 0.9550 (0.9550)  classification: 0.5935 (0.5935)  bbox_regression: 0.3615 (0.3615)  time: 2.7594  data: 2.0744  max mem: 7921\n",
      "Epoch: [78]  [376/377]  eta: 0:00:00  lr: 0.000031  loss: 0.9066 (0.9450)  classification: 0.5588 (0.5633)  bbox_regression: 0.3587 (0.3818)  time: 0.6910  data: 0.0291  max mem: 7921\n",
      "Epoch: [78] Total time: 0:04:25 (0.7038 s / it)\n"
     ]
    },
    {
     "name": "stderr",
     "output_type": "stream",
     "text": [
      "[W pthreadpool-cpp.cc:90] Warning: Leaking Caffe2 thread-pool after fork. (function pthreadpool)\n",
      "[W pthreadpool-cpp.cc:90] Warning: Leaking Caffe2 thread-pool after fork. (function pthreadpool)\n",
      "[W pthreadpool-cpp.cc:90] Warning: Leaking Caffe2 thread-pool after fork. (function pthreadpool)\n",
      "[W pthreadpool-cpp.cc:90] Warning: Leaking Caffe2 thread-pool after fork. (function pthreadpool)\n"
     ]
    },
    {
     "name": "stdout",
     "output_type": "stream",
     "text": [
      "Epoch: [79]  [  0/377]  eta: 0:16:58  lr: 0.000031  loss: 0.9902 (0.9902)  classification: 0.5660 (0.5660)  bbox_regression: 0.4242 (0.4242)  time: 2.7016  data: 2.0330  max mem: 7921\n",
      "Epoch: [79]  [376/377]  eta: 0:00:00  lr: 0.000031  loss: 0.8964 (0.9493)  classification: 0.5545 (0.5665)  bbox_regression: 0.3486 (0.3829)  time: 0.6876  data: 0.0292  max mem: 7921\n",
      "Epoch: [79] Total time: 0:04:24 (0.7025 s / it)\n"
     ]
    },
    {
     "name": "stderr",
     "output_type": "stream",
     "text": [
      "[W pthreadpool-cpp.cc:90] Warning: Leaking Caffe2 thread-pool after fork. (function pthreadpool)\n",
      "[W pthreadpool-cpp.cc:90] Warning: Leaking Caffe2 thread-pool after fork. (function pthreadpool)\n",
      "[W pthreadpool-cpp.cc:90] Warning: Leaking Caffe2 thread-pool after fork. (function pthreadpool)\n",
      "[W pthreadpool-cpp.cc:90] Warning: Leaking Caffe2 thread-pool after fork. (function pthreadpool)\n"
     ]
    },
    {
     "name": "stdout",
     "output_type": "stream",
     "text": [
      "Epoch: [80]  [  0/377]  eta: 0:17:17  lr: 0.000031  loss: 0.9656 (0.9656)  classification: 0.5870 (0.5870)  bbox_regression: 0.3786 (0.3786)  time: 2.7529  data: 2.0683  max mem: 7921\n",
      "Epoch: [80]  [376/377]  eta: 0:00:00  lr: 0.000031  loss: 0.9059 (0.9471)  classification: 0.5560 (0.5635)  bbox_regression: 0.3629 (0.3837)  time: 0.6890  data: 0.0313  max mem: 7921\n",
      "Epoch: [80] Total time: 0:04:25 (0.7045 s / it)\n",
      "creating index...\n",
      "index created!\n"
     ]
    },
    {
     "name": "stderr",
     "output_type": "stream",
     "text": [
      "[W pthreadpool-cpp.cc:90] Warning: Leaking Caffe2 thread-pool after fork. (function pthreadpool)\n",
      "[W pthreadpool-cpp.cc:90] Warning: Leaking Caffe2 thread-pool after fork. (function pthreadpool)\n",
      "[W pthreadpool-cpp.cc:90] Warning: Leaking Caffe2 thread-pool after fork. (function pthreadpool)\n",
      "[W pthreadpool-cpp.cc:90] Warning: Leaking Caffe2 thread-pool after fork. (function pthreadpool)\n"
     ]
    },
    {
     "name": "stdout",
     "output_type": "stream",
     "text": [
      "Test:  [  0/126]  eta: 0:05:36  model_time: 0.4475 (0.4475)  evaluator_time: 0.0270 (0.0270)  time: 2.6684  data: 2.0435  max mem: 7921\n",
      "Test:  [100/126]  eta: 0:00:12  model_time: 0.3311 (0.3287)  evaluator_time: 0.0303 (0.0350)  time: 0.4417  data: 0.0302  max mem: 7921\n",
      "Test:  [125/126]  eta: 0:00:00  model_time: 0.3310 (0.3280)  evaluator_time: 0.0314 (0.0347)  time: 0.4368  data: 0.0280  max mem: 7921\n",
      "Test: Total time: 0:00:58 (0.4609 s / it)\n",
      "Averaged stats: model_time: 0.3310 (0.3280)  evaluator_time: 0.0314 (0.0347)\n",
      "Accumulating evaluation results...\n",
      "DONE (t=0.78s).\n",
      "IoU metric: bbox\n",
      " Average Precision  (AP) @[ IoU=0.50:0.95 | area=   all | maxDets=100 ] = 0.035\n",
      " Average Precision  (AP) @[ IoU=0.50      | area=   all | maxDets=100 ] = 0.085\n",
      " Average Precision  (AP) @[ IoU=0.75      | area=   all | maxDets=100 ] = 0.020\n",
      " Average Precision  (AP) @[ IoU=0.50:0.95 | area= small | maxDets=100 ] = 0.000\n",
      " Average Precision  (AP) @[ IoU=0.50:0.95 | area=medium | maxDets=100 ] = 0.000\n",
      " Average Precision  (AP) @[ IoU=0.50:0.95 | area= large | maxDets=100 ] = 0.090\n",
      " Average Recall     (AR) @[ IoU=0.50:0.95 | area=   all | maxDets=  1 ] = 0.077\n",
      " Average Recall     (AR) @[ IoU=0.50:0.95 | area=   all | maxDets= 10 ] = 0.252\n",
      " Average Recall     (AR) @[ IoU=0.50:0.95 | area=   all | maxDets=100 ] = 0.414\n",
      " Average Recall     (AR) @[ IoU=0.50:0.95 | area= small | maxDets=100 ] = 0.000\n",
      " Average Recall     (AR) @[ IoU=0.50:0.95 | area=medium | maxDets=100 ] = 0.116\n",
      " Average Recall     (AR) @[ IoU=0.50:0.95 | area= large | maxDets=100 ] = 0.428\n"
     ]
    },
    {
     "name": "stderr",
     "output_type": "stream",
     "text": [
      "[W pthreadpool-cpp.cc:90] Warning: Leaking Caffe2 thread-pool after fork. (function pthreadpool)\n",
      "[W pthreadpool-cpp.cc:90] Warning: Leaking Caffe2 thread-pool after fork. (function pthreadpool)\n",
      "[W pthreadpool-cpp.cc:90] Warning: Leaking Caffe2 thread-pool after fork. (function pthreadpool)\n",
      "[W pthreadpool-cpp.cc:90] Warning: Leaking Caffe2 thread-pool after fork. (function pthreadpool)\n"
     ]
    },
    {
     "name": "stdout",
     "output_type": "stream",
     "text": [
      "Epoch: [81]  [  0/377]  eta: 0:17:58  lr: 0.000031  loss: 0.9604 (0.9604)  classification: 0.5548 (0.5548)  bbox_regression: 0.4056 (0.4056)  time: 2.8608  data: 2.1114  max mem: 7921\n",
      "Epoch: [81]  [376/377]  eta: 0:00:00  lr: 0.000031  loss: 0.9429 (0.9429)  classification: 0.5689 (0.5621)  bbox_regression: 0.3878 (0.3809)  time: 0.6911  data: 0.0294  max mem: 7921\n",
      "Epoch: [81] Total time: 0:04:25 (0.7041 s / it)\n"
     ]
    },
    {
     "name": "stderr",
     "output_type": "stream",
     "text": [
      "[W pthreadpool-cpp.cc:90] Warning: Leaking Caffe2 thread-pool after fork. (function pthreadpool)\n",
      "[W pthreadpool-cpp.cc:90] Warning: Leaking Caffe2 thread-pool after fork. (function pthreadpool)\n",
      "[W pthreadpool-cpp.cc:90] Warning: Leaking Caffe2 thread-pool after fork. (function pthreadpool)\n",
      "[W pthreadpool-cpp.cc:90] Warning: Leaking Caffe2 thread-pool after fork. (function pthreadpool)\n"
     ]
    },
    {
     "name": "stdout",
     "output_type": "stream",
     "text": [
      "Epoch: [82]  [  0/377]  eta: 0:17:33  lr: 0.000031  loss: 0.9872 (0.9872)  classification: 0.5932 (0.5932)  bbox_regression: 0.3940 (0.3940)  time: 2.7944  data: 2.1309  max mem: 7921\n",
      "Epoch: [82]  [376/377]  eta: 0:00:00  lr: 0.000031  loss: 0.9290 (0.9425)  classification: 0.5561 (0.5620)  bbox_regression: 0.3870 (0.3804)  time: 0.6881  data: 0.0294  max mem: 7921\n",
      "Epoch: [82] Total time: 0:04:25 (0.7040 s / it)\n"
     ]
    },
    {
     "name": "stderr",
     "output_type": "stream",
     "text": [
      "[W pthreadpool-cpp.cc:90] Warning: Leaking Caffe2 thread-pool after fork. (function pthreadpool)\n",
      "[W pthreadpool-cpp.cc:90] Warning: Leaking Caffe2 thread-pool after fork. (function pthreadpool)\n",
      "[W pthreadpool-cpp.cc:90] Warning: Leaking Caffe2 thread-pool after fork. (function pthreadpool)\n",
      "[W pthreadpool-cpp.cc:90] Warning: Leaking Caffe2 thread-pool after fork. (function pthreadpool)\n"
     ]
    },
    {
     "name": "stdout",
     "output_type": "stream",
     "text": [
      "Epoch: [83]  [  0/377]  eta: 0:16:50  lr: 0.000031  loss: 0.8973 (0.8973)  classification: 0.5429 (0.5429)  bbox_regression: 0.3544 (0.3544)  time: 2.6797  data: 2.0055  max mem: 7921\n",
      "Epoch: [83]  [376/377]  eta: 0:00:00  lr: 0.000031  loss: 0.8896 (0.9396)  classification: 0.5454 (0.5603)  bbox_regression: 0.3372 (0.3793)  time: 0.6962  data: 0.0299  max mem: 7921\n",
      "Epoch: [83] Total time: 0:04:26 (0.7066 s / it)\n"
     ]
    },
    {
     "name": "stderr",
     "output_type": "stream",
     "text": [
      "[W pthreadpool-cpp.cc:90] Warning: Leaking Caffe2 thread-pool after fork. (function pthreadpool)\n",
      "[W pthreadpool-cpp.cc:90] Warning: Leaking Caffe2 thread-pool after fork. (function pthreadpool)\n",
      "[W pthreadpool-cpp.cc:90] Warning: Leaking Caffe2 thread-pool after fork. (function pthreadpool)\n",
      "[W pthreadpool-cpp.cc:90] Warning: Leaking Caffe2 thread-pool after fork. (function pthreadpool)\n"
     ]
    },
    {
     "name": "stdout",
     "output_type": "stream",
     "text": [
      "Epoch: [84]  [  0/377]  eta: 0:17:04  lr: 0.000031  loss: 0.9628 (0.9628)  classification: 0.5770 (0.5770)  bbox_regression: 0.3858 (0.3858)  time: 2.7179  data: 2.0340  max mem: 7921\n",
      "Epoch: [84]  [376/377]  eta: 0:00:00  lr: 0.000031  loss: 0.9358 (0.9375)  classification: 0.5562 (0.5595)  bbox_regression: 0.3720 (0.3780)  time: 0.6907  data: 0.0290  max mem: 7921\n",
      "Epoch: [84] Total time: 0:04:24 (0.7018 s / it)\n"
     ]
    },
    {
     "name": "stderr",
     "output_type": "stream",
     "text": [
      "[W pthreadpool-cpp.cc:90] Warning: Leaking Caffe2 thread-pool after fork. (function pthreadpool)\n",
      "[W pthreadpool-cpp.cc:90] Warning: Leaking Caffe2 thread-pool after fork. (function pthreadpool)\n",
      "[W pthreadpool-cpp.cc:90] Warning: Leaking Caffe2 thread-pool after fork. (function pthreadpool)\n",
      "[W pthreadpool-cpp.cc:90] Warning: Leaking Caffe2 thread-pool after fork. (function pthreadpool)\n"
     ]
    },
    {
     "name": "stdout",
     "output_type": "stream",
     "text": [
      "Epoch: [85]  [  0/377]  eta: 0:17:22  lr: 0.000031  loss: 0.8304 (0.8304)  classification: 0.5088 (0.5088)  bbox_regression: 0.3216 (0.3216)  time: 2.7661  data: 2.0840  max mem: 7921\n",
      "Epoch: [85]  [376/377]  eta: 0:00:00  lr: 0.000031  loss: 0.9078 (0.9388)  classification: 0.5381 (0.5586)  bbox_regression: 0.3819 (0.3803)  time: 0.6851  data: 0.0295  max mem: 7921\n",
      "Epoch: [85] Total time: 0:04:24 (0.7025 s / it)\n",
      "creating index...\n",
      "index created!\n"
     ]
    },
    {
     "name": "stderr",
     "output_type": "stream",
     "text": [
      "[W pthreadpool-cpp.cc:90] Warning: Leaking Caffe2 thread-pool after fork. (function pthreadpool)\n",
      "[W pthreadpool-cpp.cc:90] Warning: Leaking Caffe2 thread-pool after fork. (function pthreadpool)\n",
      "[W pthreadpool-cpp.cc:90] Warning: Leaking Caffe2 thread-pool after fork. (function pthreadpool)\n",
      "[W pthreadpool-cpp.cc:90] Warning: Leaking Caffe2 thread-pool after fork. (function pthreadpool)\n"
     ]
    },
    {
     "name": "stdout",
     "output_type": "stream",
     "text": [
      "Test:  [  0/126]  eta: 0:06:18  model_time: 0.9867 (0.9867)  evaluator_time: 0.1020 (0.1020)  time: 3.0074  data: 1.8653  max mem: 7921\n",
      "Test:  [100/126]  eta: 0:00:12  model_time: 0.3289 (0.3400)  evaluator_time: 0.0316 (0.0520)  time: 0.4461  data: 0.0278  max mem: 7921\n",
      "Test:  [125/126]  eta: 0:00:00  model_time: 0.3299 (0.3378)  evaluator_time: 0.0323 (0.0488)  time: 0.4419  data: 0.0278  max mem: 7921\n",
      "Test: Total time: 0:01:00 (0.4815 s / it)\n",
      "Averaged stats: model_time: 0.3299 (0.3378)  evaluator_time: 0.0323 (0.0488)\n",
      "Accumulating evaluation results...\n",
      "DONE (t=0.82s).\n",
      "IoU metric: bbox\n",
      " Average Precision  (AP) @[ IoU=0.50:0.95 | area=   all | maxDets=100 ] = 0.032\n",
      " Average Precision  (AP) @[ IoU=0.50      | area=   all | maxDets=100 ] = 0.082\n",
      " Average Precision  (AP) @[ IoU=0.75      | area=   all | maxDets=100 ] = 0.017\n",
      " Average Precision  (AP) @[ IoU=0.50:0.95 | area= small | maxDets=100 ] = 0.000\n",
      " Average Precision  (AP) @[ IoU=0.50:0.95 | area=medium | maxDets=100 ] = 0.000\n",
      " Average Precision  (AP) @[ IoU=0.50:0.95 | area= large | maxDets=100 ] = 0.072\n",
      " Average Recall     (AR) @[ IoU=0.50:0.95 | area=   all | maxDets=  1 ] = 0.073\n",
      " Average Recall     (AR) @[ IoU=0.50:0.95 | area=   all | maxDets= 10 ] = 0.245\n",
      " Average Recall     (AR) @[ IoU=0.50:0.95 | area=   all | maxDets=100 ] = 0.413\n",
      " Average Recall     (AR) @[ IoU=0.50:0.95 | area= small | maxDets=100 ] = 0.000\n",
      " Average Recall     (AR) @[ IoU=0.50:0.95 | area=medium | maxDets=100 ] = 0.100\n",
      " Average Recall     (AR) @[ IoU=0.50:0.95 | area= large | maxDets=100 ] = 0.427\n"
     ]
    },
    {
     "name": "stderr",
     "output_type": "stream",
     "text": [
      "[W pthreadpool-cpp.cc:90] Warning: Leaking Caffe2 thread-pool after fork. (function pthreadpool)\n",
      "[W pthreadpool-cpp.cc:90] Warning: Leaking Caffe2 thread-pool after fork. (function pthreadpool)\n",
      "[W pthreadpool-cpp.cc:90] Warning: Leaking Caffe2 thread-pool after fork. (function pthreadpool)\n",
      "[W pthreadpool-cpp.cc:90] Warning: Leaking Caffe2 thread-pool after fork. (function pthreadpool)\n"
     ]
    },
    {
     "name": "stdout",
     "output_type": "stream",
     "text": [
      "Epoch: [86]  [  0/377]  eta: 0:18:03  lr: 0.000031  loss: 0.5830 (0.5830)  classification: 0.4129 (0.4129)  bbox_regression: 0.1700 (0.1700)  time: 2.8730  data: 1.9224  max mem: 7921\n",
      "Epoch: [86]  [376/377]  eta: 0:00:00  lr: 0.000031  loss: 0.9393 (0.9440)  classification: 0.5570 (0.5654)  bbox_regression: 0.3773 (0.3786)  time: 0.6879  data: 0.0293  max mem: 7921\n",
      "Epoch: [86] Total time: 0:04:23 (0.6994 s / it)\n"
     ]
    },
    {
     "name": "stderr",
     "output_type": "stream",
     "text": [
      "[W pthreadpool-cpp.cc:90] Warning: Leaking Caffe2 thread-pool after fork. (function pthreadpool)\n",
      "[W pthreadpool-cpp.cc:90] Warning: Leaking Caffe2 thread-pool after fork. (function pthreadpool)\n",
      "[W pthreadpool-cpp.cc:90] Warning: Leaking Caffe2 thread-pool after fork. (function pthreadpool)\n",
      "[W pthreadpool-cpp.cc:90] Warning: Leaking Caffe2 thread-pool after fork. (function pthreadpool)\n"
     ]
    },
    {
     "name": "stdout",
     "output_type": "stream",
     "text": [
      "Epoch: [87]  [  0/377]  eta: 0:16:46  lr: 0.000031  loss: 0.9506 (0.9506)  classification: 0.5507 (0.5507)  bbox_regression: 0.3999 (0.3999)  time: 2.6692  data: 1.9905  max mem: 7921\n",
      "Epoch: [87]  [376/377]  eta: 0:00:00  lr: 0.000031  loss: 0.9600 (0.9427)  classification: 0.5554 (0.5627)  bbox_regression: 0.3909 (0.3800)  time: 0.6966  data: 0.0379  max mem: 7921\n",
      "Epoch: [87] Total time: 0:04:24 (0.7026 s / it)\n"
     ]
    },
    {
     "name": "stderr",
     "output_type": "stream",
     "text": [
      "[W pthreadpool-cpp.cc:90] Warning: Leaking Caffe2 thread-pool after fork. (function pthreadpool)\n",
      "[W pthreadpool-cpp.cc:90] Warning: Leaking Caffe2 thread-pool after fork. (function pthreadpool)\n",
      "[W pthreadpool-cpp.cc:90] Warning: Leaking Caffe2 thread-pool after fork. (function pthreadpool)\n",
      "[W pthreadpool-cpp.cc:90] Warning: Leaking Caffe2 thread-pool after fork. (function pthreadpool)\n"
     ]
    },
    {
     "name": "stdout",
     "output_type": "stream",
     "text": [
      "Epoch: [88]  [  0/377]  eta: 0:16:50  lr: 0.000031  loss: 0.8801 (0.8801)  classification: 0.5427 (0.5427)  bbox_regression: 0.3374 (0.3374)  time: 2.6797  data: 2.0192  max mem: 7921\n",
      "Epoch: [88]  [376/377]  eta: 0:00:00  lr: 0.000031  loss: 0.8716 (0.9409)  classification: 0.5394 (0.5607)  bbox_regression: 0.3493 (0.3802)  time: 0.6905  data: 0.0281  max mem: 7921\n",
      "Epoch: [88] Total time: 0:04:25 (0.7049 s / it)\n"
     ]
    },
    {
     "name": "stderr",
     "output_type": "stream",
     "text": [
      "[W pthreadpool-cpp.cc:90] Warning: Leaking Caffe2 thread-pool after fork. (function pthreadpool)\n",
      "[W pthreadpool-cpp.cc:90] Warning: Leaking Caffe2 thread-pool after fork. (function pthreadpool)\n",
      "[W pthreadpool-cpp.cc:90] Warning: Leaking Caffe2 thread-pool after fork. (function pthreadpool)\n",
      "[W pthreadpool-cpp.cc:90] Warning: Leaking Caffe2 thread-pool after fork. (function pthreadpool)\n"
     ]
    },
    {
     "name": "stdout",
     "output_type": "stream",
     "text": [
      "Epoch: [89]  [  0/377]  eta: 0:16:15  lr: 0.000031  loss: 0.9420 (0.9420)  classification: 0.5894 (0.5894)  bbox_regression: 0.3526 (0.3526)  time: 2.5880  data: 1.9205  max mem: 7921\n",
      "Epoch: [89]  [376/377]  eta: 0:00:00  lr: 0.000031  loss: 0.9370 (0.9394)  classification: 0.5424 (0.5591)  bbox_regression: 0.3808 (0.3803)  time: 0.6870  data: 0.0281  max mem: 7921\n",
      "Epoch: [89] Total time: 0:04:24 (0.7005 s / it)\n",
      "total time is 31312.228939294815\n"
     ]
    }
   ],
   "source": [
    "from train_lbp import train_one_epoch\n",
    "\n",
    "start_time = time.time()\n",
    "for epoch in range(90):\n",
    "    train_one_epoch(model, optimizer, train_loader, device, epoch, 400)\n",
    "    lr_scheduler.step()\n",
    "    \n",
    "    if epoch > 20 and epoch % 5 == 0 :\n",
    "        if args.output_dir:\n",
    "            checkpoint = {\n",
    "                'model': model.state_dict(),\n",
    "                'optimizer': optimizer.state_dict(),\n",
    "                'lr_scheduler': lr_scheduler.state_dict(),\n",
    "                'args': args,\n",
    "                'epoch': epoch\n",
    "            }\n",
    "            utils.save_on_master(\n",
    "                checkpoint,\n",
    "                os.path.join(args.output_dir, 'model_{}.pth'.format(epoch)))\n",
    "            utils.save_on_master(\n",
    "                checkpoint,\n",
    "                os.path.join(args.output_dir, 'checkpoint.pth'))\n",
    "\n",
    "        # evaluate after every epoch\n",
    "        evaluate(model, test_loader, device=device)    \n",
    "print('total time is {}'.format(time.time() - start_time))    "
   ]
  },
  {
   "cell_type": "code",
   "execution_count": 11,
   "id": "3069370c-2102-4b16-a70a-2884b2e5e4f5",
   "metadata": {},
   "outputs": [
    {
     "name": "stdout",
     "output_type": "stream",
     "text": [
      "creating index...\n",
      "index created!\n"
     ]
    },
    {
     "name": "stderr",
     "output_type": "stream",
     "text": [
      "[W pthreadpool-cpp.cc:90] Warning: Leaking Caffe2 thread-pool after fork. (function pthreadpool)\n",
      "[W pthreadpool-cpp.cc:90] Warning: Leaking Caffe2 thread-pool after fork. (function pthreadpool)\n",
      "[W pthreadpool-cpp.cc:90] Warning: Leaking Caffe2 thread-pool after fork. (function pthreadpool)\n",
      "[W pthreadpool-cpp.cc:90] Warning: Leaking Caffe2 thread-pool after fork. (function pthreadpool)\n"
     ]
    },
    {
     "name": "stdout",
     "output_type": "stream",
     "text": [
      "Test:  [  0/126]  eta: 0:05:13  model_time: 0.4888 (0.4888)  evaluator_time: 0.0631 (0.0631)  time: 2.4860  data: 1.8805  max mem: 7921\n",
      "Test:  [100/126]  eta: 0:00:12  model_time: 0.3296 (0.3345)  evaluator_time: 0.0310 (0.0355)  time: 0.4481  data: 0.0297  max mem: 7921\n",
      "Test:  [125/126]  eta: 0:00:00  model_time: 0.3290 (0.3326)  evaluator_time: 0.0309 (0.0345)  time: 0.4322  data: 0.0287  max mem: 7921\n",
      "Test: Total time: 0:00:58 (0.4642 s / it)\n",
      "Averaged stats: model_time: 0.3290 (0.3326)  evaluator_time: 0.0309 (0.0345)\n",
      "Accumulating evaluation results...\n",
      "DONE (t=0.91s).\n",
      "IoU metric: bbox\n",
      " Average Precision  (AP) @[ IoU=0.50:0.95 | area=   all | maxDets=100 ] = 0.037\n",
      " Average Precision  (AP) @[ IoU=0.50      | area=   all | maxDets=100 ] = 0.093\n",
      " Average Precision  (AP) @[ IoU=0.75      | area=   all | maxDets=100 ] = 0.021\n",
      " Average Precision  (AP) @[ IoU=0.50:0.95 | area= small | maxDets=100 ] = 0.000\n",
      " Average Precision  (AP) @[ IoU=0.50:0.95 | area=medium | maxDets=100 ] = 0.000\n",
      " Average Precision  (AP) @[ IoU=0.50:0.95 | area= large | maxDets=100 ] = 0.086\n",
      " Average Recall     (AR) @[ IoU=0.50:0.95 | area=   all | maxDets=  1 ] = 0.078\n",
      " Average Recall     (AR) @[ IoU=0.50:0.95 | area=   all | maxDets= 10 ] = 0.250\n",
      " Average Recall     (AR) @[ IoU=0.50:0.95 | area=   all | maxDets=100 ] = 0.411\n",
      " Average Recall     (AR) @[ IoU=0.50:0.95 | area= small | maxDets=100 ] = 0.000\n",
      " Average Recall     (AR) @[ IoU=0.50:0.95 | area=medium | maxDets=100 ] = 0.112\n",
      " Average Recall     (AR) @[ IoU=0.50:0.95 | area= large | maxDets=100 ] = 0.425\n"
     ]
    },
    {
     "data": {
      "text/plain": [
       "<coco_eval.CocoEvaluator at 0x2b41ee067af0>"
      ]
     },
     "execution_count": 11,
     "metadata": {},
     "output_type": "execute_result"
    }
   ],
   "source": [
    "evaluate(model, test_loader, device=device) "
   ]
  },
  {
   "cell_type": "code",
   "execution_count": null,
   "id": "e9e1d996-80e3-4b0f-bcb7-2fa49564d64c",
   "metadata": {},
   "outputs": [],
   "source": []
  }
 ],
 "metadata": {
  "kernelspec": {
   "display_name": "pytorch",
   "language": "python",
   "name": "pytorch"
  },
  "language_info": {
   "codemirror_mode": {
    "name": "ipython",
    "version": 3
   },
   "file_extension": ".py",
   "mimetype": "text/x-python",
   "name": "python",
   "nbconvert_exporter": "python",
   "pygments_lexer": "ipython3",
   "version": "3.8.11"
  }
 },
 "nbformat": 4,
 "nbformat_minor": 5
}
